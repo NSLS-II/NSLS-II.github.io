{
  "cells": [
    {
      "cell_type": "code",
      "execution_count": null,
      "metadata": {
        "collapsed": false
      },
      "outputs": [],
      "source": [
        "%matplotlib inline"
      ]
    },
    {
      "cell_type": "markdown",
      "metadata": {},
      "source": [
        "\nStreaming Tomographic Reconstruction\n************************************\n\nProblem\n-------\n\nReconstruct a 2D cross-section of a sample from projections, as if it were\nrotated in place in front of a strip detector.\n\nThis example uses the library `tomopy <https://tomopy.readthedocs.io>`_.\n\nApproach\n--------\n\nCreate a simulated detector coupled to a simulated motor, standing in for the\nstrip detector and the rotating sample holder. Scan the motor from zero to pi,\nand use tomopy to generate simulated projections of a sample at several angles.\nThis provides our simulated dataset.\n\nNow, use tomopy to reconstruct the sample \"density\" from these projections.\nTo give tomopy live access to the data, wrap it in a class that acts as a\nbluesky callback, an interface between tomopy and bluesky's document model.\n\nAlso make a callback for visualizing the projections side by side (a sinogram).\n\nExample Solution\n----------------\n\n"
      ]
    },
    {
      "cell_type": "code",
      "execution_count": null,
      "metadata": {
        "collapsed": false
      },
      "outputs": [],
      "source": [
        "import glob\nimport imageio\nimport matplotlib.pyplot as plt\nimport numpy as np\n\nimport tomopy\n\nimport bluesky.plans as bp\nfrom bluesky import RunEngine\nfrom bluesky.callbacks import LiveTable, CallbackBase\nfrom bluesky.utils import install_qt_kicker\nfrom ophyd import Device, Signal, Component as Cpt\nfrom ophyd.sim import SynAxis, NullStatus\n\nL = 64\nobj = tomopy.cameraman(L)\n# obj = tomopy.checkerboard(L)\n# obj = tomopy.baboon(L)\n# obj = tomopy.lena(L)\n\nclass TomoDet(Device):\n    image = Cpt(Signal)\n    def trigger(self):\n        super().trigger()\n        self.image.put(tomopy.project(obj, angle.read()['angle']['value']))\n        return NullStatus()\n\ndet = TomoDet(name='det')\nangle = SynAxis(name='angle')\n\nRE = RunEngine({})\n\n# Do this if running the example interactively;\n# skip it when building the documentation.\nimport os\nif 'BUILDING_DOCS' not in os.environ:\n    from bluesky.utils import install_qt_kicker  # for notebooks, qt -> nb\n    install_qt_kicker()\n    plt.ion()\n    angle._fake_sleep = 0.001  # simulate slow motor movement\n\n\nclass LiveRecon(CallbackBase):\n    SMALL = 1e-6\n\n    def __init__(self, name, x, y, ax=None, **recon_kwargs):\n        if ax is None:\n            ax = plt.gca()\n        ax.set_title('Reconstruction using Tomopy')\n        ax.set_xlabel('x')\n        ax.set_ylabel('y')\n        self.im = ax.imshow(np.zeros((y, x)), origin='upper')\n        recon_kwargs.setdefault('num_gridx', x)\n        recon_kwargs.setdefault('num_gridy', y)\n        self._name = name\n        self._x, self._y = x, y\n        self._recon_kwargs = recon_kwargs\n\n    def start(self, doc):\n        self._partial = self.SMALL * np.ones((self._y, self._x))\n\n    def event(self, doc):\n        data = doc['data'][self._name]\n        angle = doc['data']['angle']\n        self._partial = tomopy.recon(data, angle, **self._recon_kwargs,\n                                     init_recon=self._partial)\n        self.im.set_data(self._partial)\n        self.im.set_clim((np.min(self._partial), np.max(self._partial)))\n        self.im.figure.canvas.draw_idle()\n\nclass LiveSinogram(CallbackBase):\n    def __init__(self, name, width, ax=None):\n        if ax is None:\n            ax = plt.gca()\n        ax.set_title('Sinogram')\n        ax.set_xlabel('sequence number')\n        ax.set_ylabel('detector position')\n        self.im = ax.imshow(np.zeros((1, width)), aspect='auto')\n        ax.figure.colorbar(self.im, ax=ax)\n        self._name = name\n        self._width = width\n\n    def start(self, doc):\n        self._cache = []\n\n    def event(self, doc):\n        self._cache.append(doc['data'][self._name][0][0])\n        arr = np.asarray(self._cache)\n        self.im.set_data(arr.T)\n        self.im.set_extent((0, len(self._cache), 0, self._width))\n        self.im.set_clim((arr.min(), arr.max()))\n        self.im.figure.canvas.draw_idle()\n\n\nclass LiveSaving(CallbackBase):\n    def __init__(self, fig=None):\n        self._fig = fig\n\n    def event(self, doc):\n        angle = doc['data']['angle']\n        if self._fig:\n            self._fig.savefig(f'recon_{angle:3.3f}.png')\n\n\nfig, (ax1, ax2) = plt.subplots(1, 2, figsize=(12, 6))\n\nlt = LiveTable([angle])\nls = LiveSinogram(f'{det.name}_image', 94, ax=ax1)\nlr = LiveRecon(f'{det.name}_image', L, L, algorithm='art', ax=ax2)\nlsv = LiveSaving(fig=fig)\n\nRE(bp.scan([det], angle, 0, np.pi, 100), [lt, ls, lr, lsv])\n\nwith imageio.get_writer('recon.gif', mode='I') as writer:\n    for fn in sorted(glob.glob('recon_*.png')):\n        image = imageio.imread(fn)\n        writer.append_data(image)"
      ]
    }
  ],
  "metadata": {
    "kernelspec": {
      "display_name": "Python 3",
      "language": "python",
      "name": "python3"
    },
    "language_info": {
      "codemirror_mode": {
        "name": "ipython",
        "version": 3
      },
      "file_extension": ".py",
      "mimetype": "text/x-python",
      "name": "python",
      "nbconvert_exporter": "python",
      "pygments_lexer": "ipython3",
      "version": "3.6.3"
    }
  },
  "nbformat": 4,
  "nbformat_minor": 0
}