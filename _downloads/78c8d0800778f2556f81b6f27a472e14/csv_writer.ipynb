{
  "cells": [
    {
      "cell_type": "code",
      "execution_count": null,
      "metadata": {
        "collapsed": false
      },
      "outputs": [],
      "source": [
        "%matplotlib inline"
      ]
    },
    {
      "cell_type": "markdown",
      "metadata": {},
      "source": [
        "\n# A Minimal CSV writer for data collection\n\n\nProblem\n-------\n\nWrite (a subset of) the data to a CSV file during data collection.\n\nApproach\n--------\n\nWrite a callback function that integrates Python's built-in csv module with\nbluesky.\n\nExample Solution\n----------------\n\n\n"
      ]
    },
    {
      "cell_type": "markdown",
      "metadata": {},
      "source": [
        "Boiler plate imports and configuration\n\n"
      ]
    },
    {
      "cell_type": "code",
      "execution_count": null,
      "metadata": {
        "collapsed": false
      },
      "outputs": [],
      "source": [
        "import path\nimport os\nimport bluesky as bs\nimport bluesky.plans as bp\nimport bluesky.callbacks as bc\nimport csv\nfrom ophyd.sim import motor, det\n\nimport matplotlib.pyplot as plt\n\n\n# Do this if running the example interactively;\n# skip it when building the documentation.\nimport os\nif 'BUILDING_DOCS' not in os.environ:\n    from bluesky.utils import install_qt_kicker  # for notebooks, qt -> nb\n    install_qt_kicker()\n    plt.ion()\n    det.exposure_time = .1  # simulate detector exposure time\n\nRE = bs.RunEngine({})"
      ]
    },
    {
      "cell_type": "markdown",
      "metadata": {},
      "source": [
        "Define a callback class which writes out a CSV file\n\n"
      ]
    },
    {
      "cell_type": "code",
      "execution_count": null,
      "metadata": {
        "collapsed": false
      },
      "outputs": [],
      "source": [
        "class CSVWriter(bc.CallbackBase):\n    def __init__(self, fields, fname_format, fpath):\n        self._path = path.Path(fpath)\n        os.makedirs(self._path, exist_ok=True)\n        self._fname_fomat = fname_format\n        self._fields = fields\n        self._writer = None\n        self._fout = None\n\n    def close(self):\n        if self._fout is not None:\n            self._fout.close()\n        self._fout = None\n        self._writer = None\n\n    def start(self, doc):\n        self.close()\n\n        fname = self._path / self._fname_fomat.format(**doc)\n\n        self._fout = open(fname, 'xt')\n        self._writer = csv.writer(self._fout)\n\n    def descriptor(self, doc):\n        if self._writer is not None:\n            self._writer.writerow(self._fields)\n\n    def event(self, doc):\n        data = doc['data']\n        if self._writer is not None:\n            self._writer.writerow(data[k] for k in self._fields)\n\n    def stop(self, doc):\n        self.close()"
      ]
    },
    {
      "cell_type": "markdown",
      "metadata": {},
      "source": [
        "Set up some callbacks\n\n"
      ]
    },
    {
      "cell_type": "code",
      "execution_count": null,
      "metadata": {
        "collapsed": false
      },
      "outputs": [],
      "source": [
        "def create_cbs():\n    return [bc.LiveTable([motor, det]), bc.LivePlot('det', 'motor')]\n\nfmt = '{user}_{uid:.6s}.csv'\nexport_path = '/tmp/export_demo'\ncsv_writer = CSVWriter(('motor', 'det'), fmt, export_path)\n\n# send all documents to the CSV writer\nRE.subscribe('all', csv_writer)"
      ]
    },
    {
      "cell_type": "markdown",
      "metadata": {},
      "source": [
        "run the scan\n\n"
      ]
    },
    {
      "cell_type": "code",
      "execution_count": null,
      "metadata": {
        "collapsed": false
      },
      "outputs": [],
      "source": [
        "uid, = RE(bp.scan([det], motor, -5, 5, 11),\n          create_cbs(), user='tcaswell')"
      ]
    },
    {
      "cell_type": "markdown",
      "metadata": {},
      "source": [
        "check file\n\n"
      ]
    },
    {
      "cell_type": "code",
      "execution_count": null,
      "metadata": {
        "collapsed": false
      },
      "outputs": [],
      "source": [
        "fname = os.path.join(export_path,\n                     '{user}_{uid:.6s}.csv'.format(user='tcaswell', uid=uid))\n\nprint(\"--- {} ---\".format(fname))\nwith open(fname, 'r') as fin:\n    for ln in fin:\n        print(ln.strip())"
      ]
    }
  ],
  "metadata": {
    "kernelspec": {
      "display_name": "Python 3",
      "language": "python",
      "name": "python3"
    },
    "language_info": {
      "codemirror_mode": {
        "name": "ipython",
        "version": 3
      },
      "file_extension": ".py",
      "mimetype": "text/x-python",
      "name": "python",
      "nbconvert_exporter": "python",
      "pygments_lexer": "ipython3",
      "version": "3.6.3"
    }
  },
  "nbformat": 4,
  "nbformat_minor": 0
}