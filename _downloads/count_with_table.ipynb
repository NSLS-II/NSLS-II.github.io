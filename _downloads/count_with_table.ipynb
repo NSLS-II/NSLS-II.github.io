{
  "cells": [
    {
      "cell_type": "code",
      "execution_count": null,
      "metadata": {
        "collapsed": false
      },
      "outputs": [],
      "source": [
        "%matplotlib inline"
      ]
    },
    {
      "cell_type": "markdown",
      "metadata": {},
      "source": [
        "\nSimply 'count' a detector\n*************************\n\nProblem\n-------\n\nTake five sequential readings of a detector.\n\nApproach\n--------\n\nExecute :func:`bluesky.plans.count` with a simulated detector (which could be\nsubstituted by a real detector from ophyd) and display the reading using\n:func:`bluesky.callbacks.LiveTable`.\n\nExample Solution\n----------------\n\n"
      ]
    },
    {
      "cell_type": "code",
      "execution_count": null,
      "metadata": {
        "collapsed": false
      },
      "outputs": [],
      "source": [
        "import bluesky.plans as bp\nimport bluesky.callbacks as bc\nfrom bluesky import RunEngine\nfrom ophyd.sim import det  # a simulated detector\n\nRE = RunEngine({})\n\nRE(bp.count([det], num=5), bc.LiveTable([det]))"
      ]
    }
  ],
  "metadata": {
    "kernelspec": {
      "display_name": "Python 3",
      "language": "python",
      "name": "python3"
    },
    "language_info": {
      "codemirror_mode": {
        "name": "ipython",
        "version": 3
      },
      "file_extension": ".py",
      "mimetype": "text/x-python",
      "name": "python",
      "nbconvert_exporter": "python",
      "pygments_lexer": "ipython3",
      "version": "3.6.3"
    }
  },
  "nbformat": 4,
  "nbformat_minor": 0
}