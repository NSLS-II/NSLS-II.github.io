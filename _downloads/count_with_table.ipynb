{
  "cells": [
    {
      "source": [
        "%matplotlib inline"
      ],
      "cell_type": "code",
      "execution_count": null,
      "outputs": [],
      "metadata": {
        "collapsed": false
      }
    },
    {
      "cell_type": "markdown",
      "source": [
        "\nSimply 'count' a detector\n*************************\n\nProblem\n-------\n\nTake five sequential readings of a detector.\n\nApproach\n--------\n\nExecute :func:`bluesky.plans.count` with a simulated detector (which could be\nsubstituted by a real detector from ophyd) and display the reading using\n:func:`bluesky.callbacks.LiveTable`.\n\nExample Solution\n----------------\n\n"
      ],
      "metadata": {}
    },
    {
      "source": [
        "import bluesky.plans as bp\nimport bluesky.callbacks as bc\nfrom bluesky import RunEngine\nfrom bluesky.examples import det  # a simulated detector\n\nRE = RunEngine({})\n\nRE(bp.count([det], num=5), bc.LiveTable([det]))"
      ],
      "cell_type": "code",
      "execution_count": null,
      "outputs": [],
      "metadata": {
        "collapsed": false
      }
    }
  ],
  "nbformat_minor": 0,
  "metadata": {
    "kernelspec": {
      "language": "python",
      "name": "python3",
      "display_name": "Python 3"
    },
    "language_info": {
      "nbconvert_exporter": "python",
      "pygments_lexer": "ipython3",
      "name": "python",
      "version": "3.5.2",
      "file_extension": ".py",
      "codemirror_mode": {
        "name": "ipython",
        "version": 3
      },
      "mimetype": "text/x-python"
    }
  },
  "nbformat": 4
}