{
  "cells": [
    {
      "source": [
        "%matplotlib inline"
      ],
      "cell_type": "code",
      "execution_count": null,
      "outputs": [],
      "metadata": {
        "collapsed": false
      }
    },
    {
      "cell_type": "markdown",
      "source": [
        "\n# A Minimal CSV writer for data collection\n\n\nProblem\n-------\n\nWrite (a subset of) the data to a CSV file during data collection.\n\nApproach\n--------\n\nWrite a callback function that integrates Python's built-in csv module with\nbluesky.\n\nExample Solution\n----------------\n\n\n"
      ],
      "metadata": {}
    },
    {
      "cell_type": "markdown",
      "source": [
        "Boiler plate imports and configuration\n\n"
      ],
      "metadata": {}
    },
    {
      "source": [
        "import path\nimport os\nimport bluesky as bs\nimport bluesky.plans as bp\nimport bluesky.callbacks as bc\nimport csv\nfrom bluesky.examples import motor, det\n\nimport matplotlib.pyplot as plt\n\n\n# Do this if running the example interactively;\n# skip it when building the documentation.\nimport os\nif 'BUILDING_DOCS' not in os.environ:\n    from bluesky.utils import install_qt_kicker  # for notebooks, qt -> nb\n    install_qt_kicker()\n    plt.ion()\n    det.exposure_time = .1  # simulate detector exposure time\n\nRE = bs.RunEngine({})"
      ],
      "cell_type": "code",
      "execution_count": null,
      "outputs": [],
      "metadata": {
        "collapsed": false
      }
    },
    {
      "cell_type": "markdown",
      "source": [
        "Define a callback class which writes out a CSV file\n\n"
      ],
      "metadata": {}
    },
    {
      "source": [
        "class CSVWriter(bc.CallbackBase):\n    def __init__(self, fields, fname_format, fpath):\n        self._path = path.Path(fpath)\n        os.makedirs(self._path, exist_ok=True)\n        self._fname_fomat = fname_format\n        self._fields = fields\n        self._writer = None\n        self._fout = None\n\n    def close(self):\n        if self._fout is not None:\n            self._fout.close()\n        self._fout = None\n        self._writer = None\n\n    def start(self, doc):\n        self.close()\n\n        fname = self._path / self._fname_fomat.format(**doc)\n\n        self._fout = open(fname, 'xt')\n        self._writer = csv.writer(self._fout)\n\n    def descriptor(self, doc):\n        if self._writer is not None:\n            self._writer.writerow(self._fields)\n\n    def event(self, doc):\n        data = doc['data']\n        if self._writer is not None:\n            self._writer.writerow(data[k] for k in self._fields)\n\n    def stop(self, doc):\n        self.close()"
      ],
      "cell_type": "code",
      "execution_count": null,
      "outputs": [],
      "metadata": {
        "collapsed": false
      }
    },
    {
      "cell_type": "markdown",
      "source": [
        "Set up some callbacks\n\n"
      ],
      "metadata": {}
    },
    {
      "source": [
        "def create_cbs():\n    return [bc.LiveTable([motor, det]), bc.LivePlot('det', 'motor')]\n\nfmt = '{user}_{uid:.6s}.csv'\nexport_path = '/tmp/export_demo'\ncsv_writer = CSVWriter(('motor', 'det'), fmt, export_path)\n\n# send all documents to the CSV writer\nRE.subscribe('all', csv_writer)"
      ],
      "cell_type": "code",
      "execution_count": null,
      "outputs": [],
      "metadata": {
        "collapsed": false
      }
    },
    {
      "cell_type": "markdown",
      "source": [
        "run the scan\n\n"
      ],
      "metadata": {}
    },
    {
      "source": [
        "uid, = RE(bp.scan([det], motor, -5, 5, 11),\n          create_cbs(), user='tcaswell')"
      ],
      "cell_type": "code",
      "execution_count": null,
      "outputs": [],
      "metadata": {
        "collapsed": false
      }
    },
    {
      "cell_type": "markdown",
      "source": [
        "check file\n\n"
      ],
      "metadata": {}
    },
    {
      "source": [
        "fname = os.path.join(export_path,\n                     '{user}_{uid:.6s}.csv'.format(user='tcaswell', uid=uid))\n\nprint(\"--- {} ---\".format(fname))\nwith open(fname, 'r') as fin:\n    for ln in fin:\n        print(ln.strip())"
      ],
      "cell_type": "code",
      "execution_count": null,
      "outputs": [],
      "metadata": {
        "collapsed": false
      }
    }
  ],
  "nbformat_minor": 0,
  "metadata": {
    "kernelspec": {
      "language": "python",
      "name": "python3",
      "display_name": "Python 3"
    },
    "language_info": {
      "nbconvert_exporter": "python",
      "pygments_lexer": "ipython3",
      "name": "python",
      "version": "3.5.2",
      "file_extension": ".py",
      "codemirror_mode": {
        "name": "ipython",
        "version": 3
      },
      "mimetype": "text/x-python"
    }
  },
  "nbformat": 4
}