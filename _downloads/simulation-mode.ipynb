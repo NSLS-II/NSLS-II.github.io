{
  "cells": [
    {
      "source": [
        "%matplotlib inline"
      ],
      "cell_type": "code",
      "execution_count": null,
      "outputs": [],
      "metadata": {
        "collapsed": false
      }
    },
    {
      "cell_type": "markdown",
      "source": [
        "\nInspect or rehearse a plan (\"simulation mode\")\n**********************************************\n\nProblem\n=======\n\nCheck a plan for mistakes before running it on real hardware.\n\nApproach\n========\n\n1. Display the steps of a plan and read through them to verify that they match\n   our intention.\n2. Execute the plan on \"simulated hardware,\" Python objects that stand in for\n   real motors and detectors but do not actually communicate with any hardware.\n\nExample Solutions\n=================\n\nThe ``bluesky.examples`` module includes simulated motors and detectors.\n\n\n"
      ],
      "metadata": {}
    },
    {
      "source": [
        "# Make a RunEngine instance.\nfrom bluesky import RunEngine\nRE = RunEngine({})\n\nfrom bluesky.examples import motor, motor1, motor2, det\nfrom bluesky.plan_tools import print_summary, plot_raster_path\nfrom bluesky.plans import count, scan, outer_product_scan"
      ],
      "cell_type": "code",
      "execution_count": null,
      "outputs": [],
      "metadata": {
        "collapsed": false
      }
    },
    {
      "cell_type": "markdown",
      "source": [
        "Inspect plans\n-------------\n\nUse ``print_summary`` which translates the plan into a human-readable list\nof steps.\n\n"
      ],
      "metadata": {}
    },
    {
      "source": [
        "print_summary(count([det]))\nprint_summary(scan([det], motor, 1, 3, 3))\nprint_summary(outer_product_scan([det], motor1, 1, 3, 3, motor2, 1, 2, 2, False))"
      ],
      "cell_type": "code",
      "execution_count": null,
      "outputs": [],
      "metadata": {
        "collapsed": false
      }
    },
    {
      "cell_type": "markdown",
      "source": [
        "Use ``plot_raster_path`` to visualize a two-dimensional trajectory.\n\n"
      ],
      "metadata": {}
    },
    {
      "source": [
        "plot_raster_path(outer_product_scan([det], motor1, 1, 3, 3, motor2, 1, 2, 2, False),\n                 'motor1', 'motor2')"
      ],
      "cell_type": "code",
      "execution_count": null,
      "outputs": [],
      "metadata": {
        "collapsed": false
      }
    },
    {
      "cell_type": "markdown",
      "source": [
        "Note that ``print_summary`` cannot be used on plans the require feedback from\nthe hardware, such as adaptively-spaced step scans.\n\nRehearse plans\n--------------\n\nSimply execute the plan as usual --- ``RE(plan)`` --- but define that plan\nusing the simulated motors and detectors from ``bluesky.examples`` instead of\nthe variables that represent real hardware.\n\n"
      ],
      "metadata": {}
    },
    {
      "source": [
        "RE(count([det]))  # executes the plan, 'reading' the simulated detector"
      ],
      "cell_type": "code",
      "execution_count": null,
      "outputs": [],
      "metadata": {
        "collapsed": false
      }
    },
    {
      "cell_type": "markdown",
      "source": [
        "To avoid saving data from these \"rehearsal\" runs, make a separate instance of\nthe RunEngine, and do not subscribe metadatastore.\n\n"
      ],
      "metadata": {}
    },
    {
      "source": [
        "SIM_RE = RunEngine({})"
      ],
      "cell_type": "code",
      "execution_count": null,
      "outputs": [],
      "metadata": {
        "collapsed": false
      }
    }
  ],
  "nbformat_minor": 0,
  "metadata": {
    "kernelspec": {
      "language": "python",
      "name": "python3",
      "display_name": "Python 3"
    },
    "language_info": {
      "nbconvert_exporter": "python",
      "pygments_lexer": "ipython3",
      "name": "python",
      "version": "3.5.2",
      "file_extension": ".py",
      "codemirror_mode": {
        "name": "ipython",
        "version": 3
      },
      "mimetype": "text/x-python"
    }
  },
  "nbformat": 4
}