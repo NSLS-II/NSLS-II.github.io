{
  "cells": [
    {
      "cell_type": "code",
      "execution_count": null,
      "metadata": {
        "collapsed": false
      },
      "outputs": [],
      "source": [
        "%matplotlib inline"
      ]
    },
    {
      "cell_type": "markdown",
      "metadata": {},
      "source": [
        "\nScan a grid around each sample in a grid\n****************************************\n\nProblem\n=======\n\nExamples are arranged on a substrate. There are two motors, x and y, for moving\na detector over the subtrate. Scan a grid of readings around the center\nposition of each sample.\n\nApproach\n========\n\nSpecify the samples and their arrangement as a mapping of sample names to\n(x, y) positions, like ``{'A': (1, 1), 'B': (1, 2)}``. Write a custom plan that\nloops through the samples. For each sample, move to sample's center position\nand perform a :func:`bluesky.plans.relative_outer_product_scan` (i.e., grid\nscan) around that position. For each sample, one run will be saved. Include the\nsample name in the metadata.\n\nExample Solution\n================\n\n"
      ]
    },
    {
      "cell_type": "code",
      "execution_count": null,
      "metadata": {
        "collapsed": false
      },
      "outputs": [],
      "source": [
        "from bluesky.plans import (abs_set, relative_outer_product_scan, wait,\n                           run_decorator, stage_decorator, subs_decorator)\nfrom bluesky.callbacks import LiveTable, LivePlot\nfrom bluesky.examples import det4, motor1, motor2\nfrom bluesky import RunEngine\n\n\ndef grid_in_grid(samples):\n    \"\"\"\n    Scan a grid around the neighborhood of each sample.\n\n    Parameters\n    ----------\n    sample : dict\n        mapping each sample's name to its (x, y) position\n    \"\"\"\n    \n    # In this example we hard-code the hardware and other parameters. For more\n    # flexibility, they could instead be parameters to the function.\n    detector = det4\n    x = motor1\n    y = motor2\n    x_range = y_range = 0.2\n    x_num = y_num = 5\n\n    @subs_decorator([LiveTable([detector, x, y]),\n                     LivePlot('motor2', 'motor1')])\n    def plan():\n        for name, position in samples.items():\n            # Prepare metadata.\n            md = {'sample': name}\n\n            # Move to the cetner of the sample position.\n            x_pos, y_pos = position\n            yield from abs_set(x, x_pos)\n            yield from abs_set(y, y_pos)\n            yield from wait()\n\n            # Scan a grid around that position.\n            yield from relative_outer_product_scan([detector],\n                                                   x, -x_range, x_range, x_num,\n                                                   y, -y_range, y_range, y_num,\n                                                   True, md=md)\n\n    yield from plan()\n\n\n# Example usage:\n\nRE = RunEngine({})\n\nsamples = {'A': (1, 1),\n           'B': (1, 2),\n           'C': (1, 3),\n           'D': (2, 1),\n           'E': (2, 2),\n           'F': (2, 3)}\n\nRE(grid_in_grid(samples))"
      ]
    }
  ],
  "metadata": {
    "kernelspec": {
      "display_name": "Python 3",
      "language": "python",
      "name": "python3"
    },
    "language_info": {
      "codemirror_mode": {
        "name": "ipython",
        "version": 3
      },
      "file_extension": ".py",
      "mimetype": "text/x-python",
      "name": "python",
      "nbconvert_exporter": "python",
      "pygments_lexer": "ipython3",
      "version": "3.6.1"
    }
  },
  "nbformat": 4,
  "nbformat_minor": 0
}