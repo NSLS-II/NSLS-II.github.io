{
  "cells": [
    {
      "cell_type": "code",
      "execution_count": null,
      "metadata": {
        "collapsed": false
      },
      "outputs": [],
      "source": [
        "%matplotlib inline"
      ]
    },
    {
      "cell_type": "markdown",
      "metadata": {},
      "source": [
        "\nRe-scan until fit achieves desired confidence\n*********************************************\n\nProblem\n=======\n\nScan a peak and, in real time, fit Gaussian model to the data. Repeatedly\nre-scan the same region until the uncertainty in the Gaussian width parameter,\nsigma, is below some threshold.\n\nApproach\n========\n\nUse :func:`bluesky.callbacks.LiveFit` and :func:`bluesky.callbacks.LiveFitPlot` to perform and\nvisualize a non-linear least-squared fit.\n\nNormally we would use :func:`plans.scan` to perform the 1D scan. In this case,\nwe need something more sophisticated to incorporate adaptive logic that\ncontinues the scan until the fit attains sufficient confidence in sigma. We\nwrite our scan logic using the lower-level plans :func:`bluesky.plans.abs_set` and\n:func:`bluesky.plans.trigger_and_read`.\n\nExample Solution\n================\n\n"
      ]
    },
    {
      "cell_type": "code",
      "execution_count": null,
      "metadata": {
        "collapsed": false
      },
      "outputs": [],
      "source": [
        "import matplotlib.pyplot as plt\nimport numpy as np\nimport lmfit\nimport bluesky.plans as bp\nimport bluesky.callbacks as bc\nimport bluesky.utils as bu\nfrom bluesky.examples import motor, SynGauss\nfrom bluesky import RunEngine\n\n# Do this if running the example interactively;\n# skip it when building the documentation.\nimport os\nif 'BUILDING_DOCS' not in os.environ:\n    from bluesky.utils import install_qt_kicker  # for notebooks, qt -> nb\n    install_qt_kicker()\n    plt.ion()\n\nnoisy_det = SynGauss('noisy_det', motor, 'motor', center=0, Imax=100,\n                     noise='poisson', sigma=1)\n\nRE = RunEngine({})\n\n\ndef errorbar(lmfit_result, param_name):\n    # width of 95% conf interfal:\n    ci = lmfit_result.conf_interval()\n    return ci[param_name][-2][1] - ci[param_name][1][1]\n\n\ndef gaussian(x, A, sigma, x0):\n    return A * np.exp(-(x - x0)**2 / (2 * sigma**2))\n\n\nmodel = lmfit.Model(gaussian)\nguess = {'A': 10,\n         'x0': 1,\n         'sigma': lmfit.Parameter('sigma', 3, min=0)}\n\n\ndef scan_gaussian(detectors, motor, start, stop, num, *, ax=None,\n                  err_thresh=0.03):\n\n    if ax is None:\n        ax = plt.gca()\n    main_detector = detectors[0]\n    main_motor_field, *_ = motor.describe()\n    lf = bc.LiveFit(model, main_detector.name, {'x': main_motor_field}, guess)\n    lfp = bc.LiveFitPlot(lf, color='r', ax=ax)\n    lp = bc.LivePlot(main_detector, main_motor_field,\n                     linestyle='none', marker='o', ax=ax)\n\n    @bp.subs_decorator([lfp, lp])\n    @bp.stage_decorator(list(detectors) + [motor])\n    @bp.run_decorator()\n    def plan():\n        while True:\n            for step in np.linspace(start, stop, num):\n                yield from bp.abs_set(motor, step, wait=True)\n                yield from bp.trigger_and_read(list(detectors) + [motor])\n                yield from bp.checkpoint()\n\n            err = errorbar(lf.result, 'sigma')\n            if err < err_thresh:\n                break\n\n    yield from plan()\n\n\nRE(scan_gaussian([noisy_det], motor, -5, 5, 100, ax=plt.gca()))"
      ]
    }
  ],
  "metadata": {
    "kernelspec": {
      "display_name": "Python 3",
      "language": "python",
      "name": "python3"
    },
    "language_info": {
      "codemirror_mode": {
        "name": "ipython",
        "version": 3
      },
      "file_extension": ".py",
      "mimetype": "text/x-python",
      "name": "python",
      "nbconvert_exporter": "python",
      "pygments_lexer": "ipython3",
      "version": "3.6.1"
    }
  },
  "nbformat": 4,
  "nbformat_minor": 0
}