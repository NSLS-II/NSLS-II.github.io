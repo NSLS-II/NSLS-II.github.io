{
 "cells": [
  {
   "attachments": {},
   "cell_type": "markdown",
   "id": "e7b5e13a-c059-441d-8d4f-fff080d52054",
   "metadata": {},
   "source": [
    "# Run the GP optimizer in four dimensions"
   ]
  },
  {
   "cell_type": "code",
   "execution_count": 1,
   "id": "fa8a6989",
   "metadata": {
    "execution": {
     "iopub.execute_input": "2023-03-16T20:37:47.862803Z",
     "iopub.status.busy": "2023-03-16T20:37:47.862124Z",
     "iopub.status.idle": "2023-03-16T20:37:51.724216Z",
     "shell.execute_reply": "2023-03-16T20:37:51.723453Z"
    }
   },
   "outputs": [],
   "source": [
    "%run -i ../../../examples/prepare_gp_optimizer.py\n",
    "\n",
    "dofs = [kbv.x_rot, kbv.offz, kbh.x_rot, kbh.offz]\n",
    "\n",
    "hard_bounds = np.array([[-0.10, +0.10], [-0.50, +0.50], [-0.10, +0.10], [-0.50, +0.50]])\n",
    "\n",
    "for dof in dofs:\n",
    "    dof.kind = \"hinted\""
   ]
  },
  {
   "cell_type": "code",
   "execution_count": 2,
   "id": "071a829f-a390-40dc-9d5b-ae75702e119e",
   "metadata": {
    "execution": {
     "iopub.execute_input": "2023-03-16T20:37:51.727884Z",
     "iopub.status.busy": "2023-03-16T20:37:51.727373Z",
     "iopub.status.idle": "2023-03-16T20:39:38.387730Z",
     "shell.execute_reply": "2023-03-16T20:39:38.386875Z"
    }
   },
   "outputs": [
    {
     "name": "stdout",
     "output_type": "stream",
     "text": [
      "learning with strategy \"quasi-random\" ...\n"
     ]
    },
    {
     "name": "stdout",
     "output_type": "stream",
     "text": [
      "getshonecol: no GOOD rays, returning empty array\n",
      "getshonecol: no GOOD rays, returning empty array\n",
      "getshonecol: no GOOD rays, returning empty array\n",
      "getshonecol: no GOOD rays, returning empty array\n",
      "getshonecol: no GOOD rays, returning empty array\n",
      "getshonecol: no GOOD rays, returning empty array\n"
     ]
    },
    {
     "name": "stdout",
     "output_type": "stream",
     "text": [
      "getshonecol: no GOOD rays, returning empty array\n",
      "getshonecol: no GOOD rays, returning empty array\n",
      "getshonecol: no GOOD rays, returning empty array\n",
      "getshonecol: no GOOD rays, returning empty array\n",
      "getshonecol: no GOOD rays, returning empty array\n",
      "getshonecol: no GOOD rays, returning empty array\n"
     ]
    },
    {
     "name": "stdout",
     "output_type": "stream",
     "text": [
      "    kbv_x_rot  kbv_offz  kbh_x_rot  kbh_offz    fitness\n",
      "0    0.049173  0.033861  -0.063106 -0.002693   6.850121\n",
      "1   -0.050827 -0.410583   0.040894  0.425878   7.423845\n",
      "2    0.099173  0.256083   0.080894 -0.329224        NaN\n",
      "3   -0.000827 -0.077250   0.000894 -0.472081  12.283869\n",
      "4    0.024173 -0.188361  -0.039106 -0.186367   7.696738\n",
      "5   -0.075827  0.478306  -0.079106  0.099348   6.121496\n",
      "6    0.074173  0.144972   0.048894  0.242205   6.771411\n",
      "7   -0.025827 -0.336509   0.088894 -0.043510   5.861907\n",
      "8    0.036673  0.330157   0.008894  0.385062   9.878487\n",
      "9   -0.063327 -0.003176  -0.031106 -0.247591   8.215944\n",
      "10   0.086673 -0.447620  -0.071106 -0.390448        NaN\n",
      "11  -0.013327  0.219046   0.032894 -0.104734   7.860700\n",
      "12   0.011673 -0.114287   0.072894  0.180980   6.070416\n",
      "13  -0.088327 -0.225398  -0.007106  0.323837  10.721223\n",
      "14   0.061673  0.441268  -0.047106  0.038123        NaN\n",
      "15  -0.038327  0.107935  -0.087106  0.466694   7.153045\n"
     ]
    }
   ],
   "source": [
    "gpo = Optimizer(\n",
    "    init_scheme='quasi-random', \n",
    "    n_init=16, \n",
    "    run_engine=RE, \n",
    "    db=db, \n",
    "    detector=w9, \n",
    "    detector_type='image',\n",
    "    dofs=dofs, \n",
    "    dof_bounds=hard_bounds, \n",
    "    fitness_model='max_sep_density',\n",
    "    training_iter=100, \n",
    "    verbose=True,\n",
    ")"
   ]
  },
  {
   "attachments": {},
   "cell_type": "markdown",
   "id": "2635f228",
   "metadata": {},
   "source": [
    "With four dimensions, we can no longer plot the parameter space in a satisfying way as we might be able to in two dimensions. We also have a lot more hyperparameters to deal with, and comparatively fewer points per dimension with which to infer them. One way to evaluate the state of the hyperparameters is with the Fisher information matrix, which encodes the covariance of their estimates with respect to the likelihood:"
   ]
  },
  {
   "cell_type": "code",
   "execution_count": 3,
   "id": "2306fac9-94ac-4e2a-bb6f-3c1b4d2900e4",
   "metadata": {
    "execution": {
     "iopub.execute_input": "2023-03-16T20:39:38.390770Z",
     "iopub.status.busy": "2023-03-16T20:39:38.390318Z",
     "iopub.status.idle": "2023-03-16T20:39:39.107516Z",
     "shell.execute_reply": "2023-03-16T20:39:39.106813Z"
    }
   },
   "outputs": [
    {
     "data": {
      "text/plain": [
       "<matplotlib.colorbar.Colorbar at 0x7fec7a61ec20>"
      ]
     },
     "execution_count": 3,
     "metadata": {},
     "output_type": "execute_result"
    },
    {
     "data": {
      "image/png": "[encoded data removed]",
      "text/plain": [
       "<Figure size 640x480 with 2 Axes>"
      ]
     },
     "metadata": {},
     "output_type": "display_data"
    }
   ],
   "source": [
    "FM = gpo._contingent_fisher_information_matrix(gpo.test_params[0])[0]\n",
    "plt.imshow(np.abs(FM), norm=mpl.colors.LogNorm())\n",
    "plt.colorbar()"
   ]
  },
  {
   "attachments": {},
   "cell_type": "markdown",
   "id": "5d74ae5e",
   "metadata": {},
   "source": [
    "In particular, we can use the information matrix to sample points which will tell us the most about the hyperparameters:"
   ]
  },
  {
   "cell_type": "code",
   "execution_count": 4,
   "id": "8a6b3467-f181-4c48-85f3-3f1011a83cfa",
   "metadata": {
    "execution": {
     "iopub.execute_input": "2023-03-16T20:39:39.110531Z",
     "iopub.status.busy": "2023-03-16T20:39:39.110115Z",
     "iopub.status.idle": "2023-03-16T20:39:55.115223Z",
     "shell.execute_reply": "2023-03-16T20:39:55.114461Z"
    }
   },
   "outputs": [
    {
     "name": "stdout",
     "output_type": "stream",
     "text": [
      "learning with strategy \"A-optimal\" ...\n"
     ]
    },
    {
     "name": "stdout",
     "output_type": "stream",
     "text": [
      "getshonecol: no GOOD rays, returning empty array\n",
      "getshonecol: no GOOD rays, returning empty array\n",
      "getshonecol: no GOOD rays, returning empty array\n",
      "getshonecol: no GOOD rays, returning empty array\n",
      "getshonecol: no GOOD rays, returning empty array\n",
      "getshonecol: no GOOD rays, returning empty array\n"
     ]
    },
    {
     "name": "stdout",
     "output_type": "stream",
     "text": [
      "getshonecol: no GOOD rays, returning empty array\n",
      "getshonecol: no GOOD rays, returning empty array\n",
      "getshonecol: no GOOD rays, returning empty array\n",
      "getshonecol: no GOOD rays, returning empty array\n",
      "getshonecol: no GOOD rays, returning empty array\n",
      "getshonecol: no GOOD rays, returning empty array\n"
     ]
    },
    {
     "name": "stdout",
     "output_type": "stream",
     "text": [
      "    kbv_x_rot  kbv_offz  kbh_x_rot  kbh_offz  fitness\n",
      "16   0.090177  0.485807  -0.053862 -0.057836      NaN\n",
      "learning with strategy \"D-optimal\" ...\n"
     ]
    },
    {
     "name": "stdout",
     "output_type": "stream",
     "text": [
      "    kbv_x_rot  kbv_offz  kbh_x_rot  kbh_offz   fitness\n",
      "17   0.002598  0.297873   0.029445 -0.057602  8.012808\n"
     ]
    }
   ],
   "source": [
    "gpo.learn(n_iter=1, n_per_iter=1, strategy='A-optimal', greedy=True, reuse_hypers=False)\n",
    "gpo.learn(n_iter=1, n_per_iter=1, strategy='D-optimal', greedy=True, reuse_hypers=False)"
   ]
  },
  {
   "cell_type": "code",
   "execution_count": 5,
   "id": "1b69af1d-897e-4b57-b3fc-9d39d0eba86e",
   "metadata": {
    "execution": {
     "iopub.execute_input": "2023-03-16T20:39:55.118604Z",
     "iopub.status.busy": "2023-03-16T20:39:55.118166Z",
     "iopub.status.idle": "2023-03-16T20:39:55.429537Z",
     "shell.execute_reply": "2023-03-16T20:39:55.428667Z"
    }
   },
   "outputs": [
    {
     "data": {
      "image/png": "[encoded data removed]",
      "text/plain": [
       "<Figure size 480x480 with 1 Axes>"
      ]
     },
     "metadata": {},
     "output_type": "display_data"
    }
   ],
   "source": [
    "gpo.plot_fitness()"
   ]
  }
 ],
 "metadata": {
  "kernelspec": {
   "display_name": "gp",
   "language": "python",
   "name": "python3"
  },
  "language_info": {
   "codemirror_mode": {
    "name": "ipython",
    "version": 3
   },
   "file_extension": ".py",
   "mimetype": "text/x-python",
   "name": "python",
   "nbconvert_exporter": "python",
   "pygments_lexer": "ipython3",
   "version": "3.10.9"
  },
  "vscode": {
   "interpreter": {
    "hash": "9aced674e98d511b4f654e147532c84d38dc986fe042b1e92785fb9d8df41f75"
   }
  }
 },
 "nbformat": 4,
 "nbformat_minor": 5
}
