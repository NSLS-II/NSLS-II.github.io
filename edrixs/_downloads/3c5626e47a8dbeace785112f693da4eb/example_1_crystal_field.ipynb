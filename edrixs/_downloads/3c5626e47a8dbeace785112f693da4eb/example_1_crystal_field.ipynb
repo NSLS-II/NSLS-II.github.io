{
  "cells": [
    {
      "cell_type": "markdown",
      "metadata": {},
      "source": [
        "\n# Crystal fields\nThis example explains how to implement crystal fields in edrixs.\n"
      ]
    },
    {
      "cell_type": "markdown",
      "metadata": {},
      "source": [
        "We need to import these modules.\n\n"
      ]
    },
    {
      "cell_type": "code",
      "execution_count": null,
      "metadata": {
        "collapsed": false
      },
      "outputs": [],
      "source": [
        "import edrixs\nimport numpy as np\nimport scipy\n\nnp.set_printoptions(precision=2, suppress=True, linewidth=90)"
      ]
    },
    {
      "cell_type": "markdown",
      "metadata": {},
      "source": [
        "## Crystal field matrices\nLet us start by considering the common case of a $d$ atomic shell in a\ncubic crystal field. This is controlled by parameter $10D_q$ and is\ndescribed in terms of a matrix which we will assign to :code:`cfmat`. edrixs\ncan make this matrix via.\n\n"
      ]
    },
    {
      "cell_type": "code",
      "execution_count": null,
      "metadata": {
        "collapsed": false
      },
      "outputs": [],
      "source": [
        "ten_dq = 10\ncfmat = edrixs.angular_momentum.cf_cubic_d(ten_dq)"
      ]
    },
    {
      "cell_type": "markdown",
      "metadata": {},
      "source": [
        "Note this matrix is in a complex harmonic basis $Y^m_l$ where $m$\ngoes from $-l,-l+1,...,l-1, l$. There is an up spin and a down\nspin for each $Y^m_l$. This matrix is not diagonal in the complex\nharmonic basis, but it would be diagonal in the real harmonic basis\n$d_{3z^2-r^2}, d_{xz}, d_{yz}, d_{x^2-y^2}, d_{xy}$.\nLet us diagonalize this matrix as a check and print out the energies\nand their degeneracies.\n\n"
      ]
    },
    {
      "cell_type": "code",
      "execution_count": null,
      "metadata": {
        "collapsed": false
      },
      "outputs": [],
      "source": [
        "e, v = scipy.linalg.eigh(cfmat)\ne = e.round(decimals=6)\nunique_e = np.unique(e)\ndegeneracies = [sum(evalue == e) for evalue in unique_e]\n\nprint(\"E  \\tDegeneracy\")\nfor evalue, degenvalue in zip(unique_e, degeneracies):\n    print(\"{:.1f}\\t{:.0f}\".format(evalue, degenvalue))\nprint(\"{} distinct energies\".format(len(unique_e)))"
      ]
    },
    {
      "cell_type": "markdown",
      "metadata": {},
      "source": [
        "This makes sense! We see two different energies split by $10D_q=10$. Let\nus look at the six columns corresponding to the lower energy eigenvalues.\n\n"
      ]
    },
    {
      "cell_type": "code",
      "execution_count": null,
      "metadata": {
        "collapsed": false
      },
      "outputs": [],
      "source": [
        "print(v[:, :6].real)"
      ]
    },
    {
      "cell_type": "markdown",
      "metadata": {},
      "source": [
        "These are the set of so-called $t_{2g}$ orbitals, composed of\n$Y^2_2, Y^{-2}_2, Y^{1}_2, Y^{-1}_2$. The rest of the eigenvectors\n(the last four) are\n\n"
      ]
    },
    {
      "cell_type": "code",
      "execution_count": null,
      "metadata": {
        "collapsed": false
      },
      "outputs": [],
      "source": [
        "print(v[:, 6:].real)"
      ]
    },
    {
      "cell_type": "markdown",
      "metadata": {},
      "source": [
        "These are the set of so-called $e_{g}$ orbitals, composed of\n$Y^2_2, Y^{-2}_2, Y^{0}_2$. We can use edrixs to prove that\n:code:`cfmat` would be diagonal in the real\nharmonic basis. An operator $\\hat{O}$ can be transformed into an\noperator in another basis $\\hat{O}^{\\prime}$ using a unitary\ntransformation matrix $T$ as\n\n   .. math::\n\n         \\hat{O}^{\\prime} = (T)^{\\dagger} \\hat{O} (T).\n\nThis is computed as follows\n\n"
      ]
    },
    {
      "cell_type": "code",
      "execution_count": null,
      "metadata": {
        "collapsed": false
      },
      "outputs": [],
      "source": [
        "cfmat_rhb = edrixs.cb_op(cfmat, edrixs.tmat_c2r('d', ispin=True))\nprint(cfmat_rhb.real)"
      ]
    },
    {
      "cell_type": "markdown",
      "metadata": {},
      "source": [
        "where :code:`edrixs.tmat_c2r('d', ispin=True)` is the transformation matrix.\nWe needed to tell edrixs that we are working with a $d$-shell and that it\nshould include spin. We could also have transformed :code:`v` to see how these\neignevectors are  composed of the real harmonic basis. We will see an example\nof this later.\n\n"
      ]
    },
    {
      "cell_type": "markdown",
      "metadata": {},
      "source": [
        "## Crystal field on an atom\nTo simulate the solid state, we need to combine the crystal field with Coulomb\ninteractions. Let us choose an atomic model for Ni.\n\n"
      ]
    },
    {
      "cell_type": "code",
      "execution_count": null,
      "metadata": {
        "collapsed": false
      },
      "outputs": [],
      "source": [
        "l = 2\nnorb = 10\nnoccu = 8\nbasis = edrixs.get_fock_bin_by_N(norb, noccu)\nslater = edrixs.get_atom_data('Ni', '3d', noccu, edge='L3')['slater_i']"
      ]
    },
    {
      "cell_type": "markdown",
      "metadata": {},
      "source": [
        "Let us implement a tetragonal crystal field, for which we need to pass\n:code:`d1` the splitting of $d_{yz}/d_{zx}$ and $d_{xy}$ and\n:code:`d3` the splitting of $d_{3z^2-r^2}$ and $d_{x^2-y^2}$.\n\n"
      ]
    },
    {
      "cell_type": "code",
      "execution_count": null,
      "metadata": {
        "collapsed": false
      },
      "outputs": [],
      "source": [
        "ten_dq, d1, d3 = 2.5, 0.9, .2"
      ]
    },
    {
      "cell_type": "markdown",
      "metadata": {},
      "source": [
        "To determine the eigenvalues and eigenvectors we need to transform both our\nCoulomb matrix and our crystal field matrix into the same basis. See the\nexample on exact diagonalization if needed. In this case, we put this\nprocedure into a function, with the option to scale the Coulomb interactions.\n\n"
      ]
    },
    {
      "cell_type": "code",
      "execution_count": null,
      "metadata": {
        "collapsed": false
      },
      "outputs": [],
      "source": [
        "def diagonlize(scaleU=1):\n    umat = edrixs.get_umat_slater('d',\n                                  slater[0][1]*scaleU,\n                                  slater[1][1]*scaleU,\n                                  slater[2][1]*scaleU)\n    cfmat = edrixs.angular_momentum.cf_tetragonal_d(ten_dq=ten_dq, d1=d1, d3=d3)\n    H = edrixs.build_opers(2, cfmat, basis) + edrixs.build_opers(4, umat, basis)\n    e, v = scipy.linalg.eigh(H)\n    e = e - np.min(e)  # define ground state as zero energy\n    return e, v"
      ]
    },
    {
      "cell_type": "markdown",
      "metadata": {},
      "source": [
        "Let us look what happens when we run the function with the Coulomb\ninteractions switched off and check the degeneracy of the output. Look at this\npython\n[string formatting tutorial](https://realpython.com/python-formatted-output/)\nif the code is confusing.\n\n"
      ]
    },
    {
      "cell_type": "code",
      "execution_count": null,
      "metadata": {
        "collapsed": false
      },
      "outputs": [],
      "source": [
        "e, v = diagonlize(scaleU=0)\ne = e.round(decimals=6)\nunique_e = np.unique(e)\ndegeneracies = [sum(evalue == e) for evalue in unique_e]\n\nprint(\"E  \\tDegeneracy\")\nfor evalue, degenvalue in zip(unique_e, degeneracies):\n    print(\"{:.1f}\\t{:.0f}\".format(evalue, degenvalue))\nprint(\"{} distinct energies\".format(len(unique_e)))"
      ]
    },
    {
      "cell_type": "markdown",
      "metadata": {},
      "source": [
        "We see 10 distinct energies, which is the number of ways one can arrange\ntwo holes among 4 energy levels -- which makes sense as the tetragonal field\ninvolves four levels $zx/zy, xy, 3z^2-r^2, x^2-y^2$. To see what is going\non in more detail, we can also calculate the expectation\nvalues of the occupancy number of the orbitals\n$3z^2-r^2, zx, zy, x^2-y^2, xy$.\nTo create the operator, first write the matrix in the real harmonics basis\n$|3z^2-r^2,\\uparrow>$, $|3z^2-r^2,\\downarrow>$,\n$|zx,\\uparrow>$, $|zx,\\downarrow>$, etc.\nIn this basis, they take a simple form: only the diagonal terms have element\n1. We therefore make a 3D empty array and assign the diagonal as 1. Check\nout the\n[numpy indexing notes](https://numpy.org/doc/stable/reference/arrays.indexing.html)\nif needed.\n\n"
      ]
    },
    {
      "cell_type": "code",
      "execution_count": null,
      "metadata": {
        "collapsed": false
      },
      "outputs": [],
      "source": [
        "nd_real_harmoic_basis = np.zeros((norb, norb, norb), dtype=complex)\nindx = np.arange(norb)\nnd_real_harmoic_basis[indx, indx, indx] = 1"
      ]
    },
    {
      "cell_type": "markdown",
      "metadata": {},
      "source": [
        "Recalling the necessity to put everything in the same basis, we transform\ninto the complex harmonic basis and then transform into our Fock basis\n\n"
      ]
    },
    {
      "cell_type": "code",
      "execution_count": null,
      "metadata": {
        "collapsed": false
      },
      "outputs": [],
      "source": [
        "nd_complex_harmoic_basis = edrixs.cb_op(nd_real_harmoic_basis,\n                                        edrixs.tmat_r2c('d', True))\nnd_op = edrixs.build_opers(2, nd_complex_harmoic_basis, basis)"
      ]
    },
    {
      "cell_type": "markdown",
      "metadata": {},
      "source": [
        "We apply the operator and print out as follows. Check the\n[numpy docs](https://numpy.org/doc/1.18/reference/generated/numpy.reshape.html)\nif the details of how the spin pairs have been added up is not immediately\ntransparent.\n\n"
      ]
    },
    {
      "cell_type": "code",
      "execution_count": null,
      "metadata": {
        "collapsed": false
      },
      "outputs": [],
      "source": [
        "nd_expt = np.array([edrixs.cb_op(nd_vec, v).diagonal().real for nd_vec in nd_op])\n\nmessage = \"{:>3s}\" + \"\\t{:>6s}\"*5\nprint(message.format(*\"E 3z2-r2 zx zy x2-y2 xy\".split(\" \")))\n\nmessage = \"{:>3.1f}\" + \"\\t{:>6.1f}\"*5\nfor evalue, row in zip(e, nd_expt.T):\n    spin_pairs = row.reshape(-1, 2).sum(1)\n    print(message.format(evalue, *spin_pairs))"
      ]
    },
    {
      "cell_type": "markdown",
      "metadata": {},
      "source": [
        "The lowest energy state involves putting both holes in the $x^2-y^2$\norbital, which makes sense.  Now, let us redo the proceedure including Coulomb\nrepulsion, which imposes an energy cost to putting multiple electrons in the\nsame orbital.\n\n"
      ]
    },
    {
      "cell_type": "code",
      "execution_count": null,
      "metadata": {
        "collapsed": false
      },
      "outputs": [],
      "source": [
        "e, v = diagonlize(scaleU=1)\n\nnd_expt = np.array([edrixs.cb_op(nd_vec, v).diagonal().real for nd_vec in nd_op])\n\nmessage = \"{:>3s}\" + \"\\t{:>6s}\"*5\nprint(message.format(*\"E 3z2-r2 zx zy x2-y2 xy\".split(\" \")))\n\nmessage = \"{:>3.1f}\" + \"\\t{:>6.1f}\"*5\nfor evalue, row in zip(e, nd_expt.T):\n    spin_pairs = row.reshape(-1, 2).sum(1)\n    print(message.format(evalue, *spin_pairs))"
      ]
    },
    {
      "cell_type": "markdown",
      "metadata": {},
      "source": [
        "Now the lowest energy state involves splitting the holes between the two\nhighest energy $x^2-y^2$ and $3z^2-r^2$ orbitals. i.e. we have\ngone from low-spin to high spin. Working out the balance between these two\nstates is often one of the first things one wants to determine upon the\ndiscovery of an interesting new material [1]_.\n\n"
      ]
    },
    {
      "cell_type": "markdown",
      "metadata": {},
      "source": [
        ".. rubric:: Footnotes\n\n.. [1] M. Rossi et al., [arXiv:2011.00595  (2021)](https://arxiv.org/abs/2011.00595).\n\n"
      ]
    }
  ],
  "metadata": {
    "kernelspec": {
      "display_name": "Python 3",
      "language": "python",
      "name": "python3"
    },
    "language_info": {
      "codemirror_mode": {
        "name": "ipython",
        "version": 3
      },
      "file_extension": ".py",
      "mimetype": "text/x-python",
      "name": "python",
      "nbconvert_exporter": "python",
      "pygments_lexer": "ipython3",
      "version": "3.10.16"
    }
  },
  "nbformat": 4,
  "nbformat_minor": 0
}