{
  "cells": [
    {
      "cell_type": "code",
      "execution_count": null,
      "metadata": {
        "collapsed": false
      },
      "outputs": [],
      "source": [
        "%matplotlib inline"
      ]
    },
    {
      "cell_type": "markdown",
      "metadata": {},
      "source": [
        "\n# RIXS calculations for an atomic model\nHere we show how to compute RIXS for a single site atomic model with crystal\nfield and electron-electron interactions. We take the case of\nSr\\ :sub:`2`\\ YIrO\\ :sub:`6`\nfrom Ref. [1]_ as the material in question. The aim of this example is to\nillustrate the proceedure and to provide what we hope is useful advice. What is\nwritten is not meant to be a replacement for reading the docstrings of the\nfunctions, which can always be accessed on the\n[edrixs website](https://nsls-ii.github.io/edrixs/reference/index.html) or\nby executing functions with ?? in IPython.\n"
      ]
    },
    {
      "cell_type": "code",
      "execution_count": null,
      "metadata": {
        "collapsed": false
      },
      "outputs": [],
      "source": [
        "import edrixs\nimport numpy as np\nimport matplotlib.pyplot as plt"
      ]
    },
    {
      "cell_type": "markdown",
      "metadata": {},
      "source": [
        "## Specify active core and valence orbitals\nSr\\ :sub:`2`\\ YIrO\\ :sub:`6`\\  has a $5d^4$ electronic configuration and\nwe want to calculate the $L_3$ edge spectrum i.e. resonating with a\n$2p_{3/2}$ core hole. We will start by including only the\n$t_{2g}$ valance orbitals.\n\n"
      ]
    },
    {
      "cell_type": "code",
      "execution_count": null,
      "metadata": {
        "collapsed": false
      },
      "outputs": [],
      "source": [
        "shell_name = ('t2g', 'p32')\nv_noccu = 4"
      ]
    },
    {
      "cell_type": "markdown",
      "metadata": {},
      "source": [
        "## Slater parameters\nHere we want to use Hund's interaction\n$J_H$ and spin orbit coupling $\\lambda$ as adjustable parameters\nto match experiment. We will take\nthe core hole interaction parameter from the Hartree Fock numbers EDRIXS has\nin its database. These need to be converted and arranged into the order\nrequired by EDRIXS.\n\n"
      ]
    },
    {
      "cell_type": "code",
      "execution_count": null,
      "metadata": {
        "collapsed": false
      },
      "outputs": [],
      "source": [
        "Ud = 2\nJH = 0.25\nlam = 0.42\nF0_d, F2_d, F4_d = edrixs.UdJH_to_F0F2F4(Ud, JH)\ninfo = edrixs.utils.get_atom_data('Ir', '5d', v_noccu, edge='L3')\nG1_dp = info['slater_n'][5][1]\nG3_dp = info['slater_n'][6][1]\nF0_dp = edrixs.get_F0('dp', G1_dp, G3_dp)\nF2_dp = info['slater_n'][4][1]\n\nslater_i = [F0_d, F2_d, F4_d]   # Fk for d\nslater_n = [\n    F0_d, F2_d, F4_d,   # Fk for d\n    F0_dp, F2_dp,        # Fk for dp\n    G1_dp, G3_dp,        # Gk for dp\n    0.0, 0.0           # Fk for p\n]\nslater = [slater_i, slater_n]\nv_soc = (lam, lam)"
      ]
    },
    {
      "cell_type": "markdown",
      "metadata": {},
      "source": [
        "## Diagonalization\nWe obtain the ground and intermediate state eigenenergies and the transition\noperators via matrix diagonalization. Note that the calculation does not know\nthe core hole energy, so we need to adjust the energy that the resonance will\nappear at by hand. We know empirically that the resonance is at 11215 eV\nand that putting four electrons into the valance band costs about\n$4 F^0_d\\approx6$ eV. In this case\nwe are assuming a perfectly cubic crystal field, which we have already\nimplemented when we specified the use of the $t_{2g}$ subshell only\nso we do not need to pass an additional :code:`v_cfmat` matrix.\n\n"
      ]
    },
    {
      "cell_type": "code",
      "execution_count": null,
      "metadata": {
        "collapsed": false
      },
      "outputs": [],
      "source": [
        "off = 11215 - 6\nout = edrixs.ed_1v1c_py(shell_name, shell_level=(0, -off), v_soc=v_soc,\n                        c_soc=info['c_soc'], v_noccu=v_noccu, slater=slater)\neval_i, eval_n, trans_op = out"
      ]
    },
    {
      "cell_type": "markdown",
      "metadata": {},
      "source": [
        "## Compute XAS\nTo calculate XAS we need to correctly specify the orientation of the x-rays\nwith respect to the sample. By default, the $x, y, z$ coordinates\nof the sample's crystal field, will be aligned with our lab frame, passing\n:code:`loc_axis` to :code:`ed_1v1c_py` can be used to specify a different\nconvention. The experimental geometry is specified following the angles\nshown in Figure 1 of Y. Wang et al.,\n[Computer Physics Communications 243, 151-165 (2019)](https://doi.org/10.1016/j.cpc.2019.04.018). The default\nsetting has x-rays along $z$ for $\\theta=\\pi$ rad\nand the x-ray beam along $-x$ for\n$\\theta=\\phi=0$. Parameter :code:`scatter_axis` can be passed to\n:code:`xas_1v1c_py` to specify a different geometry if desired.\n\nVariable :code:`pol_type` specifies a list of different x-ray\npolarizations to calculate. Here we will use so-called $\\pi$-polarization\nwhere the x-rays are parallel to the plane spanned by the incident\nbeam and the sample $z$-axis.\n\nEDRIXS represents the system's ground state using a set of\nlow energy eigenstates weighted by Boltzmann thermal factors.\nThese eigenstates are specified by :code:`gs_list`,\nwhich is of the form $[0, 1, 2, 3, \\dots]$. In this example, we\ncalculate these states as those that have non-negligible thermal\npopulation. The function :code:`xas_1v1c_py` assumes that the spectral\nbroadening is dominated by the inverse core hole lifetime :code:`gamma_c`,\nwhich is the Lorentzian half width at half maximum.\n\n"
      ]
    },
    {
      "cell_type": "code",
      "execution_count": null,
      "metadata": {
        "collapsed": false
      },
      "outputs": [],
      "source": [
        "ominc = np.linspace(11200, 11230, 50)\ntemperature = 300  # in K\nprob = edrixs.boltz_dist(eval_i, temperature)\ngs_list = [n for n, prob in enumerate(prob) if prob > 1e-6]\n\nthin = 30*np.pi/180\nphi = 0\npol_type = [('linear', 0)]\n\nxas = edrixs.xas_1v1c_py(\n    eval_i, eval_n, trans_op, ominc, gamma_c=info['gamma_c'],\n    thin=thin, phi=phi, pol_type=pol_type,\n    gs_list=gs_list)"
      ]
    },
    {
      "cell_type": "markdown",
      "metadata": {},
      "source": [
        "## Compute RIXS\nCalculating RIXS is overall similar to XAS, but with a few additional\nconsiderations. The spectral width in the energy loss axis of RIXS it\nnot set by the core hole lifetime, but by either the final state lifetime\nor the experimental resolution and is parameterized by :code:`gamma_f`\n-- the Lorentzian half width at half maximum.\n\nThe angle and polarization of the emitted beam must also be specified, so\nwe pass :code:`pol_type_rixs` to the function, which specifies the\nincludes the incoming and outgoing x-ray states. If, as is common in\nexperiments, the emitted polarization is not resolved\none needs to add both emitted polarization channels, which is what we will\ndo later on in this example.\n\n"
      ]
    },
    {
      "cell_type": "code",
      "execution_count": null,
      "metadata": {
        "collapsed": false
      },
      "outputs": [],
      "source": [
        "eloss = np.linspace(-.5, 6, 400)\npol_type_rixs = [('linear', 0, 'linear', 0), ('linear', 0, 'linear', np.pi/2)]\n\nthout = 60*np.pi/180\ngamma_f = 0.02\n\nrixs = edrixs.rixs_1v1c_py(\n    eval_i, eval_n, trans_op, ominc, eloss,\n    gamma_c=info['gamma_c'], gamma_f=gamma_f,\n    thin=thin, thout=thout, phi=phi,\n    pol_type=pol_type_rixs, gs_list=gs_list,\n    temperature=temperature\n)"
      ]
    },
    {
      "cell_type": "markdown",
      "metadata": {},
      "source": [
        "The array :code:`xas` will have shape\n:code:`(len(ominc_xas), len(pol_type))`\n\n"
      ]
    },
    {
      "cell_type": "markdown",
      "metadata": {},
      "source": [
        "## Plot XAS and RIXS\nLet's plot everything. We will use a function so we can reuse the code later.\nNote that the rixs array :code:`rixs` has shape\n:code:`(len(ominc_xas), len(ominc_xas), len(pol_type))`. We will use some numpy\ntricks to sum over the two different emitted polarizations.\n\n"
      ]
    },
    {
      "cell_type": "code",
      "execution_count": null,
      "metadata": {
        "collapsed": false
      },
      "outputs": [],
      "source": [
        "fig, axs = plt.subplots(2, 2, figsize=(10, 10))\n\n\ndef plot_it(axs, ominc, xas, eloss, rixscut, rixsmap=None, label=None):\n    axs[0].plot(ominc, xas[:, 0], label=label)\n    axs[0].set_xlabel('Energy (eV)')\n    axs[0].set_ylabel('Intensity')\n    axs[0].set_title('XAS')\n\n    axs[1].plot(eloss, rixscut, label=f\"{label}\")\n    axs[1].set_xlabel('Energy loss (eV)')\n    axs[1].set_ylabel('Intensity')\n    axs[1].set_title(f'RIXS at resonance')\n\n    if rixsmap is not None:\n        art = axs[2].pcolormesh(ominc, eloss, rixsmap.T, shading='auto')\n        plt.colorbar(art, ax=axs[2], label='Intensity')\n        axs[2].set_xlabel('Incident energy (eV)')\n        axs[2].set_ylabel('Energy loss')\n        axs[2].set_title('RIXS map')\n\n\nrixs_pol_sum = rixs.sum(-1)\ncut_index = np.argmax(rixs_pol_sum[:, eloss < 2].sum(1))\nrixscut = rixs_pol_sum[cut_index]\n\nplot_it(axs.ravel(), ominc, xas, eloss, rixscut, rixsmap=rixs_pol_sum)\naxs[0, 1].set_xlim(right=3)\naxs[1, 0].set_ylim(top=3)\naxs[1, 1].remove()\n\nplt.show()"
      ]
    },
    {
      "cell_type": "markdown",
      "metadata": {},
      "source": [
        "## Full d shell calculation\nSome researchers have questioned the appropriateness of only including the\n$t_{2g}$ subshell for iridates [2]_. Let's test this. We specify that\nthe full $d$ shell should be used and apply cubic crystal field matrix\n:code:`v_cfmat`. We shift the energy offset by $\\frac{2}{5}10D_q$, which\nis the amount the crystal field moves the $t_{2g}$ subshell.\n\n"
      ]
    },
    {
      "cell_type": "code",
      "execution_count": null,
      "metadata": {
        "collapsed": false
      },
      "outputs": [],
      "source": [
        "ten_dq = 3.5\nv_cfmat = edrixs.cf_cubic_d(ten_dq)\noff = 11215 - 6 + ten_dq*2/5\nout = edrixs.ed_1v1c_py(('d', 'p32'), shell_level=(0, -off), v_soc=v_soc,\n                        v_cfmat=v_cfmat,\n                        c_soc=info['c_soc'], v_noccu=v_noccu, slater=slater)\neval_i, eval_n, trans_op = out\n\nxas_full_d_shell = edrixs.xas_1v1c_py(\n    eval_i, eval_n, trans_op, ominc, gamma_c=info['gamma_c'],\n    thin=thin, phi=phi, pol_type=pol_type,\n    gs_list=gs_list)\n\nrixs_full_d_shell = edrixs.rixs_1v1c_py(\n    eval_i, eval_n, trans_op, np.array([11215]), eloss,\n    gamma_c=info['gamma_c'], gamma_f=gamma_f,\n    thin=thin, thout=thout, phi=phi,\n    pol_type=pol_type_rixs, gs_list=gs_list,\n    temperature=temperature)\n\nfig, axs = plt.subplots(1, 2, figsize=(10, 4))\nplot_it(axs, ominc, xas, eloss, rixscut, label='$t_{2g}$ subshell')\nrixscut = rixs_full_d_shell.sum((0, -1))\nplot_it(axs, ominc, xas_full_d_shell, eloss, rixscut, label='$d$ shell')\n\naxs[0].legend()\naxs[1].legend()\nplt.show()"
      ]
    },
    {
      "cell_type": "markdown",
      "metadata": {},
      "source": [
        "As expected, we see the appearance of excitations on the energy scale of\n$10D_q$ in the XAS and RIXS. The low energy manifold is qualitatively,\nbut not quantiatively similar. This makes it clear that the parameterization\nof Sr\\ :sub:`2`\\ YIrO\\ :sub:`6`\\  is dependent on the model.\n\n"
      ]
    },
    {
      "cell_type": "markdown",
      "metadata": {},
      "source": [
        ".. rubric:: Footnotes\n\n.. [1] Bo Yuan et al.,\n       [Phys. Rev. B 95, 235114 (2017)](https://doi.org/10.1103/PhysRevB.95.235114).\n\n.. [2] Georgios L. Stamokostas and Gregory A. Fiete\n       [Phys. Rev. B 97, 085150 (2018)](https://doi.org/10.1103/PhysRevB.97.085150).\n\n"
      ]
    }
  ],
  "metadata": {
    "kernelspec": {
      "display_name": "Python 3",
      "language": "python",
      "name": "python3"
    },
    "language_info": {
      "codemirror_mode": {
        "name": "ipython",
        "version": 3
      },
      "file_extension": ".py",
      "mimetype": "text/x-python",
      "name": "python",
      "nbconvert_exporter": "python",
      "pygments_lexer": "ipython3",
      "version": "3.8.15"
    }
  },
  "nbformat": 4,
  "nbformat_minor": 0
}