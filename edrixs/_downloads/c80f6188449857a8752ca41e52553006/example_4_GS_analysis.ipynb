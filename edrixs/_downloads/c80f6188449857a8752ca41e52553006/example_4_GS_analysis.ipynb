{
  "cells": [
    {
      "cell_type": "code",
      "execution_count": null,
      "metadata": {
        "collapsed": false
      },
      "outputs": [],
      "source": [
        "%matplotlib inline"
      ]
    },
    {
      "cell_type": "markdown",
      "metadata": {},
      "source": [
        "\n# Ground state analysis for NiO\nThis example follows the `sphx_glr_auto_examples_example_3_AIM_XAS.py`\nexample and considers the same model. This time we show how to analyze\nthe wavevectors in terms of a\n$\\alpha |d^8L^{10}> + \\beta |d^9L^9> \\gamma |d^{10}L^8>$\nrepresentation.\n\nIn doing this we will go through the exercise of building and diagonalizing\nthe Hamiltonian in a way that hopefully clarifies how to analyze other\nproperties of the model.\n"
      ]
    },
    {
      "cell_type": "code",
      "execution_count": null,
      "metadata": {
        "collapsed": false
      },
      "outputs": [],
      "source": [
        "import edrixs\nimport numpy as np\nimport matplotlib.pyplot as plt\nimport scipy\nimport example_3_AIM_XAS\nimport importlib\n_ = importlib.reload(example_3_AIM_XAS)"
      ]
    },
    {
      "cell_type": "markdown",
      "metadata": {},
      "source": [
        "## Hamiltonian\nedrixs builds model Hamiltonians based on two fermion and four fermion terms.\nThe four fermion terms come from Coulomb interactions and will be\nassigned to :code:`umat`. All other interactions contribute to two fermion\nterms in :code:`emat`.\n\n   .. math::\n    \\begin{equation}\n    \\hat{H}_{i} = \\sum_{\\alpha,\\beta} t_{\\alpha,\\beta}\n    \\hat{f}^{\\dagger}_{\\alpha} \\hat{f}_{\\beta}\n    + \\sum_{\\alpha,\\beta,\\gamma,\\delta} U_{\\alpha,\\beta,\\gamma,\\delta}\n    \\hat{f}^{\\dagger}_{\\alpha}\\hat{f}^{\\dagger}_{\\beta}\n    \\hat{f}_{\\gamma}\\hat{f}_{\\delta},\n    \\end{equation}\n\n\n"
      ]
    },
    {
      "cell_type": "markdown",
      "metadata": {},
      "source": [
        "## Import parameters\nLet's get the parammeters we need from the\n`sphx_glr_auto_examples_example_3_AIM_XAS.py` example. We need to\nconsider :code:`ntot=20` spin-orbitals\nfor this problem.\n\n"
      ]
    },
    {
      "cell_type": "code",
      "execution_count": null,
      "metadata": {
        "collapsed": false
      },
      "outputs": [],
      "source": [
        "from example_3_AIM_XAS import (F0_dd, F2_dd, F4_dd,\n                               nd, norb_d, norb_bath, v_noccu,\n                               imp_mat, CF, bath_level,\n                               hyb, ext_B, trans_c2n)\nntot = 20"
      ]
    },
    {
      "cell_type": "markdown",
      "metadata": {},
      "source": [
        "## Four fermion matrix\nThe Coulomb interactions in the $d$ shell of this problem are described\nby a $10\\times10\\times10\\times10$ matrix. We\nneed to specify a $20\\times20\\times20\\times 20$ matrix since we need to\ninclude the full problem with :code:`ntot=20` spin-orbitals. The edrixs\nconvention is to put the $d$ orbitals first, so we assign them to the\nfirst $10\\times10\\times10\\times 10$ indices of the matrix. edrixs\ncreates this matrix in the complex harmmonic basis by default.\n\n"
      ]
    },
    {
      "cell_type": "code",
      "execution_count": null,
      "metadata": {
        "collapsed": false
      },
      "outputs": [],
      "source": [
        "umat_delectrons = edrixs.get_umat_slater('d', F0_dd, F2_dd, F4_dd)\numat = np.zeros((ntot, ntot, ntot, ntot), dtype=complex)\numat[:norb_d, :norb_d, :norb_d, :norb_d] += umat_delectrons"
      ]
    },
    {
      "cell_type": "markdown",
      "metadata": {},
      "source": [
        "## Two fermion matrix\nPreviously we made a $10\\times10$ two-fermion matrix describing the\n$d$-shell interactions. Keep in mind we did this in the real harmonic\nbasis. We need to specify the two-fermion matrix for\nthe full problem $20\\times20$ spin-orbitals in size.\n\n"
      ]
    },
    {
      "cell_type": "code",
      "execution_count": null,
      "metadata": {
        "collapsed": false
      },
      "outputs": [],
      "source": [
        "emat_rhb = np.zeros((ntot, ntot), dtype='complex')\nemat_rhb[0:norb_d, 0:norb_d] += imp_mat"
      ]
    },
    {
      "cell_type": "markdown",
      "metadata": {},
      "source": [
        "The :code:`bath_level` energies need to be applied to the diagonal of the\nlast $10\\times10$ region of the matrix.\n\n"
      ]
    },
    {
      "cell_type": "code",
      "execution_count": null,
      "metadata": {
        "collapsed": false
      },
      "outputs": [],
      "source": [
        "indx = np.arange(norb_d, norb_d*2)\nemat_rhb[indx, indx] += bath_level[0]"
      ]
    },
    {
      "cell_type": "markdown",
      "metadata": {},
      "source": [
        "The :code:`hyb` terms mix the impurity and bath states and are therefore\napplied to the off-diagonal terms of :code:`emat`.\n\n"
      ]
    },
    {
      "cell_type": "code",
      "execution_count": null,
      "metadata": {
        "collapsed": false
      },
      "outputs": [],
      "source": [
        "indx1  = np.arange(norb_d)\nindx2 = np.arange(norb_d, norb_d*2)\nemat_rhb[indx1, indx2] += hyb[0]\nemat_rhb[indx2, indx1] += np.conj(hyb[0])"
      ]
    },
    {
      "cell_type": "markdown",
      "metadata": {},
      "source": [
        "We now need to transform into the complex harmonic basis. We assign\nthe two diagonal blocks of a $20\\times20$ matrix to the\nconjugate transpose of the transition matrix.\n\n"
      ]
    },
    {
      "cell_type": "code",
      "execution_count": null,
      "metadata": {
        "collapsed": false
      },
      "outputs": [],
      "source": [
        "tmat = np.eye(ntot, dtype=complex)\nfor i in range(2):\n    off = i * norb_d\n    tmat[off:off+norb_d, off:off+norb_d] = np.conj(np.transpose(trans_c2n))\n\nemat_chb = edrixs.cb_op(emat_rhb, tmat)"
      ]
    },
    {
      "cell_type": "markdown",
      "metadata": {},
      "source": [
        "The spin exchange is built from the spin operators and the effective field\nis applied to the $d$-shell region of the matrix.\n\n"
      ]
    },
    {
      "cell_type": "code",
      "execution_count": null,
      "metadata": {
        "collapsed": false
      },
      "outputs": [],
      "source": [
        "v_orbl = 2\nsx = edrixs.get_sx(v_orbl)\nsy = edrixs.get_sy(v_orbl)\nsz = edrixs.get_sz(v_orbl)\nzeeman = ext_B[0] * (2 * sx) + ext_B[1] * (2 * sy) + ext_B[2] * (2 * sz)\nemat_chb[0:norb_d, 0:norb_d] += zeeman"
      ]
    },
    {
      "cell_type": "markdown",
      "metadata": {},
      "source": [
        "## Build the Fock basis and Hamiltonain and Diagonalize\nWe create the fock basis and build the Hamiltonian using the full set of\n$20$ spin orbitals,  specifying that they are occuplied by $18$\nelectrons. See the `sphx_glr_auto_examples_example_0_ed_calculator.py`\nexample for more details if needed. We also set the ground state to zero\nenergy.\n\n"
      ]
    },
    {
      "cell_type": "code",
      "execution_count": null,
      "metadata": {
        "collapsed": false
      },
      "outputs": [],
      "source": [
        "basis = np.array(edrixs.get_fock_bin_by_N(ntot, v_noccu))\nH = (edrixs.build_opers(2, emat_chb, basis)\n  + edrixs.build_opers(4, umat, basis))\n\ne, v = scipy.linalg.eigh(H)\ne -= e[0]"
      ]
    },
    {
      "cell_type": "markdown",
      "metadata": {},
      "source": [
        "## State analysis\nNow we have all the eigenvectors in the Fock basis, we need to pick out the\nstates that have 8, 9 and 10 $d$-electrons, respectively.\nThe modulus squared of these coeffcients need to be added up to get\n$\\alpha$, $\\beta$, and $\\gamma$.\n\n"
      ]
    },
    {
      "cell_type": "code",
      "execution_count": null,
      "metadata": {
        "collapsed": false
      },
      "outputs": [],
      "source": [
        "num_d_electrons = basis[:, :norb_d].sum(1)\n\nalphas = np.sum(np.abs(v[num_d_electrons==8, :])**2, axis=0)\nbetas = np.sum(np.abs(v[num_d_electrons==9, :])**2, axis=0)\ngammas = np.sum(np.abs(v[num_d_electrons==10, :])**2, axis=0)"
      ]
    },
    {
      "cell_type": "markdown",
      "metadata": {},
      "source": [
        "The ground state is the first entry.\n\n"
      ]
    },
    {
      "cell_type": "code",
      "execution_count": null,
      "metadata": {
        "collapsed": false
      },
      "outputs": [],
      "source": [
        "message = \"Ground state\\nalpha={:.3f}\\tbeta={:.3f}\\tgamma={:.3f}\"\nprint(message.format(alphas[0], betas[0], gammas[0]))"
      ]
    },
    {
      "cell_type": "markdown",
      "metadata": {},
      "source": [
        "## Plot\nLet's look how $\\alpha$, $\\beta$, and $\\gamma$ vary with\nenergy.\n\n"
      ]
    },
    {
      "cell_type": "code",
      "execution_count": null,
      "metadata": {
        "collapsed": false
      },
      "outputs": [],
      "source": [
        "fig, ax = plt.subplots()\n\nax.plot(e, alphas, label=r'$\\alpha$ $d^8L^{10}$')\nax.plot(e, betas, label=r'$\\beta$ $d^9L^{9}$')\nax.plot(e, gammas, label=r'$\\gamma$ $d^{10}L^{8}$')\n\nax.set_xlabel('Energy (eV)')\nax.set_ylabel('Population')\nax.set_title('NiO')\nax.legend()\nplt.show()"
      ]
    },
    {
      "cell_type": "markdown",
      "metadata": {},
      "source": [
        "We see that the ligand states are mixed into the ground state, but the\nmajority of the weight for the $L^9$ and $L^8$ states\nlive at $\\Delta$ and $2\\Delta$. With a lot of additional\nstructure from the other interactions.\n\n"
      ]
    }
  ],
  "metadata": {
    "kernelspec": {
      "display_name": "Python 3",
      "language": "python",
      "name": "python3"
    },
    "language_info": {
      "codemirror_mode": {
        "name": "ipython",
        "version": 3
      },
      "file_extension": ".py",
      "mimetype": "text/x-python",
      "name": "python",
      "nbconvert_exporter": "python",
      "pygments_lexer": "ipython3",
      "version": "3.8.12"
    }
  },
  "nbformat": 4,
  "nbformat_minor": 0
}