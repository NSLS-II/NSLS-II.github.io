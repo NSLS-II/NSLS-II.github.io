{
  "cells": [
    {
      "cell_type": "code",
      "execution_count": null,
      "metadata": {
        "collapsed": false
      },
      "outputs": [],
      "source": [
        "%matplotlib inline"
      ]
    },
    {
      "cell_type": "markdown",
      "metadata": {},
      "source": [
        "\n# Hubbard Dimer\nThis exercise will demonstrate how to handle hopping and multi-site problems within\nedrixs using the example of a Hubbard dimer. We want to solve the equation\n\n  .. math::\n    \\begin{equation}\n    \\hat{H} = \\sum_{i,j}  \\sum_{\\sigma} t_{i,j} \\hat{f}^{\\dagger}_{i,\\sigma} \\hat{f}_{j, \\sigma}\n    + U \\sum_{i} \\hat{n}_{i,\\uparrow}\\hat{n}_{i,\\downarrow},\n    \\end{equation} \n\nwhich involves two sites labeled with indices $i$ or $j$ with two \nelectrons of spin $\\sigma\\in{\\uparrow,\\downarrow}$. $t_{i,j}$\nis the hopping between sites, $\\hat{f}^{\\dagger}_{i,\\sigma}$ is the\ncreation operators, and \n$\\hat{n}^{\\dagger}_{i,\\sigma}=\\hat{f}^{\\dagger}_{i,\\sigma}\\hat{f}_{i,\\sigma}$\nis the number operator. The main task is to represent this Hamiltonian and \nthe related spin operator using the EDRIXS two-fermion and four-fermion form \nwhere $\\alpha,\\beta,\\delta,\\gamma$ are the indices of the single\nparticle basis.\n\n  .. math::\n    \\begin{equation}\n    \\hat{H} = \\sum_{\\alpha,\\beta} t_{\\alpha,\\beta} \\hat{f}^{\\dagger}_{\\alpha} \\hat{f}_{\\beta}\n    + \\sum_{\\alpha,\\beta,\\gamma,\\delta} U_{\\alpha,\\beta,\\gamma,\\delta}\n    \\hat{f}^{\\dagger}_{\\alpha}\\hat{f}^{\\dagger}_{\\beta}\\hat{f}_{\\gamma}\\hat{f}_{\\delta}.\n    \\end{equation} \n"
      ]
    },
    {
      "cell_type": "markdown",
      "metadata": {},
      "source": [
        "## Initialize matrices\nWe start by noting that each of the two sites is like an $l=0$\n$s$-orbital with two spin-orbitals each. We will include\ntwo electron occupation and build the Fock basis.\n\n"
      ]
    },
    {
      "cell_type": "code",
      "execution_count": null,
      "metadata": {
        "collapsed": false
      },
      "outputs": [],
      "source": [
        "import numpy as np\nimport matplotlib.pyplot as plt\nimport scipy\nimport edrixs\nnp.set_printoptions(precision=4)\n\n\nll = 0\ncase = 's'\nnorb = 4\nnoccu = 2\nbasis = edrixs.get_fock_bin_by_N(norb, noccu)"
      ]
    },
    {
      "cell_type": "markdown",
      "metadata": {},
      "source": [
        "## Create function to populate and diagonalize matrices\nThe Coulomb and hopping matrices :code:`umat` and :code:`emat` will be \nrepresented by $4\\times4\\times4\\times4$ and $4\\times4$ matrices,\nrespectively. Note that we needed to specify\nthat these are, in general, complex, although\nthey happen to contain only real numbers in this case. We follow the convention\nthat these are ordered first by site and then by spin:\n$|0\\uparrow>, |0\\downarrow>, |1\\uparrow>, |1\\downarrow>$. \nConsequently the $2\\times2$ and $2\\times2\\times2\\times2$ block\ndiagonal structures of the matrices will contain the on-site interactions. \nThe converse is true for the hopping between the sites.\nFrom here let us generate a function to build and diagonalize the Hamiltonian.\nWe need to generate the Coulomb matrix for the on-site interactions and\napply it to the  block diagonal. The hopping connects off-site indices with\nthe same spin.\n\n"
      ]
    },
    {
      "cell_type": "code",
      "execution_count": null,
      "metadata": {
        "collapsed": false
      },
      "outputs": [],
      "source": [
        "def diagonalize(U, t, extra_emat=None):\n    \"\"\"Diagonalize 2 site Hubbard Hamiltonian\"\"\"\n    umat = np.zeros((norb, norb, norb, norb), dtype=np.complex128)\n    emat = np.zeros((norb, norb), dtype=np.complex128)\n    U_mat_1site = edrixs.get_umat_slater('s', U)\n    umat[:2, :2, :2, :2,] = umat[2:, 2:, 2:, 2:] = U_mat_1site\n    emat[2, 0] = emat[3, 1] = emat[0, 2] = emat[1, 3] = t\n    \n    if extra_emat is not None:\n        emat = emat + extra_emat\n\n    H = (edrixs.build_opers(2, emat, basis)\n         + edrixs.build_opers(4, umat, basis))\n \n    e, v = scipy.linalg.eigh(H)\n    return e, v"
      ]
    },
    {
      "cell_type": "markdown",
      "metadata": {},
      "source": [
        "## The large $U$ limit\nLet us see what happens with $U \\gg t$.\n\n"
      ]
    },
    {
      "cell_type": "code",
      "execution_count": null,
      "metadata": {
        "collapsed": false
      },
      "outputs": [],
      "source": [
        "e, v = diagonalize(1000, 1)\nprint(\"Energies are\")\nprint(e)"
      ]
    },
    {
      "cell_type": "markdown",
      "metadata": {},
      "source": [
        "To analyze what is going on we can determine the spin expectation values\nof the cluster. Building the operators follows the same form as the \nHamiltonian and the previous example.\n\n"
      ]
    },
    {
      "cell_type": "code",
      "execution_count": null,
      "metadata": {
        "collapsed": false
      },
      "outputs": [],
      "source": [
        "spin_mom_one_site = edrixs.get_spin_momentum(ll)\nspin_mom = np.zeros((3, norb, norb), dtype=np.complex128)\nspin_mom[:, :2, :2] = spin_mom[:, 2:, 2:] = spin_mom_one_site\n\nopS = edrixs.build_opers(2, spin_mom, basis)\nopS_squared = (np.dot(opS[0], opS[0]) + np.dot(opS[1], opS[1])\n               + np.dot(opS[2], opS[2]))"
      ]
    },
    {
      "cell_type": "markdown",
      "metadata": {},
      "source": [
        "This time let us include a tiny magnetic field along the $z$-axis, so\nthat we have a well-defined measurement axis and print out the expectation \nvalues.\n\n"
      ]
    },
    {
      "cell_type": "code",
      "execution_count": null,
      "metadata": {
        "collapsed": false
      },
      "outputs": [],
      "source": [
        "zeeman = np.zeros((norb, norb), dtype=np.complex128)\nzeeman[:2, :2] = zeeman[2:, 2:] = 1e-8*spin_mom_one_site[2]\ne, v = diagonalize(1000, 1, extra_emat=zeeman)\n\nSsq_exp = edrixs.cb_op(opS_squared, v).diagonal().real\nSz_exp = edrixs.cb_op(opS[2], v).diagonal().real\n\nheader = \"{:<10s}\\t{:<6s}\\t{:<6s}\"\nprint(header.format(\"E\", \"S(S+1)\", \"<Sz>\"))\nfor i in range(len(e)):\n    print(\"{:<2f}\\t{:.1f}\\t{:.1f}\".format(e[i], Ssq_exp[i], Sz_exp[i]))"
      ]
    },
    {
      "cell_type": "markdown",
      "metadata": {},
      "source": [
        "For $U \\gg t$ the two states with double occupancy acquire an energy of \napproximately $U$. The low energy states are a $S=0$ singlet and\nand $S=1$ triplet, which are split by $4t^2/U$, which is the\nmagnetic exchange term. \n\n"
      ]
    },
    {
      "cell_type": "markdown",
      "metadata": {},
      "source": [
        "## $U$ dependence\nLet us plot the changes in  energy with $U$.\n\n"
      ]
    },
    {
      "cell_type": "code",
      "execution_count": null,
      "metadata": {
        "collapsed": false
      },
      "outputs": [],
      "source": [
        "plt.figure()\n\nt = 1\nUs = np.linspace(0.01, 10, 50)\nEs = np.array([diagonalize(U, t, extra_emat=zeeman)[0] for U in Us])\n\nplt.plot(Us/t, Es/t)\nplt.xlabel('U/t')\nplt.ylabel('Eigenstate energies/t')\nplt.show()"
      ]
    },
    {
      "cell_type": "markdown",
      "metadata": {},
      "source": [
        "To help interpret this, we can represent the eigenvectors in terms of a sum\nof the single particle states.\n\n"
      ]
    },
    {
      "cell_type": "code",
      "execution_count": null,
      "metadata": {
        "collapsed": false
      },
      "outputs": [],
      "source": [
        "def get_single_particle_repesentations(v):\n    reps = []\n    for i in range(6):\n        rep = sum([vec*weight for weight, vec\n                        in zip(v[:, i], np.array(basis))])\n        reps.append(rep)\n    \n    return np.array(reps)\n\nt = 1\nfor U in [10000, 0.0001]:\n    e, v = diagonalize(U, t, extra_emat=zeeman)\n    repesentations = get_single_particle_repesentations(v)\n    print(\"For U={} t={} states  are\".format(U,  t))\n    print(repesentations.round(3).real)\n    print(\"\\n\")"
      ]
    },
    {
      "cell_type": "markdown",
      "metadata": {},
      "source": [
        "For $U \\gg t$ the ground state maximizes its magnetic exchange \nenergy saving. In the $U \\ll t$ condition the ground state maximizes \nits kinetic energy saving. Since both states share the same parity, the\ncross-over between them is smooth.\n"
      ]
    }
  ],
  "metadata": {
    "kernelspec": {
      "display_name": "Python 3",
      "language": "python",
      "name": "python3"
    },
    "language_info": {
      "codemirror_mode": {
        "name": "ipython",
        "version": 3
      },
      "file_extension": ".py",
      "mimetype": "text/x-python",
      "name": "python",
      "nbconvert_exporter": "python",
      "pygments_lexer": "ipython3",
      "version": "3.8.12"
    }
  },
  "nbformat": 4,
  "nbformat_minor": 0
}