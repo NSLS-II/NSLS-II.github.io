{
  "cells": [
    {
      "cell_type": "markdown",
      "metadata": {},
      "source": [
        "\n# Hund's Interactions in charge transfer insulators\nIn this exercise we will solve a toy model relevant to cubic $d^8$ charge transfer insulators\nsuch as NiO or NiPS\\ :sub:`3`. We are interested in better understanding the interplay between the\nHund's interactions and the charge transfer energy in terms of the energy of the triplet-singlet\nexcitations of this model. These seem to act against each other in that the Hund's interactions\nimpose a energy cost for the triplet-singlet excitations whenever there are two holes on\nthe Ni $d$ orbitals. The charge transfer physics, on the other hand, will promote a\n$d^9\\underline{L}$ ground state in which the Hund's interactions are not active.\n\nThe simplest model that captures this physics requires four Ni spin-orbitals, representing the Ni\n$e_g$ manifold. We will represent the ligand states in the same way as the Anderson impurity\nmodel in terms of one effective ligand spin-orbital per Ni spin-orbital. We assume these effective\norbitals have been constructed so that each Ni orbital only bonds to one sister orbital. For\nsimplicity, we will treat all Ni and all ligand orbitals as equivalent, even though a more\nrealistic model would account for the different Coulomb and hopping of the $d_{3z^2-r^2}$\nand $d_{x^2-y^2}$ orbitals. We therefore simply connect Ni and ligand orbitals via a constant\nhopping $t$. We also include the ligand energy parameter $e_L$.\n\nThe easiest way to implement the requried Coulomb interactions is to use the so-called Kanamori\nHamiltonian, which is a simplfied form for the interactions, which treats all orbitals as\nequivalent. Daniel Khomskii's book provides a great explanation of this physics [1]_.  We\nparameterize the interactions via Coulomb repulsion parameter $U$ and Hund's exchange\n$J_H$. EDRIXS provides this functionality via the  more general\n:func:`.get_umat_kanamori` function.\n\nIt's also easiest to consider this problem in hole langauge, which means our eight spin-orbitals\nare populated by two fermions.\n"
      ]
    },
    {
      "cell_type": "markdown",
      "metadata": {},
      "source": [
        "## Setup\nWe start by loading the necessary modules, and defining the total number of\norbitals and electrons.\n\n"
      ]
    },
    {
      "cell_type": "code",
      "execution_count": null,
      "metadata": {
        "collapsed": false
      },
      "outputs": [],
      "source": [
        "import edrixs\nimport scipy\nimport numpy as np\nimport matplotlib.pyplot as plt\n\nnorb = 8\nnoccu = 2"
      ]
    },
    {
      "cell_type": "markdown",
      "metadata": {},
      "source": [
        "## Diagonalization\nLet's write a function to diagonalize our model in a similar way to\nthe `sphx_glr_auto_examples_example_6_Hubbard_dimer.py` example.\nWithin this function, we also create operators to count the number of\n$d$ holes and operators to calculate expectation values for\n$S^2$ and $S_z$. For the latter to make sense, we also include a\nsmall effective spin interaction along $z$.\n\n"
      ]
    },
    {
      "cell_type": "code",
      "execution_count": null,
      "metadata": {
        "collapsed": false
      },
      "outputs": [],
      "source": [
        "def diagonalize(U, JH, t, eL, n=1):\n    # Setup Coulomb matrix\n    umat = np.zeros((norb, norb, norb, norb), dtype=complex)\n    uNi = edrixs.get_umat_kanamori(norb//2, U, JH)\n    umat[:norb//2, :norb//2, :norb//2, :norb//2] = uNi\n\n    # Setup hopping matrix\n    emat = np.zeros((norb, norb), dtype=complex)\n    ind = np.arange(norb//2)\n    emat[ind, ind + norb//2] = t\n    emat[ind+norb//2, ind] = np.conj(t)  # conj is not needed, but is good practise.\n    ind = np.arange(norb//2, norb)\n    emat[ind, ind] += eL\n\n    # Spin operator\n    spin_mom = np.zeros((3, norb, norb), dtype=complex)\n    spin_mom[:, :2, :2] = edrixs.get_spin_momentum(0)\n    spin_mom[:, 2:4, 2:4] = edrixs.get_spin_momentum(0)\n    spin_mom[:, 4:6, 4:6] = edrixs.get_spin_momentum(0)\n    spin_mom[:, 6:8, 6:8] = edrixs.get_spin_momentum(0)\n\n    # add small effective field along z\n    emat += 1e-6*spin_mom[2]\n\n    # Diagonalize\n    basis = edrixs.get_fock_bin_by_N(norb, noccu)\n    H = edrixs.build_opers(2, emat, basis) + edrixs.build_opers(4, umat, basis)\n    e, v = scipy.linalg.eigh(H)\n    e -= e[0]  # Define ground state as zero energy\n\n    # Operator for holes on Ni\n    basis = np.array(basis)\n    num_d_electrons = basis[:, :4].sum(1)\n    d0 = np.sum(np.abs(v[num_d_electrons == 0, :])**2, axis=0)\n    d1 = np.sum(np.abs(v[num_d_electrons == 1, :])**2, axis=0)\n    d2 = np.sum(np.abs(v[num_d_electrons == 2, :])**2, axis=0)\n\n    # S^2 and Sz operators\n    opS = edrixs.build_opers(2, spin_mom, basis)\n    S_squared_op = np.dot(opS[0], opS[0]) + np.dot(opS[1], opS[1]) + np.dot(opS[2], opS[2])\n    S_squared_exp = edrixs.cb_op(S_squared_op, v).diagonal().real\n    S_z_exp = edrixs.cb_op(opS[2], v).diagonal().real\n\n    return e[:n], d0[:n], d1[:n], d2[:n], S_squared_exp[:n], S_z_exp[:n]"
      ]
    },
    {
      "cell_type": "markdown",
      "metadata": {},
      "source": [
        "## The atomic limit\nFor simplicity, let's start in the atomic limit with $e_L \\gg t \\gg U$\nwhere all holes are on nickel. In this case, there are six ways to distribute\ntwo holes on the four Ni spin-orbitals. Let's examine the expectation values\nof the $S^2$ and $S_z$ operators.\n\n"
      ]
    },
    {
      "cell_type": "code",
      "execution_count": null,
      "metadata": {
        "collapsed": false
      },
      "outputs": [],
      "source": [
        "U = 10\nJH = 2\nt = 100\neL = 1e10\n\ne, d0, d1, d2, S_squared_exp, S_z_exp = diagonalize(U, JH, t, eL, n=6)\n\nprint(\"Ground state\\nE\\t<S(S+1)\\tSz>\")\nfor i in range(3):\n    print(f\"{e[i]:.2f}\\t{S_squared_exp[i]:.2f}\\t{S_z_exp[i]:.2f}\")\n\nprint(\"\\nExcited state\\nE\\t<S(S+1)\\tSz>\")\nfor i in range(3, 6):\n    print(f\"{e[i]:.2f}\\t{S_squared_exp[i]:.2f}\\t{S_z_exp[i]:.2f}\")"
      ]
    },
    {
      "cell_type": "markdown",
      "metadata": {},
      "source": [
        "The ground state is a high-spin triplet. The fourth and fifth\nstates (the first excited state) are low-spin singlet excitons at\n$2 J_H$. These have one hole on each orbital in the antisymmetric\ncombination of $|\\uparrow\\downarrow>-|\\downarrow\\uparrow>$.\nThe state at $3 J_H$ also has one hole on each orbital in the symmetric\n$|\\uparrow\\downarrow>+|\\downarrow\\uparrow>$ configuration.\n\n"
      ]
    },
    {
      "cell_type": "markdown",
      "metadata": {},
      "source": [
        "## Where are the holes for large hopping\nAs discussed at the start, we are interested to see interplay between Hund's\nand charge-transfer physics, which will obviously depend strongly on whether\nthe holes are on Ni or the ligand. Let's see what happens as $e_L$ is\nreduced while observing the location of the ground state and exciton holes.\n\n"
      ]
    },
    {
      "cell_type": "code",
      "execution_count": null,
      "metadata": {
        "collapsed": false
      },
      "outputs": [],
      "source": [
        "U = 10\nJH = 2\nt = 100\n\neLs = np.linspace(0, 1000, 30)\n\nfig, axs = plt.subplots(1, 2, figsize=(8, 4))\n\nfor ax, ind in zip(axs.ravel(), [0, 3]):\n    ds = np.array([diagonalize(U, JH, t, eL, n=6)\n                   for eL in eLs])\n\n    ax.plot(eLs, ds[:, 1, ind], 'o', label='$d^0$')\n    ax.plot(eLs, ds[:, 2, ind], 's', label='$d^1$')\n    ax.plot(eLs, ds[:, 3, ind], '^', label='$d^2$')\n    ax.set_xlabel(\"Energy of ligands $e_L$\")\n    ax.set_ylabel(\"Number of electrons\")\n    ax.legend()\n\naxs[0].set_title(\"Location of ground state holes\")\naxs[1].set_title(\"Location of exciton holes\")\n\nplt.tight_layout()\nplt.show()"
      ]
    },
    {
      "cell_type": "markdown",
      "metadata": {},
      "source": [
        "For large $e_L$, we see that both holes are on nickel as expected. In\nthe opposite limit of $|e_L| \\ll t$ and $U \\ll t$ the holes are\nshared in the ratio 0.25:0.5:0.25 as there are two ways to have one hole on\nNi. In the limit of large $e_L$, all holes move onto Ni. Since\n$t$ is large, this applies equally to both the ground state and the\nexciton.\n\n"
      ]
    },
    {
      "cell_type": "markdown",
      "metadata": {},
      "source": [
        "## Connecton between atomic and charge transfer limits\nWe now examine the quantum numbers during cross over between the two limits\nwith $e_L$. Let's first look at the how $<S^2>$ changes for the\nground state and exciton and then examine how the exciton energy changes.\n\n"
      ]
    },
    {
      "cell_type": "code",
      "execution_count": null,
      "metadata": {
        "collapsed": false
      },
      "outputs": [],
      "source": [
        "U = 10\nJH = 2\nt = 100\n\neLs = np.linspace(0, 1000, 30)\n\ninfo = np.array([diagonalize(U, JH, t, eL, n=6)\n                 for eL in eLs])\n\nfig, axs = plt.subplots(1, 2, figsize=(8, 4))\n\n\naxs[0].plot(eLs, info[:, 4, 0], label='Ground state')\naxs[0].plot(eLs, info[:, 4, 3], label='Exciton')\naxs[0].set_xlabel(\"Energy of ligands $e_L$\")\naxs[0].set_ylabel('$<S^2>$')\naxs[0].set_title('Quantum numbers')\naxs[0].legend()\n\naxs[1].plot(eLs, info[:, 0, 3], '+', color='C0')\naxs[1].set_xlabel(\"Energy of ligands $e_L$\")\naxs[1].set_ylabel('Exciton energy', color='C0')\naxr = axs[1].twinx()\naxr.plot(eLs, info[:, 3, 5], 'x', color='C1')\naxr.set_ylabel('$d^2$ fraction', color='C1')\n\nfor ax, color in zip([axs[1], axr], ['C0', 'C1']):\n    for tick in ax.get_yticklabels():\n        tick.set_color(color)\n\naxs[1].set_ylim(0, 2*JH)\naxr.set_ylim(0, 1)\n\naxs[1].set_title('Exciton energy vs. $d^2$ character')\nplt.tight_layout()\nplt.show()"
      ]
    },
    {
      "cell_type": "markdown",
      "metadata": {},
      "source": [
        "In the left panel, we see that the two limits are adiabatically connected\nas they preseve the same quantum numbers. This is because there is always\nan appreciable double occupancy under conditions where the\n$d^9\\underline{L}$ character is maximized and this continues to favor\nthe high spin ground state. Other interactions such as strong tetragonal\ncrystal field would be needed to overcome the Hund's interactions and break\nthis paradigm. In the right panel, we see that the exciton energy simply\nscales with the double occupancy. Overall, even though\nHund's interactions are irrelevant for the $d^9\\underline{L}$\nelectronic configuration, whenever $t$ is appreciable there is a\nstrong mixing with the $d^8$ component is always present, which\ndominates the energy of the exciton.\n\n"
      ]
    },
    {
      "cell_type": "markdown",
      "metadata": {},
      "source": [
        "## Charge transfer excitons\nAnother limiting case of the model is where $t$ is smaller than the\nCoulomb interactions. This, however, tends to produce\nground state and exciton configurations that correspond to those of distinct\natomic models. Let's look at the $e_L$ dependence in this case.\n\n"
      ]
    },
    {
      "cell_type": "code",
      "execution_count": null,
      "metadata": {
        "collapsed": false
      },
      "outputs": [],
      "source": [
        "U = 10\nJH = 2\nt = .5\neL = 7\n\neLs = np.linspace(0, 20, 30)\n\nfig, axs = plt.subplots(1, 2, figsize=(8, 4))\n\nfor ax, ind in zip(axs.ravel(), [0, 3]):\n    ds = np.array([diagonalize(U, JH, t, eL, n=6)\n                   for eL in eLs])\n\n    ax.plot(eLs, ds[:, 1, ind], 'o', label='$d^0$')\n    ax.plot(eLs, ds[:, 2, ind], 's', label='$d^1$')\n    ax.plot(eLs, ds[:, 3, ind], '^', label='$d^2$')\n    ax.set_xlabel(\"Energy of ligands $e_L$\")\n    ax.set_ylabel(\"Number of electrons\")\n    ax.legend()\n\naxs[0].axvline(x=eL, linestyle=':', color='k')\naxs[1].axvline(x=eL, linestyle=':', color='k')\n\naxs[0].set_title(\"Location of ground state holes\")\naxs[1].set_title(\"Location of exciton holes\")\n\nplt.tight_layout()\nplt.show()"
      ]
    },
    {
      "cell_type": "markdown",
      "metadata": {},
      "source": [
        "Around $e_L = 7$ the plot shows that the excition is primairly a\n$d^2 \\rightarrow d^1$ transition or a\n$d^8 \\rightarrow d^{9}\\underline{L}$ transition in electron language.\nLet's examine the energy and quantum numbers.\n\n"
      ]
    },
    {
      "cell_type": "code",
      "execution_count": null,
      "metadata": {
        "collapsed": false
      },
      "outputs": [],
      "source": [
        "e, d0, d1, d2, S_squared_exp, S_z_exp = diagonalize(U, JH, t, eL, n=6)\n\nprint(\"Ground state\\nE\\t<S(S+1)\\tSz>\")\nfor i in range(3):\n    print(f\"{e[i]:.2f}\\t{S_squared_exp[i]:.2f}\\t{S_z_exp[i]:.2f}\")\n\nprint(\"\\nExcited state\\nE\\t<S(S+1)\\tSz>\")\nfor i in range(3, 6):\n    print(f\"{e[i]:.2f}\\t{S_squared_exp[i]:.2f}\\t{S_z_exp[i]:.2f}\")"
      ]
    },
    {
      "cell_type": "markdown",
      "metadata": {},
      "source": [
        "We once again see the same quantum numbers, despite the differences in mixing\nin the ground state and exciton.\n\n"
      ]
    },
    {
      "cell_type": "markdown",
      "metadata": {},
      "source": [
        ".. rubric:: Footnotes\n\n.. [1] D. Khomskii, Transition Metal Compounds, Cambridge University Press (2014)\n\n"
      ]
    }
  ],
  "metadata": {
    "kernelspec": {
      "display_name": "Python 3",
      "language": "python",
      "name": "python3"
    },
    "language_info": {
      "codemirror_mode": {
        "name": "ipython",
        "version": 3
      },
      "file_extension": ".py",
      "mimetype": "text/x-python",
      "name": "python",
      "nbconvert_exporter": "python",
      "pygments_lexer": "ipython3",
      "version": "3.10.14"
    }
  },
  "nbformat": 4,
  "nbformat_minor": 0
}