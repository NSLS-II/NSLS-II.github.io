{
  "cells": [
    {
      "cell_type": "code",
      "execution_count": null,
      "metadata": {
        "collapsed": false
      },
      "outputs": [],
      "source": [
        "%matplotlib inline"
      ]
    },
    {
      "cell_type": "markdown",
      "metadata": {},
      "source": [
        "\n# X-ray transitions\nThis example explains how to calculate x-ray transition amplitudes between\nspecific orbital and spin states. We take the case of a cuprate with a\n$d_{x^2-y^2}$ ground state and compute the angular dependence of spin-flip\nand non-spin-flip processes.\n\nThis case was chosen because the eigenvectors in question are simple enough\nfor us to write them out more-or-less by hand, so this example helps the reader\nto understand what happens under the hood in more complex cases.\n\nSome of the code here is credited to Yao Shen who used this approach for the\nanalysis of a low valence nickelate material [1]_. The task performed repeats\nanalysis done by many researchers e.g. Luuk Ament et al [2]_ as well as\nseveral other groups.\n"
      ]
    },
    {
      "cell_type": "code",
      "execution_count": null,
      "metadata": {
        "collapsed": false
      },
      "outputs": [],
      "source": [
        "import edrixs\nimport numpy as np\nimport matplotlib.pyplot as plt\nimport scipy"
      ]
    },
    {
      "cell_type": "markdown",
      "metadata": {},
      "source": [
        "## Eigenvectors\nLet us start by determining the eigenvectors involved in the transitions.\nIf we wanted to, we could build and diagonalize a suitable Hamiltonian, but\nit will be more convenient and pedagogical to write a function that generates\nthem directly. Using hole language and the real harmonic basis we can generate\nthe eignvector by making an array of zeroes and setting the relevant\n:code:`orbital_index` to one. The array can then be transformed into the\ncomplex harmonic basis. The spin direction can be set using a vector\n$\\vec{B}$ to represent a magnetic field in terms of generalized spin\noperator $\\tilde{\\sigma}=\\vec{B}\\cdot\\sigma$ based on the Pauli matrices\n$\\sigma$. A full spin-orbital\neignvector with an arbitrary spin direction $\\Psi$ can be\ngenerated in terms of orbital eigenvector $\\psi$ as\n\n    .. math::\n       \\Psi^{\\uparrow} = \\frac{1}{\\sqrt{2}}\n       \\left[U_- \\psi^{\\uparrow} + D_- \\psi^{\\uparrow}\\right]\n\nwhere $U_-$ and $D_-$ are the first components of the two\neigenvectors of $\\tilde{\\sigma}$.\n\n"
      ]
    },
    {
      "cell_type": "code",
      "execution_count": null,
      "metadata": {
        "collapsed": false
      },
      "outputs": [],
      "source": [
        "def make_eigenvector(orbital_index, B, case='d'):\n    tmat_r2c = edrixs.tmat_r2c(case)\n    norb = tmat_r2c.shape[0]\n    eigenvector_rhb = np.zeros(norb, dtype=complex)\n    eigenvector_rhb[orbital_index] = 1\n    psi = np.dot(eigenvector_rhb, tmat_r2c)\n\n    Spauli = edrixs.get_pauli()\n    Emat_spin = sum(B[i]*Spauli[i] for i in range(3))\n    _, v = scipy.linalg.eigh(Emat_spin)\n    U, D = v[:, 0], v[:, 1]\n\n    Psi = np.zeros(2*norb, dtype=complex)\n    Psi[::2] = psi*U[0]\n    Psi[1::2] = psi*D[0]\n    return Psi"
      ]
    },
    {
      "cell_type": "markdown",
      "metadata": {},
      "source": [
        "Let's put the spin along the $[1 1 0]$ direction and\nrecall from the `sphx_glr_auto_examples_example_1_crystal_field.py`\nexample that edrixs uses the standard orbital order of\n$d_{3z^2-r^2}, d_{xz}, d_{yz}, d_{x^2-y^2}, d_{xy}$, so we want the\n:code:`orbital_index = 3` element. Using this, we can build spin-up and -down\neigenvectors.\n\n"
      ]
    },
    {
      "cell_type": "code",
      "execution_count": null,
      "metadata": {
        "collapsed": false
      },
      "outputs": [],
      "source": [
        "orbital_index = 3\nB = np.array([1, 1, 0])\n\ngroundstate_vector = make_eigenvector(orbital_index, B)\nexcitedstate_vector = make_eigenvector(orbital_index, -B)"
      ]
    },
    {
      "cell_type": "markdown",
      "metadata": {},
      "source": [
        "## Transition operators\nHere we are considering a $L_3$-edge $2p_{3/2} \\rightarrow 3d$\ntransition. We can read this matrix from the edrixs database, keeping in\nmind that there are in fact three operations for $x, y,$ & $z$ directions.\nWe will also need the $3d \\rightarrow 2p_{3/2}$ operation, which we can\ngenerate as the conjugate transpose.\n\n"
      ]
    },
    {
      "cell_type": "code",
      "execution_count": null,
      "metadata": {
        "collapsed": false
      },
      "outputs": [],
      "source": [
        "Tmat = edrixs.get_trans_oper('dp32')\nTmat_dag = np.array([np.conj(Tpol).T for Tpol in Tmat])"
      ]
    },
    {
      "cell_type": "markdown",
      "metadata": {},
      "source": [
        "## Scattering matrix\nThe angular dependence of a RIXS transition can be conveniently described\nusing the scattering matrix, which is a $3\\times3$ element object that\nspecifies the transition amplitude for each incoming and outgoing x-ray\npolarization.\n\n"
      ]
    },
    {
      "cell_type": "code",
      "execution_count": null,
      "metadata": {
        "collapsed": false
      },
      "outputs": [],
      "source": [
        "def get_F(vector_i, vector_f):\n    F = np.zeros((3, 3), dtype=complex)\n    for i in range(3):\n        for j in range(3):\n            F[i, j] = np.dot(np.dot(Tmat_dag[i], vector_f),\n                             np.dot(vector_i, Tmat[j]))\n    return F"
      ]
    },
    {
      "cell_type": "markdown",
      "metadata": {},
      "source": [
        "Using this function, we can obtain non-spin-flip (NSF) and spin-flip (SF)\nscattering matrices by choosing whether we return to the ground state or\nwhether we access the excited state with the spin flipped.\n\n"
      ]
    },
    {
      "cell_type": "code",
      "execution_count": null,
      "metadata": {
        "collapsed": false
      },
      "outputs": [],
      "source": [
        "F_NSF = get_F(groundstate_vector, groundstate_vector)\nF_SF = get_F(groundstate_vector, excitedstate_vector)"
      ]
    },
    {
      "cell_type": "markdown",
      "metadata": {},
      "source": [
        "## Angular dependence\nLet's consider the common case of fixing the total scattering angle at\n:code:`two_theta = 90` and choosing a series of incident angles :code:`thins`.\nSince the detector does not resolve polarization, we need to add both outgoing\npolarizations. It is then convenient to use function :func:`.dipole_polvec_rixs`\nto obtain the incoming and outgoing polarization vectors.\n\n"
      ]
    },
    {
      "cell_type": "code",
      "execution_count": null,
      "metadata": {
        "collapsed": false
      },
      "outputs": [],
      "source": [
        "thins = np.linspace(0, 90)\ntwo_theta = 90\nphi = 0\n\n\ndef get_I(thin, alpha, F):\n    intensity = 0\n    for beta in [0, np.pi/2]:\n        thout = two_theta - thin\n        ei, ef = edrixs.dipole_polvec_rixs(thin*np.pi/180, thout*np.pi/180,\n                                           phi*np.pi/180, alpha, beta)\n        intensity += np.abs(np.dot(ef, np.dot(F, ei)))**2\n    return intensity"
      ]
    },
    {
      "cell_type": "markdown",
      "metadata": {},
      "source": [
        "## Plot\nWe now run through a few configurations specified in terms of incoming\npolarization angle $\\alpha$ (defined in radians w.r.t. the scattering\nplane), $F$, plotting label, and plotting color.\n\n"
      ]
    },
    {
      "cell_type": "code",
      "execution_count": null,
      "metadata": {
        "collapsed": false
      },
      "outputs": [],
      "source": [
        "fig, ax = plt.subplots()\n\nconfig = [[0, F_NSF, r'$\\pi$ NSF', 'C0'],\n          [np.pi/2, F_NSF, r'$\\sigma$ NSF', 'C1'],\n          [0, F_SF, r'$\\pi$ SF', 'C2'],\n          [np.pi/2, F_SF, r'$\\sigma$ SF', 'C3']]\n\nfor alpha, F, label, color in config:\n    Is = np.array([get_I(thin, alpha, F) for thin in thins])\n    ax.plot(thins, Is, label=label, color=color)\n\nax.legend()\nax.set_xlabel(r'Theta ($^\\circ$)')\nax.set_ylabel('Relative intensity')\nplt.show()"
      ]
    },
    {
      "cell_type": "markdown",
      "metadata": {},
      "source": [
        ".. rubric:: Footnotes\n\n.. [1] Yao Shen et al.,\n       `arXiv:2110.08937 (2022) <https://arxiv.org/abs/2110.08937>`_.\n.. [2] Luuk J. P. Ament et al.,\n       `Phys. Rev. Lett. 103, 117003 (2009) <https://doi.org/10.1103/PhysRevLett.103.117003>`_\n\n"
      ]
    }
  ],
  "metadata": {
    "kernelspec": {
      "display_name": "Python 3",
      "language": "python",
      "name": "python3"
    },
    "language_info": {
      "codemirror_mode": {
        "name": "ipython",
        "version": 3
      },
      "file_extension": ".py",
      "mimetype": "text/x-python",
      "name": "python",
      "nbconvert_exporter": "python",
      "pygments_lexer": "ipython3",
      "version": "3.8.12"
    }
  },
  "nbformat": 4,
  "nbformat_minor": 0
}