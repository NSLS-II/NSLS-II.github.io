{
  "cells": [
    {
      "cell_type": "code",
      "execution_count": null,
      "metadata": {
        "collapsed": false
      },
      "outputs": [],
      "source": [
        "%matplotlib inline"
      ]
    },
    {
      "cell_type": "markdown",
      "metadata": {},
      "source": [
        "\n# X-ray transitions\nThis example explains how to calculate x-ray transition amplitudes between\nspecific orbital and spin states. We take the case of a cuprate which has one\nhole in the $d_{x^2-y^2}$ orbital and a spin ordering direction along the\nin-plane diagaonal direction and compute the angular dependence of spin-flip\nand non-spin-flip processes.\n\nThis case was chosen because the eigenvectors in question are simple enough\nfor us to write them out more-or-less by hand, so this example helps the reader\nto understand what happens under the hood in more complex cases.\n\nSome of the code here is credited to Yao Shen who used this approach for the\nanalysis of a low valence nickelate material [1]_. The task performed repeats\nanalysis done by many researchers e.g. Luuk Ament et al [2]_ as well as\nseveral other groups.\n"
      ]
    },
    {
      "cell_type": "code",
      "execution_count": null,
      "metadata": {
        "collapsed": false
      },
      "outputs": [],
      "source": [
        "import edrixs\nimport numpy as np\nimport matplotlib.pyplot as plt\nimport scipy"
      ]
    },
    {
      "cell_type": "markdown",
      "metadata": {},
      "source": [
        "## Eigenvectors\nLet us start by determining the eigenvectors involved in the transitions.\nThe spin direction can be set using a vector\n$\\vec{B}$ to represent a magnetic field in terms of generalized spin\noperator $\\tilde{\\sigma}=\\vec{B}\\cdot\\sigma$ based on the Pauli matrices\n$\\sigma$. Let's put the spin along the $[1, 1, 0]$ direction\nand formuate the problem in the hole basis.\nFor one particle, we know that the Hamiltonian will be diagonal in the real\nharmonic basis.\nWe can generate the required eigenvectors by making a diagonal\nmatrix, transforming it to the required\ncomplex harmonic basis (as is standard for EDRIXS) and diagonalizing it.\nAs long as the crystal field splitting is much larger than the magnetic\nfield, the eigenvectors will be independent of the exact values of both\nthese parameters.\n\n"
      ]
    },
    {
      "cell_type": "code",
      "execution_count": null,
      "metadata": {
        "collapsed": false
      },
      "outputs": [],
      "source": [
        "B = 1e-3*np.array([1, 1, 0])\ncf_splitting = 1e3\nzeeman = sum(s*b for s, b in zip(edrixs.get_spin_momentum(2), B))\ndd_levels = np.array([energy for dd_level in cf_splitting*np.arange(5)\n                      for energy in [dd_level]*2], dtype=complex)\nemat_rhb = np.diag(dd_levels)\nemat = edrixs.cb_op(emat_rhb, edrixs.tmat_r2c('d', ispin=True)) + zeeman\n_, eigenvectors = np.linalg.eigh(emat)\n\ndef get_eigenvector(orbital_index, spin_index):\n    return eigenvectors[:, 2*orbital_index + spin_index]"
      ]
    },
    {
      "cell_type": "markdown",
      "metadata": {},
      "source": [
        "Let's examine the $d_{x^2-y^2}$ orbital first. Recall from the\n`sphx_glr_auto_examples_example_1_crystal_field.py`\nexample that edrixs uses the standard orbital order of\n$d_{3z^2-r^2}, d_{xz}, d_{yz}, d_{x^2-y^2}, d_{xy}$. So we want\n:code:`orbital_index = 3` element. Using this, we can build spin-up and -down\neigenvectors.\n\n"
      ]
    },
    {
      "cell_type": "code",
      "execution_count": null,
      "metadata": {
        "collapsed": false
      },
      "outputs": [],
      "source": [
        "orbital_index = 3\n\ngroundstate_vector = get_eigenvector(orbital_index, 0)\nexcitedstate_vector = get_eigenvector(orbital_index, 1)"
      ]
    },
    {
      "cell_type": "markdown",
      "metadata": {},
      "source": [
        "## Transition operators and scattering matrix\nHere we are considering the $L_3$-edge. This means\na $2p_{3/2} \\rightarrow 3d$\nabsoprtion transition and a $2p_{3/2} \\rightarrow 3d$\nemission transition. We can read the relevant matrix from the edrixs database,\nkeeping in mind that there are in fact three operations for\n$x, y,$ & $z$ directions. Note that edrixs provides operators\nin electron notation. If we define $D$ as the transition operator in\nelectron language, $D^\\dagger$ is the operator in the hole language\nwe are using for this example.\nThe angular dependence of a RIXS transition can be conveniently described\nusing the scattering matrix, which is a $3\\times3$ element object that\nspecifies the transition amplitude for each incoming and outgoing x-ray\npolarization. Correspondingly, we have\n\n     .. math::\n       \\begin{equation}\n       \\mathcal{F}=\\sum_n\\langle f|D|n\\rangle\\langle n|D^{\\dagger}|g\\rangle\n       \\end{equation}.\n\nIn matrix form this is\n\n     .. math::\n       \\begin{equation}\n       \\mathcal{F}(m,n)=\\{f^{\\dagger} \\cdot D(m)\\} \\cdot \\{D^{\\dagger}(n) \\cdot g\\}\n       \\end{equation}.\n\n"
      ]
    },
    {
      "cell_type": "code",
      "execution_count": null,
      "metadata": {
        "collapsed": false
      },
      "outputs": [],
      "source": [
        "D_Tmat = edrixs.get_trans_oper('dp32')\n\ndef get_F(vector_i, vector_f):\n    F = np.zeros((3, 3), dtype=complex)\n    for i in range(3):\n        for j in range(3):\n            F[i, j] = np.dot(np.dot(np.conj(vector_f.T), D_Tmat[i]),\n                             np.dot(np.conj(D_Tmat[j].T), vector_i))\n    return F"
      ]
    },
    {
      "cell_type": "markdown",
      "metadata": {},
      "source": [
        "Using this function, we can obtain non-spin-flip (NSF) and spin-flip (SF)\nscattering matrices by choosing whether we return to the ground state or\nwhether we access the excited state with the spin flipped.\n\n"
      ]
    },
    {
      "cell_type": "code",
      "execution_count": null,
      "metadata": {
        "collapsed": false
      },
      "outputs": [],
      "source": [
        "F_NSF = get_F(groundstate_vector, groundstate_vector)\nF_SF = get_F(groundstate_vector, excitedstate_vector)"
      ]
    },
    {
      "cell_type": "markdown",
      "metadata": {},
      "source": [
        "## Angular dependence\nLet's consider the common case of fixing the total scattering angle at\n:code:`two_theta = 90` and choosing a series of incident angles :code:`thins`.\nSince the detector does not resolve polarization, we need to add both outgoing\npolarizations. It is then convenient to use function :func:`.dipole_polvec_rixs`\nto obtain the incoming and outgoing polarization vectors.\n\n"
      ]
    },
    {
      "cell_type": "code",
      "execution_count": null,
      "metadata": {
        "collapsed": false
      },
      "outputs": [],
      "source": [
        "thins = np.linspace(0, 90)\ntwo_theta = 90\nphi = 0\n\n\ndef get_I(thin, alpha, F):\n    intensity = 0\n    for beta in [0, np.pi/2]:\n        thout = two_theta - thin\n        ei, ef = edrixs.dipole_polvec_rixs(thin*np.pi/180, thout*np.pi/180,\n                                           phi*np.pi/180, alpha, beta)\n        intensity += np.abs(np.dot(ef, np.dot(F, ei)))**2\n    return intensity"
      ]
    },
    {
      "cell_type": "markdown",
      "metadata": {},
      "source": [
        "## Plot\nWe now run through a few configurations specified in terms of incoming\npolarization angle $\\alpha$ (defined in radians w.r.t. the scattering\nplane), $F$, plotting label, and plotting color.\n\n"
      ]
    },
    {
      "cell_type": "code",
      "execution_count": null,
      "metadata": {
        "collapsed": false
      },
      "outputs": [],
      "source": [
        "fig, ax = plt.subplots()\n\nconfig = [[0, F_NSF, r'$\\pi$ NSF', 'C0'],\n          [np.pi/2, F_NSF, r'$\\sigma$ NSF', 'C1'],\n          [0, F_SF, r'$\\pi$ SF', 'C2'],\n          [np.pi/2, F_SF, r'$\\sigma$ SF', 'C3']]\n\nfor alpha, F, label, color in config:\n    Is = np.array([get_I(thin, alpha, F) for thin in thins])\n    ax.plot(thins, Is, label=label, color=color)\n\nax.legend()\nax.set_xlabel(r'Theta ($^\\circ$)')\nax.set_ylabel('Relative intensity')\nplt.show()"
      ]
    },
    {
      "cell_type": "markdown",
      "metadata": {},
      "source": [
        "## Run through orbitals\nFor completeness, let's look at transitions from $x^2-y^2$ to all other\norbitals.\n\n"
      ]
    },
    {
      "cell_type": "code",
      "execution_count": null,
      "metadata": {
        "collapsed": false
      },
      "outputs": [],
      "source": [
        "fig, axs = plt.subplots(5, 1, figsize=(7, 7),\n                        sharex=True, sharey=True)\n\norbitals = ['$d_{3z^2-r^2}$', '$d_{xz}$', '$d_{yz}$',\n            '$d_{x^2-y^2}$', '$d_{xy}$']\norbital_order = [4, 1, 2, 0, 3]\n\nplot_index = 0\nfor ax, orbital_index in zip(axs, orbital_order):\n    for spin_index, spin_label in zip([0, 1], ['NSF', 'SF']):\n        excitedstate_vector = get_eigenvector(orbital_index, spin_index)\n        F = get_F(groundstate_vector, excitedstate_vector)\n        for alpha, pol_label in zip([0, np.pi/2], [r'$\\pi$', r'$\\sigma$']):\n            Is = np.array([get_I(thin, alpha, F) for thin in thins])\n            ax.plot(thins, Is*10, label=f'{pol_label} {spin_label}',\n                    color=f'C{plot_index%4}')\n            plot_index += 1\n    ax.legend(title=orbitals[orbital_index], bbox_to_anchor=(1.1, 1),\n              loc=\"upper left\", fontsize=8)\n\n\naxs[-1].set_xlabel(r'$\\theta$ ($^\\circ$)')\naxs[2].set_ylabel('Scattering intensity')\n\nfig.subplots_adjust(hspace=0, left=.3, right=.6)\nplt.show()"
      ]
    },
    {
      "cell_type": "markdown",
      "metadata": {},
      "source": [
        ".. rubric:: Footnotes\n\n.. [1] Yao Shen et al.,\n       [arXiv:2110.08937 (2022)](https://arxiv.org/abs/2110.08937).\n.. [2] Luuk J. P. Ament et al.,\n       [Phys. Rev. Lett. 103, 117003 (2009)](https://doi.org/10.1103/PhysRevLett.103.117003)\n\n"
      ]
    }
  ],
  "metadata": {
    "kernelspec": {
      "display_name": "Python 3",
      "language": "python",
      "name": "python3"
    },
    "language_info": {
      "codemirror_mode": {
        "name": "ipython",
        "version": 3
      },
      "file_extension": ".py",
      "mimetype": "text/x-python",
      "name": "python",
      "nbconvert_exporter": "python",
      "pygments_lexer": "ipython3",
      "version": "3.8.16"
    }
  },
  "nbformat": 4,
  "nbformat_minor": 0
}