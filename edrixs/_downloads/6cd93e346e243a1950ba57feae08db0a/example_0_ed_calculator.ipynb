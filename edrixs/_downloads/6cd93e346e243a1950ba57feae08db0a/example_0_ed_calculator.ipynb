{
  "cells": [
    {
      "cell_type": "code",
      "execution_count": null,
      "metadata": {
        "collapsed": false
      },
      "outputs": [],
      "source": [
        "%matplotlib inline"
      ]
    },
    {
      "cell_type": "markdown",
      "metadata": {},
      "source": [
        "\n# Exact diagonalization\nHere we show how to find the eigenvalues and eigenvectors of a many-body\nHamiltonian of fermions with Coulomb interactions. We then determine their spin\nand orbital angular momentum and how this changes when we switch on spin-orbit\ncoupling.\n"
      ]
    },
    {
      "cell_type": "markdown",
      "metadata": {},
      "source": [
        "Import the necessary modules.\n\n"
      ]
    },
    {
      "cell_type": "code",
      "execution_count": null,
      "metadata": {
        "collapsed": false
      },
      "outputs": [],
      "source": [
        "import numpy as np\nimport matplotlib.pyplot as plt\nimport scipy\nimport edrixs"
      ]
    },
    {
      "cell_type": "markdown",
      "metadata": {},
      "source": [
        "## Parameters\nDefine the orbital angular momentum number $l=1$ (i.e. a `p` shell),\nthe number of spin-orbitals, the occupancy and the Slater integrals.\n$F^{k}$ with $k=0,2$:\n\n"
      ]
    },
    {
      "cell_type": "code",
      "execution_count": null,
      "metadata": {
        "collapsed": false
      },
      "outputs": [],
      "source": [
        "l = 1\nnorb = 6\nnoccu = 2\nF0, F2 = 4.0, 1.0"
      ]
    },
    {
      "cell_type": "markdown",
      "metadata": {},
      "source": [
        "## Coulomb interactions\nThe Coulomb interactions in EDRIXS are described by a tensor. Understand this\nin full is complicated and requires careful consideration of the symmetry of the\ninteractions. See example 6 for more discussion if desired.\nEDRIXS can construct the matrix via\n\n"
      ]
    },
    {
      "cell_type": "code",
      "execution_count": null,
      "metadata": {
        "collapsed": false
      },
      "outputs": [],
      "source": [
        "umat = edrixs.get_umat_slater('p', F0, F2)"
      ]
    },
    {
      "cell_type": "markdown",
      "metadata": {},
      "source": [
        "## Create basis\nNow we build the binary form of the Fock basis $|F>$ (we consider it\npreferable to use the standard $F$ and trust the reader to avoid\nconfusing it with the interaction parameters.)\nThe Fock basis is the simplest legitimate form for the basis and it consists\nof a series of 1s and 0s where 1 means occupied and\n0 means  empty. These are in order up, down, up, down, up, down.\n\n"
      ]
    },
    {
      "cell_type": "code",
      "execution_count": null,
      "metadata": {
        "collapsed": false
      },
      "outputs": [],
      "source": [
        "basis = edrixs.get_fock_bin_by_N(norb, noccu)\nprint(np.array(basis))"
      ]
    },
    {
      "cell_type": "markdown",
      "metadata": {},
      "source": [
        "We expect the number of these states to be given by the mathematical\ncombination of two electrons distributed among six states (three spin-orbitals\nwith two spins per orbital).\n\n"
      ]
    },
    {
      "cell_type": "code",
      "execution_count": null,
      "metadata": {
        "collapsed": false
      },
      "outputs": [],
      "source": [
        "message = (\"We predict C(norb={}, noccu={})={:.0f} states and we got {:d}, \"\n           \"which is reassuring!\")\nprint(message.format(norb, noccu, edrixs.combination(norb, noccu), len(basis)))"
      ]
    },
    {
      "cell_type": "markdown",
      "metadata": {},
      "source": [
        "Note that in more complicated problems with both valence and core\nelectrons, the edrixs convention is to list the valence electrons first.\n\n"
      ]
    },
    {
      "cell_type": "markdown",
      "metadata": {},
      "source": [
        "## Transform interactions into Fock basis\nedrixs works by initiailly creating a Hamiltonian matrix\n$\\hat{H}$ in the single particle basis and then transforming into\nour chosen Fock basis. In the single particle basis, we have four fermion\ninteractions with this form\n\n    .. math::\n       \\hat{H} = <F_l|\\sum_{ij}U_{ijkl}\\hat{f}_{i}^{\\dagger}\n                 \\hat{f}_{j}^{\\dagger}\n                 \\hat{f}_{k}\\hat{f}_{l}|F_r>\n\ngenerated as\n\n"
      ]
    },
    {
      "cell_type": "code",
      "execution_count": null,
      "metadata": {
        "collapsed": false
      },
      "outputs": [],
      "source": [
        "n_fermion = 4\nH = edrixs.build_opers(n_fermion, umat, basis)"
      ]
    },
    {
      "cell_type": "markdown",
      "metadata": {},
      "source": [
        "We needed to specify :code:`n_fermion = 4` because the\n:code:`edrixs.build_opers` function can also make two fermion terms.\n\n"
      ]
    },
    {
      "cell_type": "markdown",
      "metadata": {},
      "source": [
        "## Diagonalize the matrix\nFor a small problem such as this it is convenient to use the native\n`scipy <https://scipy.org>`_ diagonalization routine. This returns eigenvalues\n:code:`e` and eignvectors :code:`v` where eigenvalue :code:`e[i]` corresponds\nto eigenvector :code:`v[:,i]`.\n\n"
      ]
    },
    {
      "cell_type": "code",
      "execution_count": null,
      "metadata": {
        "collapsed": false
      },
      "outputs": [],
      "source": [
        "e, v = scipy.linalg.eigh(H)\nprint(\"{} eignvalues and {} eigvenvectors {} elements long.\".format(len(e),\n                                                                    v.shape[1],\n                                                                    v.shape[0]))"
      ]
    },
    {
      "cell_type": "markdown",
      "metadata": {},
      "source": [
        "## Computing expectation values\nTo interpret the results, it is informative to compute the expectations values\nrelated to the spin $\\mathbf{S}$, orbital $\\mathbf{L}$,\nand total $\\mathbf{J}$, angular momentum. We first load the relevant\nmatrices for these quantities for a `p` atomic shell.  We need to specify\nthat we would like to include spin when loading the orbital operator.\n\n"
      ]
    },
    {
      "cell_type": "code",
      "execution_count": null,
      "metadata": {
        "collapsed": false
      },
      "outputs": [],
      "source": [
        "orb_mom = edrixs.get_orb_momentum(l, ispin=True)\nspin_mom = edrixs.get_spin_momentum(l)\ntot_mom = orb_mom + spin_mom"
      ]
    },
    {
      "cell_type": "markdown",
      "metadata": {},
      "source": [
        "We again transform these matrices to our Fock basis to build the operators\n\n"
      ]
    },
    {
      "cell_type": "code",
      "execution_count": null,
      "metadata": {
        "collapsed": false
      },
      "outputs": [],
      "source": [
        "n_fermion = 2\nopL, opS, opJ = edrixs.build_opers(n_fermion, [orb_mom, spin_mom, tot_mom],\n                                   basis)"
      ]
    },
    {
      "cell_type": "markdown",
      "metadata": {},
      "source": [
        "Recall that quantum mechanics forbids us from knowing all three Cartesian\ncomponents of angular momentum at once, so we want to compute the squares of\nthese operators i.e.\n\n    .. math::\n       \\mathbf{S}^2 = S^2_x + S^2_y + S^2_z\\\\\n       \\mathbf{L}^2 = L^2_x + L^2_y + L^2_z\\\\\n       \\mathbf{J}^2 = J^2_x + J^2_y + J^2_z\n\n\n"
      ]
    },
    {
      "cell_type": "code",
      "execution_count": null,
      "metadata": {
        "collapsed": false
      },
      "outputs": [],
      "source": [
        "L2 = np.dot(opL[0], opL[0]) + np.dot(opL[1], opL[1]) + np.dot(opL[2], opL[2])\nS2 = np.dot(opS[0], opS[0]) + np.dot(opS[1], opS[1]) + np.dot(opS[2], opS[2])\nJ2 = np.dot(opJ[0], opJ[0]) + np.dot(opJ[1], opJ[1]) + np.dot(opJ[2], opJ[2])"
      ]
    },
    {
      "cell_type": "markdown",
      "metadata": {},
      "source": [
        "Remember that the eigenvalues of $\\mathbf{S}^2$ are in the form\n$S(S+1)$ etc. and that they can be obtained by calculating the\nprojection of the operators onto our eigenvectors.\n\n"
      ]
    },
    {
      "cell_type": "code",
      "execution_count": null,
      "metadata": {
        "collapsed": false
      },
      "outputs": [],
      "source": [
        "L2_val = edrixs.cb_op(L2, v).diagonal().real\nS2_val = edrixs.cb_op(S2, v).diagonal().real\nJ2_val = edrixs.cb_op(J2, v).diagonal().real"
      ]
    },
    {
      "cell_type": "markdown",
      "metadata": {},
      "source": [
        "We can determine the degeneracy of the eigenvalues numerically and print out\nthe values as follows\n\n"
      ]
    },
    {
      "cell_type": "code",
      "execution_count": null,
      "metadata": {
        "collapsed": false
      },
      "outputs": [],
      "source": [
        "e = np.round(e, decimals=6)\ndegeneracy = [sum(eval == e) for eval in e]\nheader = \"{:<3s}\\t{:>8s}\\t{:>8s}\\t{:>8s}\\t{:>8s}\"\nprint(header.format(\"#  \", \"E  \", \"S(S+1)\", \"L(L+1)\", \"Degen.\"))\nfor i, eigenvalue in enumerate(e):\n    values_list = [i, eigenvalue, S2_val[i], L2_val[i], degeneracy[i]]\n    print(\"{:<3d}\\t{:8.3f}\\t{:8.3f}\\t{:8.3f}\\t{:>3d}\".format(*values_list))"
      ]
    },
    {
      "cell_type": "markdown",
      "metadata": {},
      "source": [
        "We see $S=0$ and $S=1$ states coming from the\ntwo combinations of the spin 1/2 particles. $L$ can take values of\n0, 1, 2. Remember that spin states have degeneracy of $2S+1$ and the\nsame is true for orbital states.\nWe must multiply these $S$ and\n$L$ degeneracies to get the total degeneracy.\nSince these particles are fermions, the\noverall state must be antisymmetric, which dictates the allowed combinations\nof $S$ and $L$.\n\n"
      ]
    },
    {
      "cell_type": "markdown",
      "metadata": {},
      "source": [
        "## Energy level diagram\nLet us show our findings graphically\n\n"
      ]
    },
    {
      "cell_type": "code",
      "execution_count": null,
      "metadata": {
        "collapsed": false
      },
      "outputs": [],
      "source": [
        "fig, ax = plt.subplots()\nfor i, eigenvalue in enumerate(np.unique(e)):\n    art = ax.plot([0, 1], [eigenvalue, eigenvalue], '-',  color='C{}'.format(i))\n    ind = np.where(eigenvalue == e)[0][0]\n    L = (-1 + np.sqrt(1 + 4*L2_val[ind]))/2\n    S = (-1 + np.sqrt(1 + 4*S2_val[ind]))/2\n    message = \"L={:.0f}, S={:.0f} ({:.0f})\"\n    ax.text(1, eigenvalue, message.format(L, S, degeneracy[ind]),\n            horizontalalignment='right',\n            verticalalignment='bottom',\n            color='C{}'.format(i))\n\nax.set_ylabel('Energy')\nfor loc in ['right', 'top', 'bottom']:\n    ax.spines[loc].set_visible(False)\n\nax.yaxis.set_ticks_position('left')\nax.set_xticks([])\nplt.show()"
      ]
    },
    {
      "cell_type": "markdown",
      "metadata": {},
      "source": [
        "We see Hund's rules in action! Rule 1 says that the highest spin $S=1$\nstate has the lowest energy. Of the two $S=0$ states, the state with\nlarger $L=1$ is lower energy following rule 2.\n\n"
      ]
    },
    {
      "cell_type": "markdown",
      "metadata": {},
      "source": [
        "## Spin orbit coupling\nFor fun, we can see how this changes when we add spin orbit coupling (SOC).\nThis is a two-fermion operator that we create, transform into the Fock basis\nand add to the prior Hamiltonian. To make things easy, let us make the SOC\nsmall so that the LS coupling approximation is valid and we can\nstill track the states.\n\n"
      ]
    },
    {
      "cell_type": "code",
      "execution_count": null,
      "metadata": {
        "collapsed": false
      },
      "outputs": [],
      "source": [
        "soc = edrixs.atom_hsoc('p', 0.1)\nn_fermion = 2\nH2 = H + edrixs.build_opers(n_fermion, soc, basis)"
      ]
    },
    {
      "cell_type": "markdown",
      "metadata": {},
      "source": [
        "Then, we redo the diagonalization and print the results.\n\n"
      ]
    },
    {
      "cell_type": "code",
      "execution_count": null,
      "metadata": {
        "collapsed": false
      },
      "outputs": [],
      "source": [
        "e2, v2 = scipy.linalg.eigh(H2)\ne2 = np.round(e2, decimals=6)\ndegeneracy2 = [sum(eval == e2) for eval in e2]\nprint()\nmessage = \"With SOC\\n {:<3s}\\t{:>8s}\\t{:>8s}\\t{:>8s}\\t{:>8s}\\t{:>8s}\"\nprint(message.format(\"#\", \"E\", \"S(S+1)\", \"L(L+1)\", \"J(J+1)\", \"degen.\"))\nJ2_val_soc = edrixs.cb_op(J2, v2).diagonal().real\nL2_val_soc = edrixs.cb_op(L2, v2).diagonal().real\nS2_val_soc = edrixs.cb_op(S2, v2).diagonal().real\nfor i, eigenvalue in enumerate(e2):\n    values_list = [i, eigenvalue, S2_val_soc[i], L2_val_soc[i], J2_val_soc[i],\n                   degeneracy2[i]]\n    print(\"{:<3d}\\t{:8.3f}\\t{:8.3f}\\t{:8.3f}\\t{:8.3f}\\t{:8.3f}\".format(*values_list))"
      ]
    },
    {
      "cell_type": "markdown",
      "metadata": {},
      "source": [
        "and we make an equivalent energy level diagram.\n\n"
      ]
    },
    {
      "cell_type": "code",
      "execution_count": null,
      "metadata": {
        "collapsed": false
      },
      "outputs": [],
      "source": [
        "fig, ax = plt.subplots()\nfor i, eigenvalue in enumerate(np.unique(e2)):\n    art = ax.plot([0, 1], [eigenvalue, eigenvalue], '-',  color='C{}'.format(i))\n    ind = np.where(eigenvalue == e2)[0][0]\n    J = (-1 + np.sqrt(1+4*J2_val_soc[ind]))/2\n    message = \"J={:.0f} ({:.0f})\"\n    ax.text(1, eigenvalue, message.format(J, degeneracy2[ind]),\n            horizontalalignment='right',\n            verticalalignment='bottom',\n            color='C{}'.format(i))\n\nax.set_ylabel('Energy')\nfor loc in ['right', 'top', 'bottom']:\n    ax.spines[loc].set_visible(False)\n\nax.yaxis.set_ticks_position('left')\nax.set_xticks([])\nplt.show()"
      ]
    },
    {
      "cell_type": "markdown",
      "metadata": {},
      "source": [
        "It is clear that we have split the $S=1$ state, which branches into\nthree states from $J=|L-S|, |L-S|+1, ..., |L+S|$. Since the shell is\nless than half full, Hund's third rule dictates that the smaller $J$ \nstates have the lower energies.\n\n"
      ]
    }
  ],
  "metadata": {
    "kernelspec": {
      "display_name": "Python 3",
      "language": "python",
      "name": "python3"
    },
    "language_info": {
      "codemirror_mode": {
        "name": "ipython",
        "version": 3
      },
      "file_extension": ".py",
      "mimetype": "text/x-python",
      "name": "python",
      "nbconvert_exporter": "python",
      "pygments_lexer": "ipython3",
      "version": "3.8.12"
    }
  },
  "nbformat": 4,
  "nbformat_minor": 0
}