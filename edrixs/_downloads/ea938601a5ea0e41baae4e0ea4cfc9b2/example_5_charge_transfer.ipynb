{
  "cells": [
    {
      "cell_type": "markdown",
      "metadata": {},
      "source": [
        "\n# Charge-transfer energy for NiO\nThis example follows the `sphx_glr_auto_examples_example_3_AIM_XAS.py`\nexample and considers the same model. This time we outline how to determine\nthe charge transfer energy in the sense defined by Zaanen, Sawatzky, and Allen\n[1]_. That is, a $d^{n_d} \\rightarrow d^{n_d + 1} \\underline{L}$ transition\nin the atomic limit, after considering Coulomb interactions and crystal field. Although\nthis can be determined analytically in some cases, the easiest way is often just to\ncalculate it, as we will do here.\n"
      ]
    },
    {
      "cell_type": "code",
      "execution_count": null,
      "metadata": {
        "collapsed": false
      },
      "outputs": [],
      "source": [
        "import edrixs\nimport numpy as np\nimport matplotlib.pyplot as plt\nimport scipy\nimport example_3_AIM_XAS\nimport importlib\n_ = importlib.reload(example_3_AIM_XAS)"
      ]
    },
    {
      "cell_type": "markdown",
      "metadata": {},
      "source": [
        "## Determine eigenvectors and occupations\nThe first step repeats what was done in\n`sphx_glr_auto_examples_example_4_GS_analysis.py` but it does not apply\nthe hybridization between the impurity and both states.\n\n"
      ]
    },
    {
      "cell_type": "code",
      "execution_count": null,
      "metadata": {
        "collapsed": false
      },
      "outputs": [],
      "source": [
        "from example_3_AIM_XAS import (F0_dd, F2_dd, F4_dd,\n                               nd, norb_d, norb_bath, v_noccu,\n                               imp_mat, bath_level,\n                               hyb, ext_B, trans_c2n)\nntot = 20\numat_delectrons = edrixs.get_umat_slater('d', F0_dd, F2_dd, F4_dd)\numat = np.zeros((ntot, ntot, ntot, ntot), dtype=complex)\numat[:norb_d, :norb_d, :norb_d, :norb_d] += umat_delectrons\nemat_rhb = np.zeros((ntot, ntot), dtype='complex')\nemat_rhb[0:norb_d, 0:norb_d] += imp_mat\nindx = np.arange(norb_d, norb_d*2)\nemat_rhb[indx, indx] += bath_level[0]\ntmat = np.eye(ntot, dtype=complex)\nfor i in range(2):\n    off = i * norb_d\n    tmat[off:off+norb_d, off:off+norb_d] = np.conj(np.transpose(trans_c2n))\n\nemat_chb = edrixs.cb_op(emat_rhb, tmat)\nv_orbl = 2\nsx = edrixs.get_sx(v_orbl)\nsy = edrixs.get_sy(v_orbl)\nsz = edrixs.get_sz(v_orbl)\nzeeman = ext_B[0] * (2 * sx) + ext_B[1] * (2 * sy) + ext_B[2] * (2 * sz)\nemat_chb[0:norb_d, 0:norb_d] += zeeman\nbasis = np.array(edrixs.get_fock_bin_by_N(ntot, v_noccu))\nH = (edrixs.build_opers(2, emat_chb, basis)\n     + edrixs.build_opers(4, umat, basis))\n\ne, v = scipy.linalg.eigh(H)\ne -= e[0]\n\nnum_d_electrons = basis[:, :norb_d].sum(1)\nalphas = np.sum(np.abs(v[num_d_electrons == 8, :])**2, axis=0)\nbetas = np.sum(np.abs(v[num_d_electrons == 9, :])**2, axis=0)"
      ]
    },
    {
      "cell_type": "markdown",
      "metadata": {},
      "source": [
        "## Energy to lowest energy ligand orbital\nLet's vizualize $\\alpha$ and $\\beta$.\n\n"
      ]
    },
    {
      "cell_type": "code",
      "execution_count": null,
      "metadata": {
        "collapsed": false
      },
      "outputs": [],
      "source": [
        "fig, ax = plt.subplots()\n\nax.plot(e, alphas, '.-', label=r'$\\alpha$ $d^8L^{10}$')\nax.plot(e, betas, '.-', label=r'$\\beta$ $d^9L^{9}$')\n\nax.set_xlabel('Energy (eV)')\nax.set_ylabel('Population')\nax.set_title('NiO')\nax.legend()\nplt.show()"
      ]
    },
    {
      "cell_type": "markdown",
      "metadata": {},
      "source": [
        "One can see that the mixing between impurity and bath states has disappered\nbecause we have turned off the hybridization. The energy required to\n\n"
      ]
    },
    {
      "cell_type": "code",
      "execution_count": null,
      "metadata": {
        "collapsed": false
      },
      "outputs": [],
      "source": [
        "GS_energy = min(e[np.isclose(alphas, 1)])\nlowest_energy_to_transfer_electron = min(e[np.isclose(betas, 1)])\nE_to_ligand = lowest_energy_to_transfer_electron - GS_energy\nprint(f\"Energy to lowest energy ligand state is {E_to_ligand:.3f} eV\")"
      ]
    },
    {
      "cell_type": "markdown",
      "metadata": {},
      "source": [
        "where we have used :code:`np.isclose` to avoid errors from finite numerical\nprecision.\n\n"
      ]
    },
    {
      "cell_type": "markdown",
      "metadata": {},
      "source": [
        "## Diagonalizing by blocks\nWhen working on a problem with a large basis, one can take advantage of the\nlack of hybridization and separately diagonalize the impurity and bath\nstates\n\n"
      ]
    },
    {
      "cell_type": "code",
      "execution_count": null,
      "metadata": {
        "collapsed": false
      },
      "outputs": [],
      "source": [
        "energies = []\n\nfor n_ligand_holes in [0, 1]:\n    basis_d = edrixs.get_fock_bin_by_N(10, nd + n_ligand_holes)\n    Hd = (edrixs.build_opers(2, emat_chb[:10, :10], basis_d)\n          + edrixs.build_opers(4, umat[:10, :10, :10, :10], basis_d))\n    ed = scipy.linalg.eigh(Hd, eigvals_only=True, subset_by_index=[0, 0])[0]\n\n    basis_L = edrixs.get_fock_bin_by_N(10, 10 - n_ligand_holes)\n    HL = (edrixs.build_opers(2, emat_chb[10:, 10:], basis_L)\n          + edrixs.build_opers(4, umat[10:, 10:, 10:, 10:], basis_L))\n    eL = scipy.linalg.eigh(HL, eigvals_only=True, subset_by_index=[0, 0])[0]\n\n    energies.append(ed + eL)\n\nprint(f\"Energy to lowest energy ligand state is {energies[1] - energies[0]:.3f} eV\")"
      ]
    },
    {
      "cell_type": "markdown",
      "metadata": {},
      "source": [
        "which yields the same result.\n\n"
      ]
    },
    {
      "cell_type": "markdown",
      "metadata": {},
      "source": [
        "## Energy splitting in ligand states\nThe last thing to consider is that our definition of the charge transfer\nenergy refers to the atomic limit with all hopping terms switched off, whereas\nthe ligand states in the model are already split by the oxygen-oxygen hopping\nterm $T_{pp}$ as illustrated below. So the final charge transer energy\nneeds to account for this.\n\n    .. image:: /_static/energy_level.png\n\n\n"
      ]
    },
    {
      "cell_type": "code",
      "execution_count": null,
      "metadata": {
        "collapsed": false
      },
      "outputs": [],
      "source": [
        "T_pp = 1\nprint(f\"Charge transfer is {energies[1] - energies[0] + T_pp:.3f} eV\")"
      ]
    },
    {
      "cell_type": "markdown",
      "metadata": {},
      "source": [
        ".. rubric:: Footnotes\n\n.. [1] J. Zaanen, G. A. Sawatzky, and J. W. Allen,\n       [Phys. Rev. Lett. 55, 418 (1985)](https://doi.org/10.1103/PhysRevLett.55.418).\n\n"
      ]
    }
  ],
  "metadata": {
    "kernelspec": {
      "display_name": "Python 3",
      "language": "python",
      "name": "python3"
    },
    "language_info": {
      "codemirror_mode": {
        "name": "ipython",
        "version": 3
      },
      "file_extension": ".py",
      "mimetype": "text/x-python",
      "name": "python",
      "nbconvert_exporter": "python",
      "pygments_lexer": "ipython3",
      "version": "3.10.16"
    }
  },
  "nbformat": 4,
  "nbformat_minor": 0
}