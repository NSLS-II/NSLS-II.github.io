{
  "cells": [
    {
      "cell_type": "code",
      "execution_count": null,
      "metadata": {
        "collapsed": false
      },
      "outputs": [],
      "source": [
        "%matplotlib inline"
      ]
    },
    {
      "cell_type": "markdown",
      "metadata": {},
      "source": [
        "\n# Coulomb interactions\nIn this example we provide more details on how Coulomb interactions are\nimplemented in multiplet calculations and EDRIXS in particular. We aim\nto clarify the form of the matrices, how they are parametrized,\nand how the breaking of spherical symmetry can switch on additional elements\nthat one might not anticipate. Our example is based on a $d$ atomic shell.\n"
      ]
    },
    {
      "cell_type": "markdown",
      "metadata": {},
      "source": [
        "## Create matrix\nThe Coulomb interaction between two particles can be written as\n\n  .. math::\n    \\begin{equation}\n    \\hat{H} = \\frac{1}{2}\n    \\int d\\mathbf{r} \\int d\\mathbf{r}^\\prime\n    \\Sigma_{\\sigma, \\sigma^\\prime}\n    |\\hat{\\psi}^\\sigma(\\mathbf{r})|^2 \\frac{e^2}{R}\n    |\\hat{\\psi}^{\\sigma^\\prime}(\\mathbf{r})|^2,\n    \\end{equation}\n\nwhere $\\hat{\\psi}^\\sigma(\\mathbf{r})$ is the electron wavefunction, with\nspin $\\sigma$, and $R=|r-r^\\prime|$ is the electron separation.\nSolving our problem in this form is difficult due to the need to symmeterize\nthe wavefunction to follow fermionic statistics.\nUsing second quantization, we can use operators to impose the required \nparticle exchange statistics and write the equation in terms of\na tensor $U$ \n\n  .. math::\n    \\begin{equation}\n    \\hat{H} = \\sum_{\\alpha,\\beta,\\gamma,\\delta,\\sigma,\\sigma^\\prime}\n    U_{\\alpha\\sigma,\\beta\\sigma^\\prime,\\gamma\\sigma^\\prime,\\delta\\sigma}\n    \\hat{f}^{\\dagger}_{\\alpha\\sigma}\n    \\hat{f}^{\\dagger}_{\\beta\\sigma^\\prime}\n    \\hat{f}_{t\\sigma^\\prime}\\hat{f}_{\\delta\\sigma},\n    \\end{equation}\n\nwhere $\\alpha$, $\\beta$, $\\gamma$, $\\delta$ are\norbital indices and $\\hat{f}^{\\dagger}$ \n($\\hat{f}$) are the creation (anihilation) operators.\nFor a $d$-electron system, we have $10$ distinct spin-orbitals\n($5$ orbitals each with $2$ spins), which makes matrix the\n$10\\times10\\times10\\times10$ in total size.\nIn EDRIXS the matrix can be created as follows:\n\n"
      ]
    },
    {
      "cell_type": "code",
      "execution_count": null,
      "metadata": {
        "collapsed": false
      },
      "outputs": [],
      "source": [
        "import edrixs\nimport numpy as np\nimport scipy\nimport matplotlib.pyplot as plt\nimport itertools\n\nF0, F2, F4 = 6.94, 14.7, 4.41\numat_chb = edrixs.get_umat_slater('d', F0, F2, F4)"
      ]
    },
    {
      "cell_type": "markdown",
      "metadata": {},
      "source": [
        "We stored this under variable :code:`umat_chb` where \"cbh\" stands for\ncomplex harmonic basis, which is the default basis in EDRIXS.\n\n"
      ]
    },
    {
      "cell_type": "markdown",
      "metadata": {},
      "source": [
        "## Parameterizing interactions\nEDRIXS parameterizes the interactions in $U$ via Slater integral\nparameters $F^{k}$. These relate to integrals of various spherical\nHarmonics as well as Clebsch-Gordon coefficients, Gaunt coefficients,\nand Wigner 3J symbols. Textbooks such as [1]_ can be used for further\nreference. If you are interested in the details of how\nEDRIXS does this (and you probably aren't) function :func:`.umat_slater`,\nconstructs the required matrix via Gaunt coeficents from\n:func:`.get_gaunt`. Two alternative parameterizations are common.\nThe first are the Racah parameters, which are\n\n  .. math::\n    \\begin{eqnarray}\n    A &=& F^0 - \\frac{49}{441} F^4 \\\\\n    B &=& \\frac{1}{49}F^2 - \\frac{5}{441}F^4 \\\\\n    C &=& \\frac{35}{441}F^4.\n    \\end{eqnarray}\n\nor an alternative form for the Slater integrals \n\n  .. math::\n    \\begin{eqnarray}\n    F_0 &=& F^0  \\\\\n    F_2 &=& \\frac{1}{49}F^2 \\\\\n    F_4 &=& \\frac{1}{441}F^4,\n    \\end{eqnarray}\n\nwhich involves different normalization parameters.\n\n"
      ]
    },
    {
      "cell_type": "markdown",
      "metadata": {},
      "source": [
        "## Basis transform\nIf we want to use the real harmonic basis, we can use a tensor\ntransformation, which imposes the following orbital order \n$3z^2-r^2, xz, yz, x^2-y^2, xy$, each of which involves\n$\\uparrow, \\downarrow$ spin pairs. Let's perform this transformation and\nstore a list of these orbitals.\n\n"
      ]
    },
    {
      "cell_type": "code",
      "execution_count": null,
      "metadata": {
        "collapsed": false
      },
      "outputs": [],
      "source": [
        "umat = edrixs.transform_utensor(umat_chb, edrixs.tmat_c2r('d', True))\norbitals = ['3z^2-r^2', 'xz', 'yz', 'x^2-y^2', 'xy']"
      ]
    },
    {
      "cell_type": "markdown",
      "metadata": {},
      "source": [
        "## Interactions\nTensor $U$ is a  series of matrix\nelements\n\n  .. math::\n    \\begin{equation}\n    \\langle\\psi_{\\gamma,\\delta}^{\\bar{\\sigma},\\bar{\\sigma}^\\prime}\n    |\\hat{H}|\n    \\psi_{\\alpha,\\beta}^{\\sigma,\\sigma^\\prime}\\rangle\n    \\end{equation}\n\nthe combination of which defines the energetic cost of pairwise\nelectron-electron interactions between states $\\alpha,\\sigma$\nand $\\beta,\\sigma^\\prime$. In EDRIXS we follow the convention of\nsumming over all orbital pairs. Some other texts count each pair of\nindices only once. The matrix elements here will consequently\nbe half the magnitude of those in other references.\nWe can express the interactions in terms of\nthe orbitals involved. It is common to distinguish \"direct Coulomb\" and\n\"exchange\" interactions. The former come from electrons in the same orbital\nand the later involve swapping orbital labels for electrons. We will use\n$U_0$ and $J$ as a shorthand for distinguishing these.\n\nBefore we describe the different types of interactions, we note that since\nthe Coulomb interaction is real, and due to the spin symmmetry properties\nof the process $U$ always obeys\n\n  .. math::\n    \\begin{equation}\n    U_{\\alpha\\sigma,\\beta\\sigma^\\prime,\\gamma\\sigma^\\prime,\\delta\\sigma} =\n    U_{\\beta\\sigma,\\alpha\\sigma^\\prime,\\delta\\sigma^\\prime,\\gamma\\sigma} =\n    U_{\\delta\\sigma,\\gamma\\sigma^\\prime,\\beta\\sigma^\\prime,\\alpha\\sigma} =\n    U_{\\gamma\\sigma,\\delta\\sigma^\\prime,\\alpha\\sigma^\\prime,\\beta\\sigma}.\n    \\end{equation}\n\n\n### 1. Intra orbital\nThe direct Coulomb energy cost to double-occupy an orbital comes from terms\nlike $U_{\\alpha\\sigma,\\alpha\\bar\\sigma,\\alpha\\bar\\sigma,\\alpha\\sigma}$.\nIn this notation, we use $\\sigma^\\prime$ to denote that the matrix \nelement is summed over all pairs and $\\bar{\\sigma}$ to denote sums\nover all opposite spin pairs. Due to rotational symmetry, all these\nelements are the same and equal to\n\n  .. math::\n    \\begin{eqnarray}\n    U_0 &=& \\frac{A}{2} + 2B + \\frac{3C}{2}\\\\\n        &=& \\frac{F_0}{2} + 2F_2 + 18F_4\n    \\end{eqnarray}\n\nLet's print these to demonstrate where these live in the array\n\n"
      ]
    },
    {
      "cell_type": "code",
      "execution_count": null,
      "metadata": {
        "collapsed": false
      },
      "outputs": [],
      "source": [
        "for i in range(0, 5):\n    val = umat[i*2, i*2 + 1, i*2 + 1, i*2].real\n    print(f\"{orbitals[i]:<8} \\t {val:.3f}\")"
      ]
    },
    {
      "cell_type": "markdown",
      "metadata": {},
      "source": [
        "### 2. Inter orbital Coulomb interactions\nDirect Coulomb repulsion between different orbitals depends on terms like\n$U_{\\alpha\\sigma,\\beta\\sigma^\\prime,\\beta\\sigma^\\prime,\\alpha\\sigma}$.\nExpresions for these parameters are provided in column $U$ in\n`table_2_orbital`. We can print the values from :code:`umat`\nlike this:\n\n"
      ]
    },
    {
      "cell_type": "code",
      "execution_count": null,
      "metadata": {
        "collapsed": false
      },
      "outputs": [],
      "source": [
        "for i, j in itertools.combinations(range(5), 2):\n    val = umat[i*2, j*2 + 1, j*2 + 1, i*2].real\n    print(f\"{orbitals[i]:<8} \\t {orbitals[j]:<8} \\t {val:.3f}\")"
      ]
    },
    {
      "cell_type": "markdown",
      "metadata": {},
      "source": [
        "### 3. Inter-orbital exchange interactions\nExchange terms exist with the form\n$U_{\\alpha\\sigma,\\beta\\sigma^\\prime,\\alpha\\sigma^\\prime,\\beta\\sigma}$.\nExpresions for these parameters are provided in column $J$ of\n`table_2_orbital`. These come from terms like this in the matrix:\n\n"
      ]
    },
    {
      "cell_type": "code",
      "execution_count": null,
      "metadata": {
        "collapsed": false
      },
      "outputs": [],
      "source": [
        "for i, j in itertools.combinations(range(5), 2):\n    val = umat[i*2, j*2 + 1, i*2 + 1, j*2].real\n    print(f\"{orbitals[i]:<8} \\t {orbitals[j]:<8} \\t {val:.3f}\")"
      ]
    },
    {
      "cell_type": "markdown",
      "metadata": {},
      "source": [
        "### 4. Pair hopping term\nTerms that swap pairs of electrons exist as\n$(1-\\delta_{\\sigma\\sigma'})U_{\\alpha\\sigma,\\alpha\\bar\\sigma,\\beta\\bar\\sigma,\\beta\\sigma}$\nand depend on exchange interactions column $J$ from\n`table_2_orbital`\nand here in the matrix.\n\n"
      ]
    },
    {
      "cell_type": "code",
      "execution_count": null,
      "metadata": {
        "collapsed": false
      },
      "outputs": [],
      "source": [
        "for i, j in itertools.combinations(range(5), 2):\n    val = umat[i*2, i*2 + 1, j*2 + 1, j*2].real\n    print(f\"{orbitals[i]:<8} \\t {orbitals[j]:<8} \\t {val:.3f}\")"
      ]
    },
    {
      "cell_type": "markdown",
      "metadata": {},
      "source": [
        "### 5. Three orbital\nAnother set of terms that one might not immediately anticipate involve three\norbitals like\n\n  .. math::\n    \\begin{equation}\n    U_{\\alpha\\sigma, \\gamma\\sigma', \\beta\\sigma', \\gamma\\sigma} \\\\\n    U_{\\alpha\\sigma, \\gamma\\sigma', \\gamma\\sigma', \\beta\\sigma} \\\\\n    (1-\\delta_{\\sigma\\sigma'})\n    U_{\\alpha\\sigma, \\beta\\sigma', \\gamma\\sigma', \\gamma\\sigma}\n    \\end{equation}\n\nfor $\\alpha=3z^2-r^2, \\beta=x^2-y^2, \\gamma=xz/yz$.\nThese are needed to maintain the rotational symmetry of the interations.\nSee `table_3_orbital` for the expressions. We can print some of\nthese via:\n\n"
      ]
    },
    {
      "cell_type": "code",
      "execution_count": null,
      "metadata": {
        "collapsed": false
      },
      "outputs": [],
      "source": [
        "ijkl = [[0, 1, 3, 1],\n        [0, 2, 3, 2],\n        [1, 0, 3, 1],\n        [1, 1, 3, 0],\n        [2, 0, 3, 2],\n        [2, 2, 3, 0]]\n\nfor i, j, k, l in ijkl:\n    val = umat[i*2, j*2 + 1, k*2 + 1, l*2].real\n    print(f\"{orbitals[i]:<8} \\t {orbitals[j]:<8} \\t\"\n          f\"{orbitals[k]:<8} \\t {orbitals[l]:<8} \\t {val:.3f}\")"
      ]
    },
    {
      "cell_type": "markdown",
      "metadata": {},
      "source": [
        "### 6. Four orbital\nFuther multi-orbital terms include \n$U_{\\alpha\\sigma,\\beta\\sigma^\\prime,\\gamma\\sigma^\\prime,\\delta\\sigma}$.\nWe can find these here in the matrix:\n\n"
      ]
    },
    {
      "cell_type": "code",
      "execution_count": null,
      "metadata": {
        "collapsed": false
      },
      "outputs": [],
      "source": [
        "ijkl = [[0, 1, 2, 4],\n        [0, 1, 4, 2],\n        [0, 2, 1, 4],\n        [0, 2, 4, 1],\n        [0, 4, 1, 2],\n        [0, 4, 2, 1],\n        [3, 1, 4, 2],\n        [3, 2, 4, 1],\n        [3, 4, 1, 2],\n        [3, 4, 2, 1]]\n\nfor i, j, k, l in ijkl:\n    val = umat[i*2, j*2 + 1, k*2 + 1, l*2].real\n    print(f\"{orbitals[i]:<8} \\t {orbitals[j]:<8} \\t {orbitals[k]:<8}\"\n          f\"\\t {orbitals[l]:<8} \\t {val:.3f}\")"
      ]
    },
    {
      "cell_type": "markdown",
      "metadata": {},
      "source": [
        "## Effects of multi-orbital terms\nTo test the effects of the multi-orbital terms, let's plot the eigenenergy\nspectra with and without multi-orbital terms switched on for system with and\nwithout a cubic crystal field. We will use a $d$-shell with two\nelectrons.\n\n"
      ]
    },
    {
      "cell_type": "code",
      "execution_count": null,
      "metadata": {
        "collapsed": false
      },
      "outputs": [],
      "source": [
        "ten_dqs = [0, 2, 4, 12]\n\ndef diagonalize(ten_dq, umat):\n    emat = edrixs.cb_op(edrixs.cf_cubic_d(ten_dq),\n                        edrixs.tmat_c2r('d', ispin=True))\n    H = (edrixs.build_opers(4, umat, basis)\n         + edrixs.build_opers(2, emat, basis))\n    e, v = scipy.linalg.eigh(H)\n    return e - e.min()\n\nbasis = edrixs.get_fock_bin_by_N(10, 2)\numat_no_multiorbital = np.copy(umat)\nB = F2/49 - 5*F4/441 \nfor val in [np.sqrt(3)*B/2, np.sqrt(3)*B, 3*B/2]:\n    umat_no_multiorbital[(np.abs(umat)- val) < 1e-6] = 0\n\nfig, axs = plt.subplots(1, len(ten_dqs), figsize=(8, 3))\n\nfor cind, (ax, ten_dq) in enumerate(zip(axs, ten_dqs)):\n    ax.hlines(diagonalize(ten_dq, umat), xmin=0, xmax=1,\n              label='on', color=f'C{cind}')\n    ax.hlines(diagonalize(ten_dq, umat_no_multiorbital),\n              xmin=1.5, xmax=2.5,\n              label='off',\n              linestyle=':', color=f'C{cind}')\n    ax.set_title(f\"$10D_q={ten_dq}$\")\n    ax.set_ylim([-.5, 20])\n    ax.set_xticks([])\n    ax.legend()\n\nfig.suptitle(\"Eigenvalues with 3&4-orbital effects on/off\")\nfig.subplots_adjust(wspace=.3)\naxs[0].set_ylabel('Eigenvalues (eV)')    \nfig.subplots_adjust(top=.8)\nplt.show()"
      ]
    },
    {
      "cell_type": "markdown",
      "metadata": {},
      "source": [
        "On the left of the plot Coulomb interactions in spherical symmetry cause\nsubstantial mxing between $t_{2g}$ and $e_{g}$ orbitals in the\neigenstates and 3 & 4 orbital orbital terms are crucial for obtaining the\nthe right eigenenergies. As $10D_q$ get large, this mixing is switched\noff and the spectra start to become independent of whether the 3 & 4 orbital\norbital terms are included or not.\n\n\n\n.. table:: Table of 2 orbital interactions\n\n   +-----------------------------+------------------+-----------------------+----------------+--------------------+\n   |Orbitals $\\alpha,\\beta$|$U_0$ Racah | $U_0$ Slater    |$J$ Racah |$J$ Slater    |\n   +=============================+==================+=======================+================+====================+\n   |$3z^2-r^2, xz$         |$A/2+B+C/2$ |$F_0/2+F_2-12F_4$| $B/2+C/2$|$F_2/2+15F_4$ |\n   +-----------------------------+------------------+-----------------------+----------------+--------------------+\n   |$3z^2-r^2, yz$         |$A/2+B+C/2$ |$F_0/2+F_2-12F_4$| $B/2+C/2$|$F_2/2+15F_4$ |\n   +-----------------------------+------------------+-----------------------+----------------+--------------------+\n   |$3z^2-r^2, x^2-y^2$    |$A/2-2B+C/2$|$F_0/2-2F_2+3F_4$|$2B+C/2$  |$2F_2+15F_4/2$|\n   +-----------------------------+------------------+-----------------------+----------------+--------------------+\n   |$3z^2-r^2, xy$         |$A/2-2B+C/2$|$F_0/2-2F_2+3F_4$|$2B+C/2$  |$2F_2+15F_4/2$|\n   +-----------------------------+------------------+-----------------------+----------------+--------------------+\n   |$xz, yz$               |$A/2-B+C/2$ |$F_0/2-F_2-12F_4$|$3B/2+C/2$|$3F_2/2+10F_4$|\n   +-----------------------------+------------------+-----------------------+----------------+--------------------+\n   |$xz, x^2-y^2$          |$A/2-B+C/2$ |$F_0/2-F_2-12F_4$|$3B/2+C/2$|$3F_2/2+10F_4$|\n   +-----------------------------+------------------+-----------------------+----------------+--------------------+\n   |$xz, xy$               |$A/2-B+C/2$ |$F_0/2-F_2-12F_4$|$3B/2+C/2$|$3F_2/2+10F_4$|\n   +-----------------------------+------------------+-----------------------+----------------+--------------------+\n   |$yz, x^2-y^2$          |$A/2-B+C/2$ |$F_0/2-F_2-12F_4$|$3B/2+C/2$|$3F_2/2+10F_4$|\n   +-----------------------------+------------------+-----------------------+----------------+--------------------+\n   |$yz, xy$               |$A/2-B+C/2$ |$F_0/2-F_2-12F_4$|$3B/2+C/2$|$3F_2/2+10F_4$|\n   +-----------------------------+------------------+-----------------------+----------------+--------------------+\n   |$x^2-y^2, xy$          |$A/2+2B+C/2$|$F_0+4F_2-34F_4$ | $C/2$    |$35F_4/2$     |\n   +-----------------------------+------------------+-----------------------+----------------+--------------------+\n\n\n.. table:: Table of 3 orbital interactions\n\n   +-----------------------------+-------------+----------------------------------------------------+-----------------------------------------------------+\n   |Orbitals $\\alpha,\\beta,\\gamma,\\delta$|$\\langle\\alpha\\beta|\\gamma\\delta\\rangle$ Racah|$\\langle\\alpha\\beta|\\gamma\\delta\\rangle$ Slater|\n   +=============================+=============+====================================================+=====================================================+\n   |$3z^2-r^2, xz, x^2-y^2, xz$          | $\\sqrt{3}B/2$                                | $\\sqrt{3}F_2/2-5\\sqrt{3}F_4/2$                |\n   +-------------------------------------------+----------------------------------------------------+-----------------------------------------------------+\n   |$3z^2-r^2, yz, x^2-y^2, yz$          | $-\\sqrt{3}B/2$                               | $-\\sqrt{3}F_2/2+5\\sqrt{3}F_4/2$               |\n   +-------------------------------------------+----------------------------------------------------+-----------------------------------------------------+\n   |$xz, 3z^2-r^2, x^2-y^2, xz$          | $-\\sqrt{3}B$                                 | $-\\sqrt{3}F_2+5\\sqrt{3}F_4$                   |\n   +-------------------------------------------+----------------------------------------------------+-----------------------------------------------------+\n   |$xz, xz, x^2-y^2, 3z^2-r^2$          | $\\sqrt{3}B/2$                                | $\\sqrt{3}F_2/2-5\\sqrt{3}F_4/2$                |\n   +-------------------------------------------+----------------------------------------------------+-----------------------------------------------------+\n   |$yz, 3z^2-r^2, x^2-y^2, yz$          | $\\sqrt{3}B$                                  | $\\sqrt{3}F_2-5\\sqrt{3}F_4$                    |\n   +-------------------------------------------+----------------------------------------------------+-----------------------------------------------------+\n   |$yz, yz, x^2-y^2, 3z^2-r^2$          | $-\\sqrt{3}B/2$                               | $-\\sqrt{3}F_2/2+5\\sqrt{3}F_4/2$               |\n   +-------------------------------------------+----------------------------------------------------+-----------------------------------------------------+\n\n\n.. table:: Table of 4 orbital interactions\n\n   +-----------------------------+-------------+----------------------------------------------------+-----------------------------------------------------+\n   |Orbitals $\\alpha,\\beta,\\gamma,\\delta$|$\\langle\\alpha\\beta|\\gamma\\delta\\rangle$ Racah|$\\langle\\alpha\\beta|\\gamma\\delta\\rangle$ Slater|\n   +=============================+=============+====================================================+=====================================================+\n   |$3z^2-r^2, xz, yz, xy$               | $-\\sqrt{3}B$                                 | $-\\sqrt{3}F_2+5\\sqrt{3}F_4$                   |\n   +-------------------------------------------+----------------------------------------------------+-----------------------------------------------------+\n   |$3z^2-r^2, xz, xy, yz$               | $\\sqrt{3}B/2$                                | $\\sqrt{3}F_2/2-5\\sqrt{3}F_4/2$                |\n   +-------------------------------------------+----------------------------------------------------+-----------------------------------------------------+\n   |$3z^2-r^2, yz, xz, xy$               | $-\\sqrt{3}B$                                 | $-\\sqrt{3}F_2+5\\sqrt{3}F_4$                   |\n   +-------------------------------------------+----------------------------------------------------+-----------------------------------------------------+\n   |$3z^2-r^2, yz, xy, xz$               | $\\sqrt{3}B/2$                                | $\\sqrt{3}F_2/2-5\\sqrt{3}F_4/2$                |\n   +-------------------------------------------+----------------------------------------------------+-----------------------------------------------------+\n   |$3z^2-r^2, xy, xz, yz$               | $\\sqrt{3}B/2$                                | $\\sqrt{3}F_2/2-5\\sqrt{3}F_4/2$                |\n   +-------------------------------------------+----------------------------------------------------+-----------------------------------------------------+\n   |$3z^2-r^2, xy, yz, xz$               | $\\sqrt{3}B/2$                                | $\\sqrt{3}F_2/2-5\\sqrt{3}F_4/2$                |\n   +-------------------------------------------+----------------------------------------------------+-----------------------------------------------------+\n   |$x^2-y^2 , xz, xy, yz$               | $-3B/2$                                      | $-3F_2/2+15F_4/2$                             |\n   +-------------------------------------------+----------------------------------------------------+-----------------------------------------------------+\n   |$x^2-y^2 , yz, xy, xz$               | $3B/2$                                       | $3F_2/2-15F_4/2$                              |\n   +-------------------------------------------+----------------------------------------------------+-----------------------------------------------------+\n   |$x^2-y^2 , xy, xz, yz$               | $-3B/2$                                      | $-3F_2/2+15F_4/2$                             |\n   +-------------------------------------------+----------------------------------------------------+-----------------------------------------------------+\n   |$x^2-y^2 , xy, yz, xz$               | $3B/2$                                       | $3F_2/2-15F_4/2$                              |\n   +-------------------------------------------+----------------------------------------------------+-----------------------------------------------------+\n\n\n.. rubric:: Footnotes\n\n.. [1] MSugano S, Tanabe Y and Kamimura H. 1970. Multiplets of\n       Transition-Metal Ions in Crystals. Academic Press, New York and London.\n\n"
      ]
    }
  ],
  "metadata": {
    "kernelspec": {
      "display_name": "Python 3",
      "language": "python",
      "name": "python3"
    },
    "language_info": {
      "codemirror_mode": {
        "name": "ipython",
        "version": 3
      },
      "file_extension": ".py",
      "mimetype": "text/x-python",
      "name": "python",
      "nbconvert_exporter": "python",
      "pygments_lexer": "ipython3",
      "version": "3.8.11"
    }
  },
  "nbformat": 4,
  "nbformat_minor": 0
}