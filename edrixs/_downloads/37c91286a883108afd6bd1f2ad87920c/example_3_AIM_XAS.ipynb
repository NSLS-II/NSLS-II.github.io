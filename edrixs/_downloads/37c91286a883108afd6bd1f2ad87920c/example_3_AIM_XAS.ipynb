{
  "cells": [
    {
      "cell_type": "code",
      "execution_count": null,
      "metadata": {
        "collapsed": false
      },
      "outputs": [],
      "source": [
        "%matplotlib inline"
      ]
    },
    {
      "cell_type": "markdown",
      "metadata": {},
      "source": [
        "\n# Anderson impurity model for NiO XAS\nHere we calculate the $L$-edge XAS spectrum of an Anderson impurity model,\nwhich is sometimes also called a charge-transfer multiplet model. This model\nconsiders a set of correlated orbitals, often called the impurity or metal\nstates, that hybridize with a set of uncorrelated orbitals, often called the\nligands or bath states. Everyone's favorite test case for x-ray spectroscopic\ncalculations of the Anderson impurity model is NiO and we won't risk being\noriginal! This means that our correlated states will\nbe the Ni $3d$ orbitals and the uncorrelated states come from O\n$2p$ orbitals. The fact that we include these interactions means that our\nspectrum can include processes where electrons transition from the bath to the\nimpurity, as such the Anderson Impurity Model is often more accurate than atomic\nmodels, especially if the material has strong covalency.\n\nWhen defining the bath states, it is useful to use the so-called\nsymmetry adapted linear combinations of orbitals as the basis. These states\ntake into account the symmetry relationships between the different bath atom\norbitals and the fact that there are bath orbital combinations that do not\ninteract with the impurity by symmetry. By doing this the problem can be\nrepresented with fewer orbitals, which makes the calculation far more efficient.\nThe standard EDRIXS solver that we will use assumes that the bath states are\nrepresented by an integer number of bath sites set by :code:`nbath`, each of\nwhich hosts the same number of spin-orbits as the impurity e.g. 10 for a\n$d$-electron material.\n\nNiO has a rocksalt structure in which all Ni atoms are surrounded by six O\natoms. This NiO cluster used to simulate the\ncrystal would then contain 10 Ni $3d$ spin-orbitals and $6$\nspin-orbitals per O $\\times 6$ O atoms $=36$ oxygen\nspin-orbitals. As explained by, for example, Maurits Haverkort\net al. in [1]_ symmetry allows us to represent the bath with 10 symmetry\nadapted linear combinations of the different O $p_x, p_y, p_z$ states.\nThe crystal field and hopping parameters for\nsuch a calculation can be obtained by post-processing DFT calculations. We will\nuse values for NiO from [1]_. If you use values from a paper the relevant\nreferences should, of course, be cited.\n"
      ]
    },
    {
      "cell_type": "code",
      "execution_count": null,
      "metadata": {
        "collapsed": false
      },
      "outputs": [],
      "source": [
        "import edrixs\nimport numpy as np\nimport matplotlib.pyplot as plt"
      ]
    },
    {
      "cell_type": "markdown",
      "metadata": {},
      "source": [
        "## Number of electrons\nWhen formulating problems of this type, one usually thinks of a nominal\nvalence for the impurity atom in this case :code:`nd = 8` and assume that the\nbath is full. The solver that we will\nuse can simulate multiple bath sites. In our case we specify\n:code:`nbath  = 1` sites. Electrons will be able to transition from O to Ni\nduring our calculation, but the total number of valance electrons\n:code:`v_noccu` will be conserved.\n\n"
      ]
    },
    {
      "cell_type": "code",
      "execution_count": null,
      "metadata": {
        "collapsed": false
      },
      "outputs": [],
      "source": [
        "nd = 8\nnorb_d = 10\nnorb_bath = 10\nnbath = 1\nv_noccu  = nd + nbath*norb_d\nshell_name = ('d', 'p') # valence and core shells for XAS calculation"
      ]
    },
    {
      "cell_type": "markdown",
      "metadata": {},
      "source": [
        "## Coulomb interactions\nThe atomic Coulomb interactions are usually initialized based on Hartree-Fock\ncalculations from, for example,\n[Cowan's code](https://www.tcd.ie/Physics/people/Cormac.McGuinness/Cowan/).\nedrixs has a database of these.\n\n"
      ]
    },
    {
      "cell_type": "code",
      "execution_count": null,
      "metadata": {
        "collapsed": false
      },
      "outputs": [],
      "source": [
        "info  = edrixs.utils.get_atom_data('Ni', '3d', nd, edge='L3')"
      ]
    },
    {
      "cell_type": "markdown",
      "metadata": {},
      "source": [
        "The atomic values are typically scaled to account for screening in the solid.\nHere we use 80% scaling. Let's write these out in full, so that nothing is\nhidden. Values for $U_{dd}$ and $U_{dp}$ are those of Ref. [1]_\nobtained by comparing theory and experiment [2]_ [3]_.\n\n"
      ]
    },
    {
      "cell_type": "code",
      "execution_count": null,
      "metadata": {
        "collapsed": false
      },
      "outputs": [],
      "source": [
        "scale_dd = 0.8\nF2_dd = info['slater_i'][1][1] * scale_dd\nF4_dd = info['slater_i'][2][1] * scale_dd\nU_dd = 7.3\nF0_dd = U_dd + edrixs.get_F0('d', F2_dd, F4_dd)\n\nscale_dp = 0.8\nF2_dp = info['slater_n'][4][1] * scale_dp\nG1_dp = info['slater_n'][5][1] * scale_dp\nG3_dp = info['slater_n'][6][1] * scale_dp\nU_dp = 8.5\nF0_dp = U_dp + edrixs.get_F0('dp', G1_dp, G3_dp)\n\nslater = ([F0_dd, F2_dd, F4_dd],  # initial\n          [F0_dd, F2_dd, F4_dd, F0_dp, F2_dp, G1_dp, G3_dp])  # with core hole"
      ]
    },
    {
      "cell_type": "markdown",
      "metadata": {},
      "source": [
        "## Charge-transfer energy scales\nThe charge-transfer $\\Delta$ and Coulomb $U_{dd}$ $U_{dp}$\nparameters determine the centers of the different electronic configurations\nbefore they are split. Note that as electrons are moved one has to pay energy\ncosts associated with both charge-transfer and Coulomb interactions. The\nenergy splitting between the bath and impurity is consequently not simply\n$\\Delta$. One must therefore determine the energies by solving\na set of linear equations. See the `edrixs.utils functions <utils>`\nfor details. We can call these functions to get the impurity energy\n$E_d$, bath energy $E_L$, impurity energy with a core hole\n$E_{dc}$, bath energy with a core hole $E_{Lc}$ and the\ncore hole energy $E_p$. The\n:code:`if __name__ == '__main__'` code specifies that this command\nshould only be executed if the file is explicitly run.\n\n"
      ]
    },
    {
      "cell_type": "code",
      "execution_count": null,
      "metadata": {
        "collapsed": false
      },
      "outputs": [],
      "source": [
        "Delta = 4.7\nE_d, E_L = edrixs.CT_imp_bath(U_dd, Delta, nd)\nE_dc, E_Lc, E_p = edrixs.CT_imp_bath_core_hole(U_dd, U_dp, Delta, nd)\nmessage = (\"E_d = {:.3f} eV\\n\"\n           \"E_L = {:.3f} eV\\n\"\n           \"E_dc = {:.3f} eV\\n\"\n           \"E_Lc = {:.3f} eV\\n\"\n           \"E_p = {:.3f} eV\\n\")\nif __name__ == '__main__':\n    print(message.format(E_d, E_L, E_dc, E_Lc, E_p))"
      ]
    },
    {
      "cell_type": "markdown",
      "metadata": {},
      "source": [
        "The spin-orbit coupling for the valence electrons in the ground state, the\nvalence electrons with the core hole present, and for the core hole itself\nare initialized using the atomic values.\n\n"
      ]
    },
    {
      "cell_type": "code",
      "execution_count": null,
      "metadata": {
        "collapsed": false
      },
      "outputs": [],
      "source": [
        "zeta_d_i = info['v_soc_i'][0]\nzeta_d_n = info['v_soc_n'][0]\nc_soc = info['c_soc']"
      ]
    },
    {
      "cell_type": "markdown",
      "metadata": {},
      "source": [
        "## Build matrices describing interactions\nedrixs uses complex spherical harmonics as its default basis set. If we want to\nuse another basis set, we need to pass a matrix to the solver, which transforms\nfrom complex spherical harmonics into the basis we use.\nThe solver will use this matrix when implementing the Coulomb interactions\nusing the :code:`slater` list of Coulomb parameters.\nHere it is easiest to\nuse real harmonics. We make the complex harmonics to real harmonics transformation\nmatrix via\n\n"
      ]
    },
    {
      "cell_type": "code",
      "execution_count": null,
      "metadata": {
        "collapsed": false
      },
      "outputs": [],
      "source": [
        "trans_c2n = edrixs.tmat_c2r('d',True)"
      ]
    },
    {
      "cell_type": "markdown",
      "metadata": {},
      "source": [
        "The crystal field and SOC needs to be passed to the solver by constructing\nthe impurity matrix in the real harmonic basis. For cubic symmetry, we need\nto set the energies of the orbitals along the\ndiagonal of the matrix. These need to be in pairs as there are two\nspin-orbitals for each orbital energy. Python\n[list comprehension](https://realpython.com/list-comprehension-python/)\nand\n[numpy indexing](https://numpy.org/doc/stable/reference/arrays.indexing.html)\nare used here. See `sphx_glr_auto_examples_example_1_crystal_field.py`\nfor more details if needed.\n\n"
      ]
    },
    {
      "cell_type": "code",
      "execution_count": null,
      "metadata": {
        "collapsed": false
      },
      "outputs": [],
      "source": [
        "ten_dq = 0.56\nCF = np.zeros((norb_d, norb_d), dtype=complex)\ndiagonal_indices = np.arange(norb_d)\n\norbital_energies = np.array([e for orbital_energy in\n                             [+0.6 * ten_dq, # dz2\n                              -0.4 * ten_dq, # dzx\n                              -0.4 * ten_dq, # dzy\n                              +0.6 * ten_dq, # dx2-y2\n                              -0.4 * ten_dq] # dxy)\n                             for e in [orbital_energy]*2])\n\n\nCF[diagonal_indices, diagonal_indices] = orbital_energies"
      ]
    },
    {
      "cell_type": "markdown",
      "metadata": {},
      "source": [
        "The valence band SOC is constructed in the normal way and transformed into the\nreal harmonic basis.\n\n"
      ]
    },
    {
      "cell_type": "code",
      "execution_count": null,
      "metadata": {
        "collapsed": false
      },
      "outputs": [],
      "source": [
        "soc = edrixs.cb_op(edrixs.atom_hsoc('d', zeta_d_i), edrixs.tmat_c2r('d', True))"
      ]
    },
    {
      "cell_type": "markdown",
      "metadata": {},
      "source": [
        "The total impurity matrices for the ground and core-hole states are then\nthe sum of crystal field and spin-orbit coupling. We further needed to apply\nan energy shift along the matrix diagonal, which we do using the\n:code:`np.eye` function which creates a diagonal matrix of ones.\n\n"
      ]
    },
    {
      "cell_type": "code",
      "execution_count": null,
      "metadata": {
        "collapsed": false
      },
      "outputs": [],
      "source": [
        "E_d_mat = E_d*np.eye(norb_d)\nE_dc_mat = E_dc*np.eye(norb_d)\nimp_mat = CF + soc + E_d_mat\nimp_mat_n = CF + soc + E_dc_mat"
      ]
    },
    {
      "cell_type": "markdown",
      "metadata": {},
      "source": [
        "The energy level of the bath(s) is described by a matrix where the row index\ndenotes which bath and the column index denotes which orbital. Here we have\nonly one bath, with 10 spin-orbitals. We initialize the matrix to\n:code:`norb_d` and then split the energies according to :code:`ten_dq_bath`.\n\n"
      ]
    },
    {
      "cell_type": "code",
      "execution_count": null,
      "metadata": {
        "collapsed": false
      },
      "outputs": [],
      "source": [
        "ten_dq_bath = 1.44\nbath_level = np.full((nbath, norb_d), E_L, dtype=complex)\nbath_level[0, :2] += ten_dq_bath*.6  # 3z2-r2\nbath_level[0, 2:6] -= ten_dq_bath*.4  # zx/yz\nbath_level[0, 6:8] += ten_dq_bath*.6  # x2-y2\nbath_level[0, 8:] -= ten_dq_bath*.4  # xy\nbath_level_n = np.full((nbath, norb_d), E_Lc, dtype=complex)\nbath_level_n[0, :2] += ten_dq_bath*.6  # 3z2-r2\nbath_level_n[0, 2:6] -= ten_dq_bath*.4  # zx/yz\nbath_level_n[0, 6:8] += ten_dq_bath*.6  # x2-y2\nbath_level_n[0, 8:] -= ten_dq_bath*.4  # xy"
      ]
    },
    {
      "cell_type": "markdown",
      "metadata": {},
      "source": [
        "The hybridization matrix describes the hopping between the bath\nand the impurity. This is called either $V$ or $T$ in the\nliterature and matrix sign can either be positive or negative based.\nThis is the same shape as the bath matrix. We take our\nvalues from Maurits Haverkort et al.'s DFT calculations [1]_.\n\n"
      ]
    },
    {
      "cell_type": "code",
      "execution_count": null,
      "metadata": {
        "collapsed": false
      },
      "outputs": [],
      "source": [
        "Veg = 2.06\nVt2g = 1.21\n\nhyb = np.zeros((nbath, norb_d), dtype=complex)\nhyb[0, :2] = Veg  # 3z2-r2\nhyb[0, 2:6] = Vt2g  # zx/yz\nhyb[0, 6:8] = Veg  # x2-y2\nhyb[0, 8:] = Vt2g  # xy"
      ]
    },
    {
      "cell_type": "markdown",
      "metadata": {},
      "source": [
        "We now need to define the parameters describing the XAS. X-ray polarization\ncan be linear, circular or isotropic (appropriate for a powder).\n\n"
      ]
    },
    {
      "cell_type": "code",
      "execution_count": null,
      "metadata": {
        "collapsed": false
      },
      "outputs": [],
      "source": [
        "poltype_xas = [('isotropic', 0)]"
      ]
    },
    {
      "cell_type": "markdown",
      "metadata": {},
      "source": [
        "edrixs uses the temperature in Kelvin to work out the population of the low-lying\nstates via a Boltzmann distribution.\n\n"
      ]
    },
    {
      "cell_type": "code",
      "execution_count": null,
      "metadata": {
        "collapsed": false
      },
      "outputs": [],
      "source": [
        "temperature = 300"
      ]
    },
    {
      "cell_type": "markdown",
      "metadata": {},
      "source": [
        "The x-ray beam is specified by the incident angle and azimuthal angle in radians\n\n"
      ]
    },
    {
      "cell_type": "code",
      "execution_count": null,
      "metadata": {
        "collapsed": false
      },
      "outputs": [],
      "source": [
        "thin = 0 / 180.0 * np.pi\nphi = 0.0"
      ]
    },
    {
      "cell_type": "markdown",
      "metadata": {},
      "source": [
        "these are with respect to the crystal field $z$ and $x$ axes\nwritten above. (That is, unless you specify the :code:`loc_axis` parameter\ndescribed in the :code:`edrixs.xas_siam_fort` function documentation.)\n\n"
      ]
    },
    {
      "cell_type": "markdown",
      "metadata": {},
      "source": [
        "The spectrum in the raw calculation is offset by the energy involved with the\ncore hole state, which is roughly $5 E_p$, so we offset the spectrum by\nthis and use :code:`om_shift` as an adjustable parameters for comparing\ntheory to experiment. We also use this to specify :code:`ominc_xas`\nthe range we want to compute the spectrum over. The core hole lifetime\nbroadening also needs to be set via :code:`gamma_c_stat`.\n\n"
      ]
    },
    {
      "cell_type": "code",
      "execution_count": null,
      "metadata": {
        "collapsed": false
      },
      "outputs": [],
      "source": [
        "om_shift = 857.6\nc_level = -om_shift - 5*E_p\nominc_xas = om_shift + np.linspace(-15, 25, 1000)"
      ]
    },
    {
      "cell_type": "markdown",
      "metadata": {},
      "source": [
        "The final state broadening is specified in terms of half-width at half-maximum\nYou can either pass a constant value or an array the same size as\n:code:`om_shift` with varying values to simulate, for example, different state\nlifetimes for higher energy states.\n\n"
      ]
    },
    {
      "cell_type": "code",
      "execution_count": null,
      "metadata": {
        "collapsed": false
      },
      "outputs": [],
      "source": [
        "gamma_c = np.full(ominc_xas.shape, 0.48/2)"
      ]
    },
    {
      "cell_type": "markdown",
      "metadata": {},
      "source": [
        "Magnetic field is a three-component vector in eV specified with respect to the\nsame local axis as the x-ray beam. Since we are considering a powder here\nwe create an isotropic normalized vector. :code:`on_which = 'both'` specifies to\napply the operator to the total spin plus orbital angular momentum as is\nappropriate for a physical external magnetic field. You can use\n:code:`on_which = 'spin'` to apply the operator to spin in order to simulate\nmagnetic order in the sample. The value of the Bohr Magneton can\nbe useful for converting here $\\mu_B = 5.7883818012\\times 10^{\u22125}$.\nFor this example, we will account for magnetic order in the sample by\n\n"
      ]
    },
    {
      "cell_type": "code",
      "execution_count": null,
      "metadata": {
        "collapsed": false
      },
      "outputs": [],
      "source": [
        "ext_B = np.array([0.00, 0.00, 0.12])\non_which = 'spin'"
      ]
    },
    {
      "cell_type": "markdown",
      "metadata": {},
      "source": [
        "The number crunching uses\n[mpi4py](https://mpi4py.readthedocs.io/en/stable/). You can safely ignore\nthis for most purposes, but see\n[Y. L. Wang et al., Computer Physics Communications 243, 151-165 (2019)](https://doi.org/10.1016/j.cpc.2019.04.018)\nif you would like more details.\nThe main thing to remember is that you should call this script via::\n\n       mpirun -n <number of processors> python example_AIM_XAS.py\n\nwhere :code:`<number of processors>` is the number of processors\nyou'd like to us. Running it as normal will work, it will just be slower.\n\n"
      ]
    },
    {
      "cell_type": "code",
      "execution_count": null,
      "metadata": {
        "collapsed": false
      },
      "outputs": [],
      "source": [
        "if __name__ == '__main__':\n    from mpi4py import MPI\n    comm = MPI.COMM_WORLD\n    rank = comm.Get_rank()\n    size = comm.Get_size()"
      ]
    },
    {
      "cell_type": "markdown",
      "metadata": {},
      "source": [
        "Calling the :code:`edrixs.ed_siam_fort` solver will find the ground state and\nwrite input files, *hopping_i.in*, *hopping_n.in*, *coulomb_i.in*, *coulomb_n.in*\nfor following XAS (or RIXS) calculation. We need to specify :code:`siam_type=0`\nwhich says that we will pass *imp_mat*, *bath_level* and *hyb*.\nWe need to specify :code:`do_ed = 1`. For this example, we cannot use\n:code:`do_ed = 0` for a ground state search as we have set the impurity and\nbath energy levels artificially, which means edrixs will have trouble to know\nwhich subspace to search to find the ground state.\n\n"
      ]
    },
    {
      "cell_type": "code",
      "execution_count": null,
      "metadata": {
        "collapsed": false
      },
      "outputs": [],
      "source": [
        "if __name__ == '__main__':\n    do_ed = 1\n    eval_i, denmat, noccu_gs = edrixs.ed_siam_fort(\n        comm, shell_name, nbath, siam_type=0, imp_mat=imp_mat, imp_mat_n=imp_mat_n,\n        bath_level=bath_level, bath_level_n=bath_level_n, hyb=hyb, c_level=c_level,\n        c_soc=c_soc, slater=slater, ext_B=ext_B,\n        on_which=on_which, trans_c2n=trans_c2n, v_noccu=v_noccu, do_ed=do_ed,\n        ed_solver=2, neval=50, nvector=3, ncv=100, idump=True)"
      ]
    },
    {
      "cell_type": "markdown",
      "metadata": {},
      "source": [
        "Let's check that we have all the electrons we think we have and print how\nthe electron are distributed between the Ni (impurity) and O (bath).\n\n"
      ]
    },
    {
      "cell_type": "code",
      "execution_count": null,
      "metadata": {
        "collapsed": false
      },
      "outputs": [],
      "source": [
        "if __name__ == '__main__':\n    assert np.abs(noccu_gs - v_noccu) < 1e-6\n    impurity_occupation = np.sum(denmat[0].diagonal()[0:norb_d]).real\n    bath_occupation = np.sum(denmat[0].diagonal()[norb_d:]).real\n    print('Impurity occupation = {:.6f}\\n'.format(impurity_occupation))\n    print('Bath occupation = {:.6f}\\n'.format(bath_occupation))"
      ]
    },
    {
      "cell_type": "markdown",
      "metadata": {},
      "source": [
        "We see that 0.18 electrons move from the O to the Ni in the ground state.\n\nWe can now construct the XAS spectrum edrixs by applying a transition\noperator to create the excited state. We need to be careful to specify how\nmany of the low energy states are thermally populated. In this case\n:code:`num_gs=3`. This can be determined by inspecting the function output.\n\n"
      ]
    },
    {
      "cell_type": "code",
      "execution_count": null,
      "metadata": {
        "collapsed": false
      },
      "outputs": [],
      "source": [
        "if __name__ == '__main__':\n    xas, xas_poles = edrixs.xas_siam_fort(\n        comm, shell_name, nbath, ominc_xas, gamma_c=gamma_c, v_noccu=v_noccu, thin=thin,\n        phi=phi, num_gs=3, nkryl=200, pol_type=poltype_xas, temperature=temperature\n    )"
      ]
    },
    {
      "cell_type": "markdown",
      "metadata": {},
      "source": [
        "Let's plot the data and save it just in case\n\n"
      ]
    },
    {
      "cell_type": "code",
      "execution_count": null,
      "metadata": {
        "collapsed": false
      },
      "outputs": [],
      "source": [
        "if __name__ == '__main__':\n    fig, ax = plt.subplots()\n\n    ax.plot(ominc_xas, xas)\n    ax.set_xlabel('Energy (eV)')\n    ax.set_ylabel('XAS intensity')\n    ax.set_title('Anderson impurity model for NiO')\n    plt.show()\n\n    np.savetxt('xas.dat', np.concatenate((np.array([ominc_xas]).T, xas), axis=1))"
      ]
    },
    {
      "cell_type": "markdown",
      "metadata": {},
      "source": [
        ".. rubric:: Footnotes\n\n.. [1] Maurits Haverkort et al\n       [Phys. Rev. B 85, 165113 (2012)](https://doi.org/10.1103/PhysRevB.85.165113).\n.. [2] A. E. Bocquet et al.,\n       [Phys. Rev. B 53, 1161 (1996)](https://doi.org/10.1103/PhysRevB.53.1161)\n.. [3] Arata Tanaka, and Takeo Jo,\n       [J. Phys. Soc. Jpn. 63, 2788-2807(1994)](https://doi.org/10.1143/JPSJ.63.2788)\n\n"
      ]
    }
  ],
  "metadata": {
    "kernelspec": {
      "display_name": "Python 3",
      "language": "python",
      "name": "python3"
    },
    "language_info": {
      "codemirror_mode": {
        "name": "ipython",
        "version": 3
      },
      "file_extension": ".py",
      "mimetype": "text/x-python",
      "name": "python",
      "nbconvert_exporter": "python",
      "pygments_lexer": "ipython3",
      "version": "3.8.14"
    }
  },
  "nbformat": 4,
  "nbformat_minor": 0
}