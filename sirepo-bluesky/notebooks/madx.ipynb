{
 "cells": [
  {
   "cell_type": "markdown",
   "metadata": {},
   "source": [
    "# MAD-X Simulations\n",
    "\n",
    "This section is based on the **BL2_TDC** ATF example.\n",
    "\n",
    "**Hint**: See the [List of predefined simulations in Sirepo](../simulations.rst) for examples of identifiers for different beamlines."
   ]
  },
  {
   "cell_type": "code",
   "execution_count": 1,
   "metadata": {
    "execution": {
     "iopub.execute_input": "2022-12-21T00:27:46.725231Z",
     "iopub.status.busy": "2022-12-21T00:27:46.725025Z",
     "iopub.status.idle": "2022-12-21T00:27:57.304908Z",
     "shell.execute_reply": "2022-12-21T00:27:57.304287Z"
    }
   },
   "outputs": [
    {
     "name": "stdout",
     "output_type": "stream",
     "text": [
      "\n",
      "\n",
      "Transient Scan ID: 1     Time: 2022-12-21 00:27:48\n",
      "Persistent Unique Scan ID: 'd4610e79-c062-4a04-8a50-15a98fbc6e99'\n"
     ]
    },
    {
     "name": "stdout",
     "output_type": "stream",
     "text": [
      "New stream: 'madx_flyer'\n",
      "\n",
      "\n",
      "\n"
     ]
    },
    {
     "name": "stdout",
     "output_type": "stream",
     "text": [
      "                                 time      madx_flyer_NAME madx_flyer_S  \\\n",
      "seq_num                                                                   \n",
      "1       2022-12-21 00:27:57.130152464  BEAMLINE_FULL$START          0.0   \n",
      "2       2022-12-21 00:27:57.130193232                 HO00          0.2   \n",
      "3       2022-12-21 00:27:57.130214930                HPOP1          0.2   \n",
      "4       2022-12-21 00:27:57.130232572                HT1HV          0.2   \n",
      "5       2022-12-21 00:27:57.130247593                 HO01         0.37   \n",
      "...                               ...                  ...          ...   \n",
      "157     2022-12-21 00:27:57.132438421                 GO38  27.53831648   \n",
      "158     2022-12-21 00:27:57.132451534                 GD32  27.81538296   \n",
      "159     2022-12-21 00:27:57.132464169                 GO39  27.93538296   \n",
      "160     2022-12-21 00:27:57.132478714                 GP12  27.93538296   \n",
      "161     2022-12-21 00:27:57.132493734    BEAMLINE_FULL$END  27.93538296   \n",
      "\n",
      "        madx_flyer_BETX madx_flyer_ALFX madx_flyer_BETY madx_flyer_ALFY  \\\n",
      "seq_num                                                                   \n",
      "1                  10.0            -1.0            10.0            -1.0   \n",
      "2                10.408           -1.04          10.408           -1.04   \n",
      "3                10.408           -1.04          10.408           -1.04   \n",
      "4                10.408           -1.04          10.408           -1.04   \n",
      "5              10.76738          -1.074        10.76738          -1.074   \n",
      "...                 ...             ...             ...             ...   \n",
      "157         2.396883578    -3.863282884     84.26809523     230.9077167   \n",
      "158        0.5164147523    -5.146489917     252.4075341    -427.2069816   \n",
      "159         2.518017443    -11.53353251     365.3493315    -513.9746634   \n",
      "160         2.518017443    -11.53353251     365.3493315    -513.9746634   \n",
      "161         2.518017443    -11.53353251     365.3493315    -513.9746634   \n",
      "\n",
      "            madx_flyer_DX madx_flyer_DY  \n",
      "seq_num                                  \n",
      "1                     0.0           0.0  \n",
      "2                     0.0           0.0  \n",
      "3                     0.0           0.0  \n",
      "4                     0.0           0.0  \n",
      "5                     0.0           0.0  \n",
      "...                   ...           ...  \n",
      "157      -0.0008130600296  0.2204931072  \n",
      "158       0.0003492332044     0.7817777  \n",
      "159       0.0008034259101   1.101499236  \n",
      "160       0.0008034259101   1.101499236  \n",
      "161       0.0008034259101   1.101499236  \n",
      "\n",
      "[161 rows x 9 columns]\n"
     ]
    },
    {
     "name": "stderr",
     "output_type": "stream",
     "text": [
      "/usr/share/miniconda3/envs/sirepo-bluesky-py3.9/lib/python3.9/site-packages/event_model/__init__.py:224: UserWarning: The document type 'bulk_events' has been deprecated in favor of 'event_page', whose structure is a transpose of 'bulk_events'.\n",
      "  warnings.warn(\n"
     ]
    }
   ],
   "source": [
    "%run -i ../../../examples/prepare_flyer_env.py\n",
    "\n",
    "import matplotlib.pyplot as plt\n",
    "\n",
    "from sirepo_bluesky.sirepo_bluesky import SirepoBluesky\n",
    "from sirepo_bluesky.madx_flyer import MADXFlyer\n",
    "from sirepo_bluesky.sirepo_ophyd import create_classes\n",
    "\n",
    "connection = SirepoBluesky(\"http://localhost:8000\")\n",
    "\n",
    "data, schema = connection.auth(\"madx\", \"00000001\")\n",
    "classes, objects = create_classes(connection.data,\n",
    "                                  connection=connection,\n",
    "                                  extra_model_fields=[\"rpnVariables\"])\n",
    "globals().update(**objects)\n",
    "\n",
    "madx_flyer = MADXFlyer(connection=connection,\n",
    "                       root_dir=\"/tmp/sirepo-bluesky-data\",\n",
    "                       report=\"elementAnimation250-20\")\n",
    "\n",
    "def madx_plan(parameter=ihq1, value=2.0):\n",
    "    yield from bps.mv(parameter.value, value)\n",
    "    return (yield from bp.fly([madx_flyer]))\n",
    "\n",
    "(uid,) = RE(madx_plan())\n",
    "hdr = db[uid]\n",
    "tbl = hdr.table(stream_name=\"madx_flyer\", fill=True)\n",
    "print(tbl)"
   ]
  },
  {
   "cell_type": "markdown",
   "metadata": {},
   "source": [
    "### Get the data via databroker API"
   ]
  },
  {
   "cell_type": "code",
   "execution_count": 2,
   "metadata": {
    "execution": {
     "iopub.execute_input": "2022-12-21T00:27:57.307743Z",
     "iopub.status.busy": "2022-12-21T00:27:57.307520Z",
     "iopub.status.idle": "2022-12-21T00:27:57.479498Z",
     "shell.execute_reply": "2022-12-21T00:27:57.478996Z"
    }
   },
   "outputs": [
    {
     "data": {
      "text/plain": [
       "<matplotlib.legend.Legend at 0x7efeb2043220>"
      ]
     },
     "execution_count": 2,
     "metadata": {},
     "output_type": "execute_result"
    },
    {
     "data": {
      "image/png": "[encoded data removed]",
      "text/plain": [
       "<Figure size 640x480 with 1 Axes>"
      ]
     },
     "metadata": {},
     "output_type": "display_data"
    }
   ],
   "source": [
    "s = tbl[\"madx_flyer_S\"]\n",
    "betx = tbl[\"madx_flyer_BETX\"]\n",
    "bety = tbl[\"madx_flyer_BETY\"]\n",
    "\n",
    "plt.figure()\n",
    "plt.plot(s, betx, label=\"betx\")\n",
    "plt.plot(s, bety, label=\"bety\")\n",
    "plt.xlabel(\"s [m]\")\n",
    "plt.ylabel(\"betx, bety [m]\")\n",
    "plt.grid()\n",
    "plt.legend()"
   ]
  },
  {
   "cell_type": "markdown",
   "metadata": {},
   "source": [
    "### Get the data from the original TFS file"
   ]
  },
  {
   "cell_type": "code",
   "execution_count": 3,
   "metadata": {
    "execution": {
     "iopub.execute_input": "2022-12-21T00:27:57.482271Z",
     "iopub.status.busy": "2022-12-21T00:27:57.481729Z",
     "iopub.status.idle": "2022-12-21T00:27:57.515660Z",
     "shell.execute_reply": "2022-12-21T00:27:57.515123Z"
    }
   },
   "outputs": [
    {
     "name": "stdout",
     "output_type": "stream",
     "text": [
      "\n",
      "Resource\n",
      "========\n",
      "path_semantics  : posix                                   \n",
      "resource_kwargs :\n",
      "resource_path   : 2022/12/21/448e9578-b7d6-40bf-9202-1242255eebaf.tfs\n",
      "root            : /tmp/sirepo-bluesky-data                \n",
      "run_start       : d4610e79-c062-4a04-8a50-15a98fbc6e99    \n",
      "spec            : madx                                    \n",
      "uid             : 81574c3b-8942-4493-a5e7-332b42001986    \n"
     ]
    }
   ],
   "source": [
    "import os\n",
    "import tfs\n",
    "\n",
    "for name, doc in hdr.documents():\n",
    "    if name == \"resource\":\n",
    "        resource_doc = doc\n",
    "        print(resource_doc)\n",
    "filename = os.path.join(resource_doc[\"root\"], resource_doc[\"resource_path\"])\n",
    "df = tfs.read(filename)"
   ]
  },
  {
   "cell_type": "code",
   "execution_count": 4,
   "metadata": {
    "execution": {
     "iopub.execute_input": "2022-12-21T00:27:57.518182Z",
     "iopub.status.busy": "2022-12-21T00:27:57.517974Z",
     "iopub.status.idle": "2022-12-21T00:27:57.530371Z",
     "shell.execute_reply": "2022-12-21T00:27:57.529791Z"
    }
   },
   "outputs": [
    {
     "data": {
      "text/html": [
       "<div>\n",
       "<style scoped>\n",
       "    .dataframe tbody tr th:only-of-type {\n",
       "        vertical-align: middle;\n",
       "    }\n",
       "\n",
       "    .dataframe tbody tr th {\n",
       "        vertical-align: top;\n",
       "    }\n",
       "\n",
       "    .dataframe thead th {\n",
       "        text-align: right;\n",
       "    }\n",
       "</style>\n",
       "<table border=\"1\" class=\"dataframe\">\n",
       "  <thead>\n",
       "    <tr style=\"text-align: right;\">\n",
       "      <th></th>\n",
       "      <th>NAME</th>\n",
       "      <th>S</th>\n",
       "      <th>BETX</th>\n",
       "      <th>ALFX</th>\n",
       "      <th>BETY</th>\n",
       "      <th>ALFY</th>\n",
       "      <th>DX</th>\n",
       "      <th>DY</th>\n",
       "    </tr>\n",
       "  </thead>\n",
       "  <tbody>\n",
       "    <tr>\n",
       "      <th>0</th>\n",
       "      <td>BEAMLINE_FULL$START</td>\n",
       "      <td>0.000000</td>\n",
       "      <td>10.000000</td>\n",
       "      <td>-1.000000</td>\n",
       "      <td>10.000000</td>\n",
       "      <td>-1.000000</td>\n",
       "      <td>0.000000</td>\n",
       "      <td>0.000000</td>\n",
       "    </tr>\n",
       "    <tr>\n",
       "      <th>1</th>\n",
       "      <td>HO00</td>\n",
       "      <td>0.200000</td>\n",
       "      <td>10.408000</td>\n",
       "      <td>-1.040000</td>\n",
       "      <td>10.408000</td>\n",
       "      <td>-1.040000</td>\n",
       "      <td>0.000000</td>\n",
       "      <td>0.000000</td>\n",
       "    </tr>\n",
       "    <tr>\n",
       "      <th>2</th>\n",
       "      <td>HPOP1</td>\n",
       "      <td>0.200000</td>\n",
       "      <td>10.408000</td>\n",
       "      <td>-1.040000</td>\n",
       "      <td>10.408000</td>\n",
       "      <td>-1.040000</td>\n",
       "      <td>0.000000</td>\n",
       "      <td>0.000000</td>\n",
       "    </tr>\n",
       "    <tr>\n",
       "      <th>3</th>\n",
       "      <td>HT1HV</td>\n",
       "      <td>0.200000</td>\n",
       "      <td>10.408000</td>\n",
       "      <td>-1.040000</td>\n",
       "      <td>10.408000</td>\n",
       "      <td>-1.040000</td>\n",
       "      <td>0.000000</td>\n",
       "      <td>0.000000</td>\n",
       "    </tr>\n",
       "    <tr>\n",
       "      <th>4</th>\n",
       "      <td>HO01</td>\n",
       "      <td>0.370000</td>\n",
       "      <td>10.767380</td>\n",
       "      <td>-1.074000</td>\n",
       "      <td>10.767380</td>\n",
       "      <td>-1.074000</td>\n",
       "      <td>0.000000</td>\n",
       "      <td>0.000000</td>\n",
       "    </tr>\n",
       "    <tr>\n",
       "      <th>...</th>\n",
       "      <td>...</td>\n",
       "      <td>...</td>\n",
       "      <td>...</td>\n",
       "      <td>...</td>\n",
       "      <td>...</td>\n",
       "      <td>...</td>\n",
       "      <td>...</td>\n",
       "      <td>...</td>\n",
       "    </tr>\n",
       "    <tr>\n",
       "      <th>156</th>\n",
       "      <td>GO38</td>\n",
       "      <td>27.538316</td>\n",
       "      <td>2.396884</td>\n",
       "      <td>-3.863283</td>\n",
       "      <td>84.268095</td>\n",
       "      <td>230.907717</td>\n",
       "      <td>-0.000813</td>\n",
       "      <td>0.220493</td>\n",
       "    </tr>\n",
       "    <tr>\n",
       "      <th>157</th>\n",
       "      <td>GD32</td>\n",
       "      <td>27.815383</td>\n",
       "      <td>0.516415</td>\n",
       "      <td>-5.146490</td>\n",
       "      <td>252.407534</td>\n",
       "      <td>-427.206982</td>\n",
       "      <td>0.000349</td>\n",
       "      <td>0.781778</td>\n",
       "    </tr>\n",
       "    <tr>\n",
       "      <th>158</th>\n",
       "      <td>GO39</td>\n",
       "      <td>27.935383</td>\n",
       "      <td>2.518017</td>\n",
       "      <td>-11.533533</td>\n",
       "      <td>365.349332</td>\n",
       "      <td>-513.974663</td>\n",
       "      <td>0.000803</td>\n",
       "      <td>1.101499</td>\n",
       "    </tr>\n",
       "    <tr>\n",
       "      <th>159</th>\n",
       "      <td>GP12</td>\n",
       "      <td>27.935383</td>\n",
       "      <td>2.518017</td>\n",
       "      <td>-11.533533</td>\n",
       "      <td>365.349332</td>\n",
       "      <td>-513.974663</td>\n",
       "      <td>0.000803</td>\n",
       "      <td>1.101499</td>\n",
       "    </tr>\n",
       "    <tr>\n",
       "      <th>160</th>\n",
       "      <td>BEAMLINE_FULL$END</td>\n",
       "      <td>27.935383</td>\n",
       "      <td>2.518017</td>\n",
       "      <td>-11.533533</td>\n",
       "      <td>365.349332</td>\n",
       "      <td>-513.974663</td>\n",
       "      <td>0.000803</td>\n",
       "      <td>1.101499</td>\n",
       "    </tr>\n",
       "  </tbody>\n",
       "</table>\n",
       "<p>161 rows × 8 columns</p>\n",
       "</div>"
      ],
      "text/plain": [
       "Headers:\n",
       "    NAME: TWISS\n",
       "    TYPE: TWISS\n",
       "    SEQUENCE: BEAMLINE_FULL\n",
       "    ...\n",
       "    ORIGIN: 5.07.00 Linux 64\n",
       "    DATE: 21/12/22\n",
       "    TIME: 00.27.53\n",
       "\n",
       "                    NAME          S       BETX       ALFX        BETY  \\\n",
       "0    BEAMLINE_FULL$START   0.000000  10.000000  -1.000000   10.000000   \n",
       "1                   HO00   0.200000  10.408000  -1.040000   10.408000   \n",
       "2                  HPOP1   0.200000  10.408000  -1.040000   10.408000   \n",
       "3                  HT1HV   0.200000  10.408000  -1.040000   10.408000   \n",
       "4                   HO01   0.370000  10.767380  -1.074000   10.767380   \n",
       "..                   ...        ...        ...        ...         ...   \n",
       "156                 GO38  27.538316   2.396884  -3.863283   84.268095   \n",
       "157                 GD32  27.815383   0.516415  -5.146490  252.407534   \n",
       "158                 GO39  27.935383   2.518017 -11.533533  365.349332   \n",
       "159                 GP12  27.935383   2.518017 -11.533533  365.349332   \n",
       "160    BEAMLINE_FULL$END  27.935383   2.518017 -11.533533  365.349332   \n",
       "\n",
       "           ALFY        DX        DY  \n",
       "0     -1.000000  0.000000  0.000000  \n",
       "1     -1.040000  0.000000  0.000000  \n",
       "2     -1.040000  0.000000  0.000000  \n",
       "3     -1.040000  0.000000  0.000000  \n",
       "4     -1.074000  0.000000  0.000000  \n",
       "..          ...       ...       ...  \n",
       "156  230.907717 -0.000813  0.220493  \n",
       "157 -427.206982  0.000349  0.781778  \n",
       "158 -513.974663  0.000803  1.101499  \n",
       "159 -513.974663  0.000803  1.101499  \n",
       "160 -513.974663  0.000803  1.101499  \n",
       "\n",
       "[161 rows x 8 columns]"
      ]
     },
     "execution_count": 4,
     "metadata": {},
     "output_type": "execute_result"
    }
   ],
   "source": [
    "df"
   ]
  },
  {
   "cell_type": "code",
   "execution_count": 5,
   "metadata": {
    "execution": {
     "iopub.execute_input": "2022-12-21T00:27:57.533060Z",
     "iopub.status.busy": "2022-12-21T00:27:57.532865Z",
     "iopub.status.idle": "2022-12-21T00:27:57.670734Z",
     "shell.execute_reply": "2022-12-21T00:27:57.670156Z"
    }
   },
   "outputs": [
    {
     "data": {
      "text/plain": [
       "<matplotlib.legend.Legend at 0x7efeb0b94be0>"
      ]
     },
     "execution_count": 5,
     "metadata": {},
     "output_type": "execute_result"
    },
    {
     "data": {
      "image/png": "[encoded data removed]",
      "text/plain": [
       "<Figure size 640x480 with 1 Axes>"
      ]
     },
     "metadata": {},
     "output_type": "display_data"
    }
   ],
   "source": [
    "plt.figure()\n",
    "plt.plot(df[\"S\"], df[\"BETX\"], label=\"betx\")\n",
    "plt.plot(df[\"S\"], df[\"BETY\"], label=\"bety\")\n",
    "plt.xlabel(\"s [m]\")\n",
    "plt.ylabel(\"betx, bety [m]\")\n",
    "plt.grid()\n",
    "plt.legend()"
   ]
  },
  {
   "cell_type": "markdown",
   "metadata": {},
   "source": [
    "### Screenshot from Sirepo website\n",
    "\n",
    "![image.png](../../../images/madx_twiss2_file.png)"
   ]
  }
 ],
 "metadata": {
  "kernelspec": {
   "display_name": "Python 3",
   "language": "python",
   "name": "python3"
  },
  "language_info": {
   "codemirror_mode": {
    "name": "ipython",
    "version": 3
   },
   "file_extension": ".py",
   "mimetype": "text/x-python",
   "name": "python",
   "nbconvert_exporter": "python",
   "pygments_lexer": "ipython3",
   "version": "3.9.15"
  }
 },
 "nbformat": 4,
 "nbformat_minor": 4
}
