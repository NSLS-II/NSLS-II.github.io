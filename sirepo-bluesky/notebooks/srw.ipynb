{
 "cells": [
  {
   "cell_type": "markdown",
   "metadata": {},
   "source": [
    "# Run Sirepo/SRW simulations with Bluesky\n",
    "\n",
    "This section is based on the **Young's Double Slit Experiment** Sirepo example\n",
    "that can be found in the wavefront propagation folder on the SRW simulations\n",
    "section.\n",
    "\n",
    "**Hint**: See the [List of predefined simulations in Sirepo](../simulations.rst) for examples of identifiers for different beamlines."
   ]
  },
  {
   "cell_type": "markdown",
   "metadata": {},
   "source": [
    "## Run \"Source\" SRW simulations\n",
    "\n",
    "In this example, we run a simulation using the \"Single-Electron Spectrum\" report on the \"Source\" page of Sirepo/SRW app."
   ]
  },
  {
   "cell_type": "code",
   "execution_count": 1,
   "metadata": {
    "execution": {
     "iopub.execute_input": "2022-11-04T17:13:55.154135Z",
     "iopub.status.busy": "2022-11-04T17:13:55.153735Z",
     "iopub.status.idle": "2022-11-04T17:14:02.939011Z",
     "shell.execute_reply": "2022-11-04T17:14:02.938275Z"
    }
   },
   "outputs": [
    {
     "name": "stdout",
     "output_type": "stream",
     "text": [
      "\n",
      "\n",
      "Transient Scan ID: 1     Time: 2022-11-04 17:13:57\n",
      "Persistent Unique Scan ID: 'ca6ecc9d-460a-4271-9ccf-d9870054b0de'\n"
     ]
    },
    {
     "name": "stdout",
     "output_type": "stream",
     "text": [
      "New stream: 'primary'\n",
      "+-----------+------------+--------------+------------------+\n",
      "|   seq_num |       time | srw_det_mean | srw_det_duration |\n",
      "+-----------+------------+--------------+------------------+\n",
      "|         1 | 17:14:02.8 | 9721365919945.510 |            5.154 |\n",
      "+-----------+------------+--------------+------------------+\n",
      "generator count ['ca6ecc9d'] (scan num: 1)\n",
      "\n",
      "\n",
      "\n"
     ]
    }
   ],
   "source": [
    "%run -i ../../../examples/prepare_det_env.py\n",
    "\n",
    "import sirepo_bluesky.srw_detector as sd\n",
    "import bluesky.plans as bp\n",
    "\n",
    "srw_det = sd.SirepoSRWDetector(sim_id=\"00000000\", sim_type=\"srw\",\n",
    "                               source_simulation=True,\n",
    "                               sirepo_server=\"http://localhost:8000\",\n",
    "                               root_dir=\"/tmp/sirepo-bluesky-data\")\n",
    "\n",
    "srw_det.configuration_attrs = [\"photon_energy\", \"shape\"]\n",
    "srw_det.duration.kind = 'hinted'\n",
    "\n",
    "uid, = RE(bp.count([srw_det]))"
   ]
  },
  {
   "cell_type": "markdown",
   "metadata": {},
   "source": [
    "We can observe the produced spectrum as:"
   ]
  },
  {
   "cell_type": "code",
   "execution_count": 2,
   "metadata": {
    "execution": {
     "iopub.execute_input": "2022-11-04T17:14:02.943397Z",
     "iopub.status.busy": "2022-11-04T17:14:02.942484Z",
     "iopub.status.idle": "2022-11-04T17:14:03.175000Z",
     "shell.execute_reply": "2022-11-04T17:14:03.174266Z"
    }
   },
   "outputs": [
    {
     "data": {
      "text/plain": [
       "[<matplotlib.lines.Line2D at 0x7fd284715d30>]"
      ]
     },
     "execution_count": 2,
     "metadata": {},
     "output_type": "execute_result"
    },
    {
     "data": {
      "image/png": "[encoded data removed]",
      "text/plain": [
       "<Figure size 640x480 with 1 Axes>"
      ]
     },
     "metadata": {},
     "output_type": "display_data"
    }
   ],
   "source": [
    "hdr = db[uid]\n",
    "cfg = hdr.config_data(srw_det.name)[\"primary\"][0]\n",
    "energies = cfg[f\"{srw_det.name}_photon_energy\"]\n",
    "spectrum, = hdr.data(f\"{srw_det.name}_image\")\n",
    "plt.plot(energies, spectrum)"
   ]
  },
  {
   "cell_type": "markdown",
   "metadata": {},
   "source": [
    "## Run \"Beamline\" SRW simulations sequentially\n",
    "\n",
    "In this example, we scan the horizontal size of the aperture and collect the resulting averaged intensities and corresponding 2D intensity distributions from the \"Watchpoint\" report on the \"Beamline\" page of Sirepo/SRW app."
   ]
  },
  {
   "cell_type": "markdown",
   "metadata": {},
   "source": [
    "Start ``ipython`` and run the code in the following cell. Note that ``sim_id`` may be replaced by the identifier for any supported Sirepo simulation."
   ]
  },
  {
   "cell_type": "code",
   "execution_count": 3,
   "metadata": {
    "execution": {
     "iopub.execute_input": "2022-11-04T17:14:03.178573Z",
     "iopub.status.busy": "2022-11-04T17:14:03.178329Z",
     "iopub.status.idle": "2022-11-04T17:15:02.897793Z",
     "shell.execute_reply": "2022-11-04T17:15:02.896945Z"
    }
   },
   "outputs": [
    {
     "name": "stdout",
     "output_type": "stream",
     "text": [
      "\n",
      "\n",
      "Transient Scan ID: 1     Time: 2022-11-04 17:14:03\n",
      "Persistent Unique Scan ID: '9f7fb3fb-1b54-471d-96f8-d820bb0da51c'\n"
     ]
    },
    {
     "name": "stdout",
     "output_type": "stream",
     "text": [
      "New stream: 'primary'\n",
      "+-----------+------------+--------------------------------+--------------+------------------+\n",
      "|   seq_num |       time | Aperture_sirepo_horizontalSize | srw_det_mean | srw_det_duration |\n",
      "+-----------+------------+--------------------------------+--------------+------------------+\n",
      "|         1 | 17:14:08.5 |                          0.000 |        0.000 |            5.152 |\n"
     ]
    },
    {
     "name": "stdout",
     "output_type": "stream",
     "text": [
      "|         2 | 17:14:13.8 |                          0.025 | 1555207921769.845 |            5.209 |\n"
     ]
    },
    {
     "name": "stdout",
     "output_type": "stream",
     "text": [
      "|         3 | 17:14:19.2 |                          0.050 | 4662310199493.528 |            5.212 |\n"
     ]
    },
    {
     "name": "stdout",
     "output_type": "stream",
     "text": [
      "|         4 | 17:14:24.6 |                          0.075 | 6655467645389.955 |            5.215 |\n"
     ]
    },
    {
     "name": "stdout",
     "output_type": "stream",
     "text": [
      "|         5 | 17:14:30.0 |                          0.100 | 8312082100422.471 |            5.239 |\n"
     ]
    },
    {
     "name": "stdout",
     "output_type": "stream",
     "text": [
      "|         6 | 17:14:35.4 |                          0.125 | 10838241530711.086 |            5.214 |\n"
     ]
    },
    {
     "name": "stdout",
     "output_type": "stream",
     "text": [
      "|         7 | 17:14:40.9 |                          0.150 | 12368326246643.777 |            5.212 |\n"
     ]
    },
    {
     "name": "stdout",
     "output_type": "stream",
     "text": [
      "|         8 | 17:14:46.2 |                          0.175 | 17773014235199.816 |            5.202 |\n"
     ]
    },
    {
     "name": "stdout",
     "output_type": "stream",
     "text": [
      "|         9 | 17:14:51.7 |                          0.200 | 19506043410022.797 |            5.278 |\n"
     ]
    },
    {
     "name": "stdout",
     "output_type": "stream",
     "text": [
      "|        10 | 17:14:57.0 |                          0.225 | 22993350158054.234 |            5.194 |\n"
     ]
    },
    {
     "name": "stdout",
     "output_type": "stream",
     "text": [
      "|        11 | 17:15:02.4 |                          0.250 | 26660776646668.676 |            5.194 |\n",
      "+-----------+------------+--------------------------------+--------------+------------------+\n",
      "generator scan ['9f7fb3fb'] (scan num: 1)\n"
     ]
    },
    {
     "name": "stdout",
     "output_type": "stream",
     "text": [
      "\n",
      "\n",
      "\n"
     ]
    },
    {
     "data": {
      "image/png": "[encoded data removed]",
      "text/plain": [
       "<Figure size 500x1000 with 2 Axes>"
      ]
     },
     "metadata": {},
     "output_type": "display_data"
    }
   ],
   "source": [
    "%run -i ../../../examples/prepare_det_env.py\n",
    "\n",
    "import sirepo_bluesky.srw_detector as sd\n",
    "import bluesky.plans as bp\n",
    "\n",
    "srw_det = sd.SirepoSRWDetector(sim_id=\"00000000\", sim_type=\"srw\",\n",
    "                               sirepo_server=\"http://localhost:8000\",\n",
    "                               root_dir=\"/tmp/sirepo-bluesky-data\")\n",
    "\n",
    "srw_det.select_optic(\"Aperture\")\n",
    "param1 = srw_det.create_parameter(\"horizontalSize\")\n",
    "param2 = srw_det.create_parameter(\"verticalSize\")\n",
    "srw_det.configuration_attrs = [\"horizontal_extent\", \"vertical_extent\", \"shape\"]\n",
    "srw_det.duration.kind = 'hinted'\n",
    "\n",
    "uid, = RE(bp.scan([srw_det], param1, 0.0, 0.25, 11))"
   ]
  },
  {
   "cell_type": "markdown",
   "metadata": {},
   "source": [
    "We can access the data as the last item in the database (`db[-1]`) or directly via the returned `uid`, which when plotted as an image will look like:"
   ]
  },
  {
   "cell_type": "code",
   "execution_count": 4,
   "metadata": {
    "execution": {
     "iopub.execute_input": "2022-11-04T17:15:02.901763Z",
     "iopub.status.busy": "2022-11-04T17:15:02.901161Z",
     "iopub.status.idle": "2022-11-04T17:15:02.965749Z",
     "shell.execute_reply": "2022-11-04T17:15:02.965212Z"
    }
   },
   "outputs": [
    {
     "data": {
      "text/html": [
       "<div>\n",
       "<style scoped>\n",
       "    .dataframe tbody tr th:only-of-type {\n",
       "        vertical-align: middle;\n",
       "    }\n",
       "\n",
       "    .dataframe tbody tr th {\n",
       "        vertical-align: top;\n",
       "    }\n",
       "\n",
       "    .dataframe thead th {\n",
       "        text-align: right;\n",
       "    }\n",
       "</style>\n",
       "<table border=\"1\" class=\"dataframe\">\n",
       "  <thead>\n",
       "    <tr style=\"text-align: right;\">\n",
       "      <th></th>\n",
       "      <th>time</th>\n",
       "      <th>srw_det_image</th>\n",
       "      <th>srw_det_shape</th>\n",
       "      <th>srw_det_mean</th>\n",
       "      <th>srw_det_duration</th>\n",
       "      <th>srw_det_photon_energy</th>\n",
       "      <th>srw_det_horizontal_extent</th>\n",
       "      <th>srw_det_vertical_extent</th>\n",
       "      <th>srw_det_sirepo_json</th>\n",
       "      <th>Aperture_sirepo_horizontalSize</th>\n",
       "      <th>Aperture_sirepo_horizontalSize_setpoint</th>\n",
       "    </tr>\n",
       "    <tr>\n",
       "      <th>seq_num</th>\n",
       "      <th></th>\n",
       "      <th></th>\n",
       "      <th></th>\n",
       "      <th></th>\n",
       "      <th></th>\n",
       "      <th></th>\n",
       "      <th></th>\n",
       "      <th></th>\n",
       "      <th></th>\n",
       "      <th></th>\n",
       "      <th></th>\n",
       "    </tr>\n",
       "  </thead>\n",
       "  <tbody>\n",
       "    <tr>\n",
       "      <th>1</th>\n",
       "      <td>2022-11-04 17:14:08.509924650</td>\n",
       "      <td>6abb5c52-d303-4923-8eb7-07252f738bc4/0</td>\n",
       "      <td>[168, 88]</td>\n",
       "      <td>0.000000e+00</td>\n",
       "      <td>5.151567</td>\n",
       "      <td>4240.0</td>\n",
       "      <td>[-0.0004, 0.0004]</td>\n",
       "      <td>[-0.0005, 0.0005000000000000002]</td>\n",
       "      <td>{\"models\": {\"arbitraryMagField\": {\"interpolati...</td>\n",
       "      <td>0.000</td>\n",
       "      <td>0.000</td>\n",
       "    </tr>\n",
       "    <tr>\n",
       "      <th>2</th>\n",
       "      <td>2022-11-04 17:14:13.884609461</td>\n",
       "      <td>118af866-d879-4439-9555-a67e6d866439/0</td>\n",
       "      <td>[294, 120]</td>\n",
       "      <td>1.555208e+12</td>\n",
       "      <td>5.208938</td>\n",
       "      <td>4240.0</td>\n",
       "      <td>[-0.0005471264367816092, 0.0005471264367816092]</td>\n",
       "      <td>[-0.000877245508982036, 0.0008772455089820358]</td>\n",
       "      <td>{\"models\": {\"arbitraryMagField\": {\"interpolati...</td>\n",
       "      <td>0.025</td>\n",
       "      <td>0.025</td>\n",
       "    </tr>\n",
       "    <tr>\n",
       "      <th>3</th>\n",
       "      <td>2022-11-04 17:14:19.266482353</td>\n",
       "      <td>f7d992a2-1120-4302-ae8a-6b261176633c/0</td>\n",
       "      <td>[294, 120]</td>\n",
       "      <td>4.662310e+12</td>\n",
       "      <td>5.211733</td>\n",
       "      <td>4240.0</td>\n",
       "      <td>[-0.0005471264367816092, 0.0005471264367816092]</td>\n",
       "      <td>[-0.000877245508982036, 0.0008772455089820358]</td>\n",
       "      <td>{\"models\": {\"arbitraryMagField\": {\"interpolati...</td>\n",
       "      <td>0.050</td>\n",
       "      <td>0.050</td>\n",
       "    </tr>\n",
       "    <tr>\n",
       "      <th>4</th>\n",
       "      <td>2022-11-04 17:14:24.640834332</td>\n",
       "      <td>4c3a66cb-7979-4129-b85c-f75e962d5bee/0</td>\n",
       "      <td>[294, 112]</td>\n",
       "      <td>6.655468e+12</td>\n",
       "      <td>5.214949</td>\n",
       "      <td>4240.0</td>\n",
       "      <td>[-0.000510344827586207, 0.000510344827586207]</td>\n",
       "      <td>[-0.000877245508982036, 0.0008772455089820358]</td>\n",
       "      <td>{\"models\": {\"arbitraryMagField\": {\"interpolati...</td>\n",
       "      <td>0.075</td>\n",
       "      <td>0.075</td>\n",
       "    </tr>\n",
       "    <tr>\n",
       "      <th>5</th>\n",
       "      <td>2022-11-04 17:14:30.043943882</td>\n",
       "      <td>cfb9a7ba-7d95-47c8-89b1-69b15b267559/0</td>\n",
       "      <td>[294, 112]</td>\n",
       "      <td>8.312082e+12</td>\n",
       "      <td>5.239264</td>\n",
       "      <td>4240.0</td>\n",
       "      <td>[-0.000510344827586207, 0.000510344827586207]</td>\n",
       "      <td>[-0.000877245508982036, 0.0008772455089820358]</td>\n",
       "      <td>{\"models\": {\"arbitraryMagField\": {\"interpolati...</td>\n",
       "      <td>0.100</td>\n",
       "      <td>0.100</td>\n",
       "    </tr>\n",
       "    <tr>\n",
       "      <th>6</th>\n",
       "      <td>2022-11-04 17:14:35.416613102</td>\n",
       "      <td>a339c18a-f103-482a-97f6-3869da5c2abf/0</td>\n",
       "      <td>[294, 120]</td>\n",
       "      <td>1.083824e+13</td>\n",
       "      <td>5.214206</td>\n",
       "      <td>4240.0</td>\n",
       "      <td>[-0.0005471264367816092, 0.0005471264367816092]</td>\n",
       "      <td>[-0.000877245508982036, 0.0008772455089820358]</td>\n",
       "      <td>{\"models\": {\"arbitraryMagField\": {\"interpolati...</td>\n",
       "      <td>0.125</td>\n",
       "      <td>0.125</td>\n",
       "    </tr>\n",
       "    <tr>\n",
       "      <th>7</th>\n",
       "      <td>2022-11-04 17:14:40.932348728</td>\n",
       "      <td>b64bb1a4-b9d0-4ce7-97e8-2bc81ef172e0/0</td>\n",
       "      <td>[294, 120]</td>\n",
       "      <td>1.236833e+13</td>\n",
       "      <td>5.211956</td>\n",
       "      <td>4240.0</td>\n",
       "      <td>[-0.0005471264367816092, 0.0005471264367816092]</td>\n",
       "      <td>[-0.000877245508982036, 0.0008772455089820358]</td>\n",
       "      <td>{\"models\": {\"arbitraryMagField\": {\"interpolati...</td>\n",
       "      <td>0.150</td>\n",
       "      <td>0.150</td>\n",
       "    </tr>\n",
       "    <tr>\n",
       "      <th>8</th>\n",
       "      <td>2022-11-04 17:14:46.289696932</td>\n",
       "      <td>94487b0b-40a8-453d-9b0c-68510a1cb33d/0</td>\n",
       "      <td>[294, 104]</td>\n",
       "      <td>1.777301e+13</td>\n",
       "      <td>5.202197</td>\n",
       "      <td>4240.0</td>\n",
       "      <td>[-0.0004735632183908046, 0.0004735632183908046]</td>\n",
       "      <td>[-0.000877245508982036, 0.0008772455089820358]</td>\n",
       "      <td>{\"models\": {\"arbitraryMagField\": {\"interpolati...</td>\n",
       "      <td>0.175</td>\n",
       "      <td>0.175</td>\n",
       "    </tr>\n",
       "    <tr>\n",
       "      <th>9</th>\n",
       "      <td>2022-11-04 17:14:51.727913380</td>\n",
       "      <td>442640d8-8a74-4a30-b1cb-8ad3ede5b589/0</td>\n",
       "      <td>[294, 104]</td>\n",
       "      <td>1.950604e+13</td>\n",
       "      <td>5.278310</td>\n",
       "      <td>4240.0</td>\n",
       "      <td>[-0.0004735632183908046, 0.0004735632183908046]</td>\n",
       "      <td>[-0.000877245508982036, 0.0008772455089820358]</td>\n",
       "      <td>{\"models\": {\"arbitraryMagField\": {\"interpolati...</td>\n",
       "      <td>0.200</td>\n",
       "      <td>0.200</td>\n",
       "    </tr>\n",
       "    <tr>\n",
       "      <th>10</th>\n",
       "      <td>2022-11-04 17:14:57.077017784</td>\n",
       "      <td>2e313950-dbfd-4d46-a835-a54248e909e3/0</td>\n",
       "      <td>[294, 96]</td>\n",
       "      <td>2.299335e+13</td>\n",
       "      <td>5.194460</td>\n",
       "      <td>4240.0</td>\n",
       "      <td>[-0.0004367816091954023, 0.0004367816091954023]</td>\n",
       "      <td>[-0.000877245508982036, 0.0008772455089820358]</td>\n",
       "      <td>{\"models\": {\"arbitraryMagField\": {\"interpolati...</td>\n",
       "      <td>0.225</td>\n",
       "      <td>0.225</td>\n",
       "    </tr>\n",
       "    <tr>\n",
       "      <th>11</th>\n",
       "      <td>2022-11-04 17:15:02.423328876</td>\n",
       "      <td>d7906ae1-4ef7-46f7-bbd7-1c0f8ed3986f/0</td>\n",
       "      <td>[294, 96]</td>\n",
       "      <td>2.666078e+13</td>\n",
       "      <td>5.194257</td>\n",
       "      <td>4240.0</td>\n",
       "      <td>[-0.0004367816091954023, 0.0004367816091954023]</td>\n",
       "      <td>[-0.000877245508982036, 0.0008772455089820358]</td>\n",
       "      <td>{\"models\": {\"arbitraryMagField\": {\"interpolati...</td>\n",
       "      <td>0.250</td>\n",
       "      <td>0.250</td>\n",
       "    </tr>\n",
       "  </tbody>\n",
       "</table>\n",
       "</div>"
      ],
      "text/plain": [
       "                                 time                           srw_det_image  \\\n",
       "seq_num                                                                         \n",
       "1       2022-11-04 17:14:08.509924650  6abb5c52-d303-4923-8eb7-07252f738bc4/0   \n",
       "2       2022-11-04 17:14:13.884609461  118af866-d879-4439-9555-a67e6d866439/0   \n",
       "3       2022-11-04 17:14:19.266482353  f7d992a2-1120-4302-ae8a-6b261176633c/0   \n",
       "4       2022-11-04 17:14:24.640834332  4c3a66cb-7979-4129-b85c-f75e962d5bee/0   \n",
       "5       2022-11-04 17:14:30.043943882  cfb9a7ba-7d95-47c8-89b1-69b15b267559/0   \n",
       "6       2022-11-04 17:14:35.416613102  a339c18a-f103-482a-97f6-3869da5c2abf/0   \n",
       "7       2022-11-04 17:14:40.932348728  b64bb1a4-b9d0-4ce7-97e8-2bc81ef172e0/0   \n",
       "8       2022-11-04 17:14:46.289696932  94487b0b-40a8-453d-9b0c-68510a1cb33d/0   \n",
       "9       2022-11-04 17:14:51.727913380  442640d8-8a74-4a30-b1cb-8ad3ede5b589/0   \n",
       "10      2022-11-04 17:14:57.077017784  2e313950-dbfd-4d46-a835-a54248e909e3/0   \n",
       "11      2022-11-04 17:15:02.423328876  d7906ae1-4ef7-46f7-bbd7-1c0f8ed3986f/0   \n",
       "\n",
       "        srw_det_shape  srw_det_mean  srw_det_duration  srw_det_photon_energy  \\\n",
       "seq_num                                                                        \n",
       "1           [168, 88]  0.000000e+00          5.151567                 4240.0   \n",
       "2          [294, 120]  1.555208e+12          5.208938                 4240.0   \n",
       "3          [294, 120]  4.662310e+12          5.211733                 4240.0   \n",
       "4          [294, 112]  6.655468e+12          5.214949                 4240.0   \n",
       "5          [294, 112]  8.312082e+12          5.239264                 4240.0   \n",
       "6          [294, 120]  1.083824e+13          5.214206                 4240.0   \n",
       "7          [294, 120]  1.236833e+13          5.211956                 4240.0   \n",
       "8          [294, 104]  1.777301e+13          5.202197                 4240.0   \n",
       "9          [294, 104]  1.950604e+13          5.278310                 4240.0   \n",
       "10          [294, 96]  2.299335e+13          5.194460                 4240.0   \n",
       "11          [294, 96]  2.666078e+13          5.194257                 4240.0   \n",
       "\n",
       "                               srw_det_horizontal_extent  \\\n",
       "seq_num                                                    \n",
       "1                                      [-0.0004, 0.0004]   \n",
       "2        [-0.0005471264367816092, 0.0005471264367816092]   \n",
       "3        [-0.0005471264367816092, 0.0005471264367816092]   \n",
       "4          [-0.000510344827586207, 0.000510344827586207]   \n",
       "5          [-0.000510344827586207, 0.000510344827586207]   \n",
       "6        [-0.0005471264367816092, 0.0005471264367816092]   \n",
       "7        [-0.0005471264367816092, 0.0005471264367816092]   \n",
       "8        [-0.0004735632183908046, 0.0004735632183908046]   \n",
       "9        [-0.0004735632183908046, 0.0004735632183908046]   \n",
       "10       [-0.0004367816091954023, 0.0004367816091954023]   \n",
       "11       [-0.0004367816091954023, 0.0004367816091954023]   \n",
       "\n",
       "                                srw_det_vertical_extent  \\\n",
       "seq_num                                                   \n",
       "1                      [-0.0005, 0.0005000000000000002]   \n",
       "2        [-0.000877245508982036, 0.0008772455089820358]   \n",
       "3        [-0.000877245508982036, 0.0008772455089820358]   \n",
       "4        [-0.000877245508982036, 0.0008772455089820358]   \n",
       "5        [-0.000877245508982036, 0.0008772455089820358]   \n",
       "6        [-0.000877245508982036, 0.0008772455089820358]   \n",
       "7        [-0.000877245508982036, 0.0008772455089820358]   \n",
       "8        [-0.000877245508982036, 0.0008772455089820358]   \n",
       "9        [-0.000877245508982036, 0.0008772455089820358]   \n",
       "10       [-0.000877245508982036, 0.0008772455089820358]   \n",
       "11       [-0.000877245508982036, 0.0008772455089820358]   \n",
       "\n",
       "                                       srw_det_sirepo_json  \\\n",
       "seq_num                                                      \n",
       "1        {\"models\": {\"arbitraryMagField\": {\"interpolati...   \n",
       "2        {\"models\": {\"arbitraryMagField\": {\"interpolati...   \n",
       "3        {\"models\": {\"arbitraryMagField\": {\"interpolati...   \n",
       "4        {\"models\": {\"arbitraryMagField\": {\"interpolati...   \n",
       "5        {\"models\": {\"arbitraryMagField\": {\"interpolati...   \n",
       "6        {\"models\": {\"arbitraryMagField\": {\"interpolati...   \n",
       "7        {\"models\": {\"arbitraryMagField\": {\"interpolati...   \n",
       "8        {\"models\": {\"arbitraryMagField\": {\"interpolati...   \n",
       "9        {\"models\": {\"arbitraryMagField\": {\"interpolati...   \n",
       "10       {\"models\": {\"arbitraryMagField\": {\"interpolati...   \n",
       "11       {\"models\": {\"arbitraryMagField\": {\"interpolati...   \n",
       "\n",
       "         Aperture_sirepo_horizontalSize  \\\n",
       "seq_num                                   \n",
       "1                                 0.000   \n",
       "2                                 0.025   \n",
       "3                                 0.050   \n",
       "4                                 0.075   \n",
       "5                                 0.100   \n",
       "6                                 0.125   \n",
       "7                                 0.150   \n",
       "8                                 0.175   \n",
       "9                                 0.200   \n",
       "10                                0.225   \n",
       "11                                0.250   \n",
       "\n",
       "         Aperture_sirepo_horizontalSize_setpoint  \n",
       "seq_num                                           \n",
       "1                                          0.000  \n",
       "2                                          0.025  \n",
       "3                                          0.050  \n",
       "4                                          0.075  \n",
       "5                                          0.100  \n",
       "6                                          0.125  \n",
       "7                                          0.150  \n",
       "8                                          0.175  \n",
       "9                                          0.200  \n",
       "10                                         0.225  \n",
       "11                                         0.250  "
      ]
     },
     "execution_count": 4,
     "metadata": {},
     "output_type": "execute_result"
    }
   ],
   "source": [
    "hdr = db[uid]\n",
    "hdr.table()"
   ]
  },
  {
   "cell_type": "code",
   "execution_count": 5,
   "metadata": {
    "execution": {
     "iopub.execute_input": "2022-11-04T17:15:02.970274Z",
     "iopub.status.busy": "2022-11-04T17:15:02.969200Z",
     "iopub.status.idle": "2022-11-04T17:15:03.399519Z",
     "shell.execute_reply": "2022-11-04T17:15:03.398848Z"
    }
   },
   "outputs": [
    {
     "data": {
      "text/plain": [
       "<matplotlib.image.AxesImage at 0x7fd285a190a0>"
      ]
     },
     "execution_count": 5,
     "metadata": {},
     "output_type": "execute_result"
    },
    {
     "data": {
      "image/png": "[encoded data removed]",
      "text/plain": [
       "<Figure size 640x480 with 1 Axes>"
      ]
     },
     "metadata": {},
     "output_type": "display_data"
    }
   ],
   "source": [
    "imgs = list(hdr.data(f\"{srw_det.name}_image\"))\n",
    "cfg = hdr.config_data(srw_det.name)[\"primary\"][0]\n",
    "hor_ext = cfg[f\"{srw_det.name}_horizontal_extent\"]\n",
    "vert_ext = cfg[f\"{srw_det.name}_vertical_extent\"]\n",
    "plt.imshow(imgs[-2], aspect=\"equal\", extent=(*hor_ext, *vert_ext))"
   ]
  },
  {
   "cell_type": "markdown",
   "metadata": {},
   "source": [
    "## Run \"Beamline\" SRW simulations in parallel\n",
    "\n",
    "In this example, we are using [Bluesky's fly scans](https://blueskyproject.io/bluesky/async.html#flying)."
   ]
  },
  {
   "cell_type": "code",
   "execution_count": 6,
   "metadata": {
    "execution": {
     "iopub.execute_input": "2022-11-04T17:15:03.402732Z",
     "iopub.status.busy": "2022-11-04T17:15:03.402480Z",
     "iopub.status.idle": "2022-11-04T17:15:03.423101Z",
     "shell.execute_reply": "2022-11-04T17:15:03.422391Z"
    }
   },
   "outputs": [],
   "source": [
    "%run -i ../../../examples/prepare_flyer_env.py\n",
    "\n",
    "import bluesky.plans as bp\n",
    "import sirepo_bluesky.sirepo_flyer as sf"
   ]
  },
  {
   "cell_type": "markdown",
   "metadata": {},
   "source": [
    "We can create 3 different simulations that change 4 parameters at a time:"
   ]
  },
  {
   "cell_type": "code",
   "execution_count": 7,
   "metadata": {
    "execution": {
     "iopub.execute_input": "2022-11-04T17:15:03.426215Z",
     "iopub.status.busy": "2022-11-04T17:15:03.425995Z",
     "iopub.status.idle": "2022-11-04T17:15:03.431288Z",
     "shell.execute_reply": "2022-11-04T17:15:03.430748Z"
    }
   },
   "outputs": [],
   "source": [
    "params_to_change = []\n",
    "key1 = \"Aperture\"\n",
    "key2 = \"Lens\"\n",
    "key3 = \"Obstacle\"\n",
    "for i in range(1, 3 + 1):\n",
    "    parameters_update1 = {\"horizontalSize\": i * 0.1, \"verticalSize\": (16 - i) * 0.1}\n",
    "    parameters_update2 = {\"horizontalFocalLength\": i + 7}\n",
    "    parameters_update3 = {\"horizontalSize\": 6 - i}\n",
    "    params_to_change.append({key1: parameters_update1,\n",
    "                             key2: parameters_update2,\n",
    "                             key3: parameters_update3})"
   ]
  },
  {
   "cell_type": "markdown",
   "metadata": {},
   "source": [
    "To create the flyer and run a fly scan, where ``sim_id`` is the UID of this simulation, we run:"
   ]
  },
  {
   "cell_type": "code",
   "execution_count": 8,
   "metadata": {
    "execution": {
     "iopub.execute_input": "2022-11-04T17:15:03.434132Z",
     "iopub.status.busy": "2022-11-04T17:15:03.433923Z",
     "iopub.status.idle": "2022-11-04T17:15:22.305063Z",
     "shell.execute_reply": "2022-11-04T17:15:22.304116Z"
    }
   },
   "outputs": [
    {
     "name": "stdout",
     "output_type": "stream",
     "text": [
      "\n",
      "\n",
      "Transient Scan ID: 1     Time: 2022-11-04 17:15:03\n",
      "Persistent Unique Scan ID: '6f71c06a-7ebd-483c-b648-4a7c89911c97'\n"
     ]
    },
    {
     "name": "stdout",
     "output_type": "stream",
     "text": [
      "copy 00000000 -> dD5RJGyK, Youngs Double Slit Experiment Bluesky\n",
      "copy 00000000 -> cajmPQbx, Youngs Double Slit Experiment Bluesky 2\n",
      "copy 00000000 -> WMyZ4wr2, Youngs Double Slit Experiment Bluesky 3\n"
     ]
    },
    {
     "name": "stdout",
     "output_type": "stream",
     "text": [
      "running sim dD5RJGyK"
     ]
    },
    {
     "name": "stdout",
     "output_type": "stream",
     "text": [
      "running sim cajmPQbx"
     ]
    },
    {
     "name": "stdout",
     "output_type": "stream",
     "text": [
      "\n"
     ]
    },
    {
     "name": "stdout",
     "output_type": "stream",
     "text": [
      "\n"
     ]
    },
    {
     "name": "stdout",
     "output_type": "stream",
     "text": [
      "running sim WMyZ4wr2"
     ]
    },
    {
     "name": "stdout",
     "output_type": "stream",
     "text": [
      "\n"
     ]
    },
    {
     "name": "stdout",
     "output_type": "stream",
     "text": [
      "Status of sim dD5RJGyK: completed in 11.7 seconds"
     ]
    },
    {
     "name": "stdout",
     "output_type": "stream",
     "text": [
      "\n"
     ]
    },
    {
     "name": "stdout",
     "output_type": "stream",
     "text": [
      "Status of sim WMyZ4wr2: completed in 17.1 seconds"
     ]
    },
    {
     "name": "stdout",
     "output_type": "stream",
     "text": [
      "\n"
     ]
    },
    {
     "name": "stdout",
     "output_type": "stream",
     "text": [
      "Status of sim cajmPQbx: completed in 17.8 seconds"
     ]
    },
    {
     "name": "stdout",
     "output_type": "stream",
     "text": [
      "\n"
     ]
    },
    {
     "name": "stdout",
     "output_type": "stream",
     "text": [
      "New stream: 'sirepo_flyer'\n"
     ]
    },
    {
     "name": "stdout",
     "output_type": "stream",
     "text": [
      "copy dD5RJGyK data hash: d5d6628d50bd65a329717e8ffb942224\n",
      "copy cajmPQbx data hash: d6f8b77048fe6ad48e007cfb776528ad\n"
     ]
    },
    {
     "name": "stdout",
     "output_type": "stream",
     "text": [
      "copy WMyZ4wr2 data hash: e5f914471d873f156c31815ab705575f\n",
      "\n",
      "\n",
      "\n"
     ]
    },
    {
     "name": "stderr",
     "output_type": "stream",
     "text": [
      "/usr/share/miniconda3/envs/sirepo-bluesky-py3.9/lib/python3.9/site-packages/event_model/__init__.py:219: UserWarning: The document type 'bulk_events' has been deprecated in favor of 'event_page', whose structure is a transpose of 'bulk_events'.\n",
      "  warnings.warn(\n"
     ]
    }
   ],
   "source": [
    "sirepo_flyer = sf.SirepoFlyer(sim_id=\"00000000\",\n",
    "                              server_name=\"http://localhost:8000\",\n",
    "                              root_dir=\"/tmp/sirepo-bluesky-data\",\n",
    "                              params_to_change=params_to_change,\n",
    "                              watch_name=\"W60\")\n",
    "\n",
    "uid, = RE(bp.fly([sirepo_flyer]))"
   ]
  },
  {
   "cell_type": "markdown",
   "metadata": {},
   "source": [
    "We access the data in the same manner as before:"
   ]
  },
  {
   "cell_type": "code",
   "execution_count": 9,
   "metadata": {
    "execution": {
     "iopub.execute_input": "2022-11-04T17:15:22.310116Z",
     "iopub.status.busy": "2022-11-04T17:15:22.309271Z",
     "iopub.status.idle": "2022-11-04T17:15:22.364858Z",
     "shell.execute_reply": "2022-11-04T17:15:22.363827Z"
    }
   },
   "outputs": [
    {
     "data": {
      "text/html": [
       "<div>\n",
       "<style scoped>\n",
       "    .dataframe tbody tr th:only-of-type {\n",
       "        vertical-align: middle;\n",
       "    }\n",
       "\n",
       "    .dataframe tbody tr th {\n",
       "        vertical-align: top;\n",
       "    }\n",
       "\n",
       "    .dataframe thead th {\n",
       "        text-align: right;\n",
       "    }\n",
       "</style>\n",
       "<table border=\"1\" class=\"dataframe\">\n",
       "  <thead>\n",
       "    <tr style=\"text-align: right;\">\n",
       "      <th></th>\n",
       "      <th>time</th>\n",
       "      <th>sirepo_flyer_image</th>\n",
       "      <th>sirepo_flyer_shape</th>\n",
       "      <th>sirepo_flyer_mean</th>\n",
       "      <th>sirepo_flyer_photon_energy</th>\n",
       "      <th>sirepo_flyer_horizontal_extent</th>\n",
       "      <th>sirepo_flyer_vertical_extent</th>\n",
       "      <th>sirepo_flyer_hash_value</th>\n",
       "      <th>sirepo_flyer_status</th>\n",
       "      <th>sirepo_flyer_duration</th>\n",
       "      <th>sirepo_flyer_Aperture_horizontalSize</th>\n",
       "      <th>sirepo_flyer_Aperture_verticalSize</th>\n",
       "      <th>sirepo_flyer_Lens_horizontalFocalLength</th>\n",
       "      <th>sirepo_flyer_Obstacle_horizontalSize</th>\n",
       "    </tr>\n",
       "    <tr>\n",
       "      <th>seq_num</th>\n",
       "      <th></th>\n",
       "      <th></th>\n",
       "      <th></th>\n",
       "      <th></th>\n",
       "      <th></th>\n",
       "      <th></th>\n",
       "      <th></th>\n",
       "      <th></th>\n",
       "      <th></th>\n",
       "      <th></th>\n",
       "      <th></th>\n",
       "      <th></th>\n",
       "      <th></th>\n",
       "      <th></th>\n",
       "    </tr>\n",
       "  </thead>\n",
       "  <tbody>\n",
       "    <tr>\n",
       "      <th>2</th>\n",
       "      <td>2022-11-04 17:15:22.292910576</td>\n",
       "      <td>b2fe67aa-064a-470a-8d67-b8eca69190ee</td>\n",
       "      <td>[250, 546]</td>\n",
       "      <td>9.944933e+13</td>\n",
       "      <td>4240.0</td>\n",
       "      <td>[-0.001015813953488372, 0.0010120930232558139]</td>\n",
       "      <td>[-0.000249500998003992, 0.00024750499001996017]</td>\n",
       "      <td>d6f8b77048fe6ad48e007cfb776528ad</td>\n",
       "      <td>completed</td>\n",
       "      <td>17.077125</td>\n",
       "      <td>0.2</td>\n",
       "      <td>1.4</td>\n",
       "      <td>9</td>\n",
       "      <td>4</td>\n",
       "    </tr>\n",
       "    <tr>\n",
       "      <th>1</th>\n",
       "      <td>2022-11-04 17:15:22.292910576</td>\n",
       "      <td>ada81a8e-054e-404c-96bf-126e86e762f2</td>\n",
       "      <td>[250, 896]</td>\n",
       "      <td>3.677965e+13</td>\n",
       "      <td>4240.0</td>\n",
       "      <td>[-0.0013627376425855513, 0.0013596958174904943]</td>\n",
       "      <td>[-0.000249500998003992, 0.00024750499001996017]</td>\n",
       "      <td>d5d6628d50bd65a329717e8ffb942224</td>\n",
       "      <td>completed</td>\n",
       "      <td>11.656555</td>\n",
       "      <td>0.1</td>\n",
       "      <td>1.5</td>\n",
       "      <td>8</td>\n",
       "      <td>5</td>\n",
       "    </tr>\n",
       "    <tr>\n",
       "      <th>3</th>\n",
       "      <td>2022-11-04 17:15:22.292910576</td>\n",
       "      <td>a4a26b0b-6cba-4a4e-b635-c46db084cc54</td>\n",
       "      <td>[250, 440]</td>\n",
       "      <td>1.492891e+14</td>\n",
       "      <td>4240.0</td>\n",
       "      <td>[-0.0009701657458563539, 0.0009701657458563542]</td>\n",
       "      <td>[-0.00024650698602794426, 0.0002504990019960079]</td>\n",
       "      <td>e5f914471d873f156c31815ab705575f</td>\n",
       "      <td>completed</td>\n",
       "      <td>17.785335</td>\n",
       "      <td>0.3</td>\n",
       "      <td>1.3</td>\n",
       "      <td>10</td>\n",
       "      <td>3</td>\n",
       "    </tr>\n",
       "  </tbody>\n",
       "</table>\n",
       "</div>"
      ],
      "text/plain": [
       "                                 time                    sirepo_flyer_image  \\\n",
       "seq_num                                                                       \n",
       "2       2022-11-04 17:15:22.292910576  b2fe67aa-064a-470a-8d67-b8eca69190ee   \n",
       "1       2022-11-04 17:15:22.292910576  ada81a8e-054e-404c-96bf-126e86e762f2   \n",
       "3       2022-11-04 17:15:22.292910576  a4a26b0b-6cba-4a4e-b635-c46db084cc54   \n",
       "\n",
       "        sirepo_flyer_shape  sirepo_flyer_mean  sirepo_flyer_photon_energy  \\\n",
       "seq_num                                                                     \n",
       "2               [250, 546]       9.944933e+13                      4240.0   \n",
       "1               [250, 896]       3.677965e+13                      4240.0   \n",
       "3               [250, 440]       1.492891e+14                      4240.0   \n",
       "\n",
       "                          sirepo_flyer_horizontal_extent  \\\n",
       "seq_num                                                    \n",
       "2         [-0.001015813953488372, 0.0010120930232558139]   \n",
       "1        [-0.0013627376425855513, 0.0013596958174904943]   \n",
       "3        [-0.0009701657458563539, 0.0009701657458563542]   \n",
       "\n",
       "                             sirepo_flyer_vertical_extent  \\\n",
       "seq_num                                                     \n",
       "2         [-0.000249500998003992, 0.00024750499001996017]   \n",
       "1         [-0.000249500998003992, 0.00024750499001996017]   \n",
       "3        [-0.00024650698602794426, 0.0002504990019960079]   \n",
       "\n",
       "                  sirepo_flyer_hash_value sirepo_flyer_status  \\\n",
       "seq_num                                                         \n",
       "2        d6f8b77048fe6ad48e007cfb776528ad           completed   \n",
       "1        d5d6628d50bd65a329717e8ffb942224           completed   \n",
       "3        e5f914471d873f156c31815ab705575f           completed   \n",
       "\n",
       "         sirepo_flyer_duration  sirepo_flyer_Aperture_horizontalSize  \\\n",
       "seq_num                                                                \n",
       "2                    17.077125                                   0.2   \n",
       "1                    11.656555                                   0.1   \n",
       "3                    17.785335                                   0.3   \n",
       "\n",
       "         sirepo_flyer_Aperture_verticalSize  \\\n",
       "seq_num                                       \n",
       "2                                       1.4   \n",
       "1                                       1.5   \n",
       "3                                       1.3   \n",
       "\n",
       "         sirepo_flyer_Lens_horizontalFocalLength  \\\n",
       "seq_num                                            \n",
       "2                                              9   \n",
       "1                                              8   \n",
       "3                                             10   \n",
       "\n",
       "         sirepo_flyer_Obstacle_horizontalSize  \n",
       "seq_num                                        \n",
       "2                                           4  \n",
       "1                                           5  \n",
       "3                                           3  "
      ]
     },
     "execution_count": 9,
     "metadata": {},
     "output_type": "execute_result"
    }
   ],
   "source": [
    "hdr = db[uid]\n",
    "hdr.table(stream_name=\"sirepo_flyer\")"
   ]
  }
 ],
 "metadata": {
  "kernelspec": {
   "display_name": "Python 3",
   "language": "python",
   "name": "python3"
  },
  "language_info": {
   "codemirror_mode": {
    "name": "ipython",
    "version": 3
   },
   "file_extension": ".py",
   "mimetype": "text/x-python",
   "name": "python",
   "nbconvert_exporter": "python",
   "pygments_lexer": "ipython3",
   "version": "3.9.13"
  }
 },
 "nbformat": 4,
 "nbformat_minor": 4
}
