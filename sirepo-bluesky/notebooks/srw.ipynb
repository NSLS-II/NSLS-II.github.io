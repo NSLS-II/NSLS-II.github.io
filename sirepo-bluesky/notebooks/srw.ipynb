{
 "cells": [
  {
   "cell_type": "markdown",
   "metadata": {},
   "source": [
    "# Run Sirepo/SRW simulations with Bluesky\n",
    "\n",
    "This section is based on the **Young's Double Slit Experiment** Sirepo example\n",
    "that can be found in the wavefront propagation folder on the SRW simulations\n",
    "section.\n",
    "\n",
    "**Hint**: See the [List of predefined simulations in Sirepo](../simulations.rst) for examples of identifiers for different beamlines."
   ]
  },
  {
   "cell_type": "markdown",
   "metadata": {},
   "source": [
    "## Run \"Source\" SRW simulations\n",
    "\n",
    "In this example, we run a simulation using the \"Single-Electron Spectrum\" report on the \"Source\" page of Sirepo/SRW app."
   ]
  },
  {
   "cell_type": "code",
   "execution_count": 1,
   "metadata": {
    "execution": {
     "iopub.execute_input": "2023-06-07T19:47:09.418818Z",
     "iopub.status.busy": "2023-06-07T19:47:09.418356Z",
     "iopub.status.idle": "2023-06-07T19:47:18.513583Z",
     "shell.execute_reply": "2023-06-07T19:47:18.512652Z"
    }
   },
   "outputs": [
    {
     "name": "stdout",
     "output_type": "stream",
     "text": [
      "\n",
      "\n",
      "Transient Scan ID: 1     Time: 2023-06-07 19:47:12\n",
      "Persistent Unique Scan ID: 'ca266896-7a69-4a91-ae68-02d3914a3a92'\n"
     ]
    },
    {
     "name": "stdout",
     "output_type": "stream",
     "text": [
      "New stream: 'primary'\n",
      "+-----------+------------+--------------+------------------+\n",
      "|   seq_num |       time | srw_det_mean | srw_det_duration |\n",
      "+-----------+------------+--------------+------------------+\n",
      "|         1 | 19:47:18.3 | 9721365919945.510 |            6.143 |\n",
      "+-----------+------------+--------------+------------------+\n",
      "generator count ['ca266896'] (scan num: 1)\n",
      "\n",
      "\n",
      "\n"
     ]
    }
   ],
   "source": [
    "%run -i ../../../examples/prepare_det_env.py\n",
    "\n",
    "import sirepo_bluesky.srw_detector as sd\n",
    "import bluesky.plans as bp\n",
    "\n",
    "srw_det = sd.SirepoSRWDetector(sim_id=\"00000000\", sim_type=\"srw\",\n",
    "                               source_simulation=True,\n",
    "                               sirepo_server=\"http://localhost:8000\",\n",
    "                               root_dir=\"/tmp/sirepo-bluesky-data\")\n",
    "\n",
    "srw_det.configuration_attrs = [\"photon_energy\", \"shape\"]\n",
    "srw_det.duration.kind = 'hinted'\n",
    "\n",
    "uid, = RE(bp.count([srw_det]))"
   ]
  },
  {
   "cell_type": "markdown",
   "metadata": {},
   "source": [
    "We can observe the produced spectrum as:"
   ]
  },
  {
   "cell_type": "code",
   "execution_count": 2,
   "metadata": {
    "execution": {
     "iopub.execute_input": "2023-06-07T19:47:18.518154Z",
     "iopub.status.busy": "2023-06-07T19:47:18.517122Z",
     "iopub.status.idle": "2023-06-07T19:47:18.793399Z",
     "shell.execute_reply": "2023-06-07T19:47:18.792604Z"
    }
   },
   "outputs": [
    {
     "data": {
      "text/plain": [
       "[<matplotlib.lines.Line2D at 0x7f7c1bde0550>]"
      ]
     },
     "execution_count": 2,
     "metadata": {},
     "output_type": "execute_result"
    },
    {
     "data": {
      "image/png": "[encoded data removed]",
      "text/plain": [
       "<Figure size 640x480 with 1 Axes>"
      ]
     },
     "metadata": {},
     "output_type": "display_data"
    }
   ],
   "source": [
    "hdr = db[uid]\n",
    "cfg = hdr.config_data(srw_det.name)[\"primary\"][0]\n",
    "energies = cfg[f\"{srw_det.name}_photon_energy\"]\n",
    "spectrum, = hdr.data(f\"{srw_det.name}_image\")\n",
    "plt.plot(energies, spectrum)"
   ]
  },
  {
   "cell_type": "markdown",
   "metadata": {},
   "source": [
    "## Run \"Beamline\" SRW simulations sequentially\n",
    "\n",
    "In this example, we scan the horizontal size of the aperture and collect the resulting averaged intensities and corresponding 2D intensity distributions from the \"Watchpoint\" report on the \"Beamline\" page of Sirepo/SRW app."
   ]
  },
  {
   "cell_type": "markdown",
   "metadata": {},
   "source": [
    "Start ``ipython`` and run the code in the following cell. Note that ``sim_id`` may be replaced by the identifier for any supported Sirepo simulation."
   ]
  },
  {
   "cell_type": "code",
   "execution_count": 3,
   "metadata": {
    "execution": {
     "iopub.execute_input": "2023-06-07T19:47:18.797593Z",
     "iopub.status.busy": "2023-06-07T19:47:18.797022Z",
     "iopub.status.idle": "2023-06-07T19:48:29.917787Z",
     "shell.execute_reply": "2023-06-07T19:48:29.916987Z"
    }
   },
   "outputs": [
    {
     "name": "stdout",
     "output_type": "stream",
     "text": [
      "\n",
      "\n",
      "Transient Scan ID: 1     Time: 2023-06-07 19:47:18\n",
      "Persistent Unique Scan ID: 'fe8a3b74-bc32-4e62-853c-05e37bf4ad83'\n"
     ]
    },
    {
     "name": "stdout",
     "output_type": "stream",
     "text": [
      "New stream: 'primary'\n",
      "+-----------+------------+--------------------------------+--------------+------------------+\n",
      "|   seq_num |       time | Aperture_sirepo_horizontalSize | srw_det_mean | srw_det_duration |\n",
      "+-----------+------------+--------------------------------+--------------+------------------+\n",
      "|         1 | 19:47:25.1 |                          0.000 |        0.000 |            6.131 |\n"
     ]
    },
    {
     "name": "stdout",
     "output_type": "stream",
     "text": [
      "|         2 | 19:47:31.6 |                          0.025 | 1555207921769.845 |            6.211 |\n"
     ]
    },
    {
     "name": "stdout",
     "output_type": "stream",
     "text": [
      "|         3 | 19:47:38.0 |                          0.050 | 4662310199493.528 |            6.211 |\n"
     ]
    },
    {
     "name": "stdout",
     "output_type": "stream",
     "text": [
      "|         4 | 19:47:44.4 |                          0.075 | 6655467645389.955 |            6.227 |\n"
     ]
    },
    {
     "name": "stdout",
     "output_type": "stream",
     "text": [
      "|         5 | 19:47:50.8 |                          0.100 | 8312082100422.471 |            6.210 |\n"
     ]
    },
    {
     "name": "stdout",
     "output_type": "stream",
     "text": [
      "|         6 | 19:47:57.3 |                          0.125 | 10838241530711.086 |            6.214 |\n"
     ]
    },
    {
     "name": "stdout",
     "output_type": "stream",
     "text": [
      "|         7 | 19:48:03.7 |                          0.150 | 12368326246643.777 |            6.213 |\n"
     ]
    },
    {
     "name": "stdout",
     "output_type": "stream",
     "text": [
      "|         8 | 19:48:10.1 |                          0.175 | 17773014235199.816 |            6.194 |\n"
     ]
    },
    {
     "name": "stdout",
     "output_type": "stream",
     "text": [
      "|         9 | 19:48:16.5 |                          0.200 | 19506043410022.797 |            6.196 |\n"
     ]
    },
    {
     "name": "stdout",
     "output_type": "stream",
     "text": [
      "|        10 | 19:48:22.9 |                          0.225 | 22993350158054.234 |            6.186 |\n"
     ]
    },
    {
     "name": "stdout",
     "output_type": "stream",
     "text": [
      "|        11 | 19:48:29.2 |                          0.250 | 26660776646668.676 |            6.187 |\n"
     ]
    },
    {
     "name": "stdout",
     "output_type": "stream",
     "text": [
      "+-----------+------------+--------------------------------+--------------+------------------+\n",
      "generator scan ['fe8a3b74'] (scan num: 1)\n",
      "\n",
      "\n",
      "\n"
     ]
    },
    {
     "data": {
      "image/png": "[encoded data removed]",
      "text/plain": [
       "<Figure size 500x1000 with 2 Axes>"
      ]
     },
     "metadata": {},
     "output_type": "display_data"
    }
   ],
   "source": [
    "%run -i ../../../examples/prepare_det_env.py\n",
    "\n",
    "import sirepo_bluesky.srw_detector as sd\n",
    "import bluesky.plans as bp\n",
    "\n",
    "srw_det = sd.SirepoSRWDetector(sim_id=\"00000000\", sim_type=\"srw\",\n",
    "                               sirepo_server=\"http://localhost:8000\",\n",
    "                               root_dir=\"/tmp/sirepo-bluesky-data\")\n",
    "\n",
    "srw_det.select_optic(\"Aperture\")\n",
    "param1 = srw_det.create_parameter(\"horizontalSize\")\n",
    "param2 = srw_det.create_parameter(\"verticalSize\")\n",
    "srw_det.configuration_attrs = [\"horizontal_extent\", \"vertical_extent\", \"shape\"]\n",
    "srw_det.duration.kind = 'hinted'\n",
    "\n",
    "uid, = RE(bp.scan([srw_det], param1, 0.0, 0.25, 11))"
   ]
  },
  {
   "cell_type": "markdown",
   "metadata": {},
   "source": [
    "We can access the data as the last item in the database (`db[-1]`) or directly via the returned `uid`, which when plotted as an image will look like:"
   ]
  },
  {
   "cell_type": "code",
   "execution_count": 4,
   "metadata": {
    "execution": {
     "iopub.execute_input": "2023-06-07T19:48:29.921551Z",
     "iopub.status.busy": "2023-06-07T19:48:29.920875Z",
     "iopub.status.idle": "2023-06-07T19:48:29.996794Z",
     "shell.execute_reply": "2023-06-07T19:48:29.995997Z"
    }
   },
   "outputs": [
    {
     "data": {
      "text/html": [
       "<div>\n",
       "<style scoped>\n",
       "    .dataframe tbody tr th:only-of-type {\n",
       "        vertical-align: middle;\n",
       "    }\n",
       "\n",
       "    .dataframe tbody tr th {\n",
       "        vertical-align: top;\n",
       "    }\n",
       "\n",
       "    .dataframe thead th {\n",
       "        text-align: right;\n",
       "    }\n",
       "</style>\n",
       "<table border=\"1\" class=\"dataframe\">\n",
       "  <thead>\n",
       "    <tr style=\"text-align: right;\">\n",
       "      <th></th>\n",
       "      <th>time</th>\n",
       "      <th>srw_det_image</th>\n",
       "      <th>srw_det_shape</th>\n",
       "      <th>srw_det_mean</th>\n",
       "      <th>srw_det_duration</th>\n",
       "      <th>srw_det_photon_energy</th>\n",
       "      <th>srw_det_horizontal_extent</th>\n",
       "      <th>srw_det_vertical_extent</th>\n",
       "      <th>srw_det_sirepo_json</th>\n",
       "      <th>Aperture_sirepo_horizontalSize</th>\n",
       "      <th>Aperture_sirepo_horizontalSize_setpoint</th>\n",
       "    </tr>\n",
       "    <tr>\n",
       "      <th>seq_num</th>\n",
       "      <th></th>\n",
       "      <th></th>\n",
       "      <th></th>\n",
       "      <th></th>\n",
       "      <th></th>\n",
       "      <th></th>\n",
       "      <th></th>\n",
       "      <th></th>\n",
       "      <th></th>\n",
       "      <th></th>\n",
       "      <th></th>\n",
       "    </tr>\n",
       "  </thead>\n",
       "  <tbody>\n",
       "    <tr>\n",
       "      <th>1</th>\n",
       "      <td>2023-06-07 19:47:25.185513258</td>\n",
       "      <td>70da73b7-5c6f-4996-8e36-b3aa3fb973f7/0</td>\n",
       "      <td>[168, 88]</td>\n",
       "      <td>0.000000e+00</td>\n",
       "      <td>6.130847</td>\n",
       "      <td>4240.0</td>\n",
       "      <td>[-0.0004, 0.0004]</td>\n",
       "      <td>[-0.0005, 0.0005000000000000002]</td>\n",
       "      <td>{\"models\": {\"arbitraryMagField\": {\"interpolati...</td>\n",
       "      <td>0.000</td>\n",
       "      <td>0.000</td>\n",
       "    </tr>\n",
       "    <tr>\n",
       "      <th>2</th>\n",
       "      <td>2023-06-07 19:47:31.613039017</td>\n",
       "      <td>cd163d6d-b440-4e90-8cbb-da8d6c82e85f/0</td>\n",
       "      <td>[294, 120]</td>\n",
       "      <td>1.555208e+12</td>\n",
       "      <td>6.211029</td>\n",
       "      <td>4240.0</td>\n",
       "      <td>[-0.0005471264367816092, 0.0005471264367816092]</td>\n",
       "      <td>[-0.000877245508982036, 0.0008772455089820358]</td>\n",
       "      <td>{\"models\": {\"arbitraryMagField\": {\"interpolati...</td>\n",
       "      <td>0.025</td>\n",
       "      <td>0.025</td>\n",
       "    </tr>\n",
       "    <tr>\n",
       "      <th>3</th>\n",
       "      <td>2023-06-07 19:47:38.042241096</td>\n",
       "      <td>8852ba9d-8431-49e1-ac46-3bdf0af2b6dd/0</td>\n",
       "      <td>[294, 120]</td>\n",
       "      <td>4.662310e+12</td>\n",
       "      <td>6.211286</td>\n",
       "      <td>4240.0</td>\n",
       "      <td>[-0.0005471264367816092, 0.0005471264367816092]</td>\n",
       "      <td>[-0.000877245508982036, 0.0008772455089820358]</td>\n",
       "      <td>{\"models\": {\"arbitraryMagField\": {\"interpolati...</td>\n",
       "      <td>0.050</td>\n",
       "      <td>0.050</td>\n",
       "    </tr>\n",
       "    <tr>\n",
       "      <th>4</th>\n",
       "      <td>2023-06-07 19:47:44.470635891</td>\n",
       "      <td>2c76d886-0bf8-47cf-805f-9f4ada1adbc4/0</td>\n",
       "      <td>[294, 112]</td>\n",
       "      <td>6.655468e+12</td>\n",
       "      <td>6.226727</td>\n",
       "      <td>4240.0</td>\n",
       "      <td>[-0.000510344827586207, 0.000510344827586207]</td>\n",
       "      <td>[-0.000877245508982036, 0.0008772455089820358]</td>\n",
       "      <td>{\"models\": {\"arbitraryMagField\": {\"interpolati...</td>\n",
       "      <td>0.075</td>\n",
       "      <td>0.075</td>\n",
       "    </tr>\n",
       "    <tr>\n",
       "      <th>5</th>\n",
       "      <td>2023-06-07 19:47:50.886695862</td>\n",
       "      <td>b711b8ab-f2dd-4ed3-b6c7-6dbe2b673aa2/0</td>\n",
       "      <td>[294, 112]</td>\n",
       "      <td>8.312082e+12</td>\n",
       "      <td>6.209617</td>\n",
       "      <td>4240.0</td>\n",
       "      <td>[-0.000510344827586207, 0.000510344827586207]</td>\n",
       "      <td>[-0.000877245508982036, 0.0008772455089820358]</td>\n",
       "      <td>{\"models\": {\"arbitraryMagField\": {\"interpolati...</td>\n",
       "      <td>0.100</td>\n",
       "      <td>0.100</td>\n",
       "    </tr>\n",
       "    <tr>\n",
       "      <th>6</th>\n",
       "      <td>2023-06-07 19:47:57.305338383</td>\n",
       "      <td>907d40bd-ff7e-4819-b031-2b994cc202f3/0</td>\n",
       "      <td>[294, 120]</td>\n",
       "      <td>1.083824e+13</td>\n",
       "      <td>6.213544</td>\n",
       "      <td>4240.0</td>\n",
       "      <td>[-0.0005471264367816092, 0.0005471264367816092]</td>\n",
       "      <td>[-0.000877245508982036, 0.0008772455089820358]</td>\n",
       "      <td>{\"models\": {\"arbitraryMagField\": {\"interpolati...</td>\n",
       "      <td>0.125</td>\n",
       "      <td>0.125</td>\n",
       "    </tr>\n",
       "    <tr>\n",
       "      <th>7</th>\n",
       "      <td>2023-06-07 19:48:03.729688644</td>\n",
       "      <td>4df8701c-0b9b-4dd8-94fe-be7a141b70c4/0</td>\n",
       "      <td>[294, 120]</td>\n",
       "      <td>1.236833e+13</td>\n",
       "      <td>6.213063</td>\n",
       "      <td>4240.0</td>\n",
       "      <td>[-0.0005471264367816092, 0.0005471264367816092]</td>\n",
       "      <td>[-0.000877245508982036, 0.0008772455089820358]</td>\n",
       "      <td>{\"models\": {\"arbitraryMagField\": {\"interpolati...</td>\n",
       "      <td>0.150</td>\n",
       "      <td>0.150</td>\n",
       "    </tr>\n",
       "    <tr>\n",
       "      <th>8</th>\n",
       "      <td>2023-06-07 19:48:10.126471996</td>\n",
       "      <td>820a3cee-8e75-424a-a3f6-f287215a43ab/0</td>\n",
       "      <td>[294, 104]</td>\n",
       "      <td>1.777301e+13</td>\n",
       "      <td>6.193785</td>\n",
       "      <td>4240.0</td>\n",
       "      <td>[-0.0004735632183908046, 0.0004735632183908046]</td>\n",
       "      <td>[-0.000877245508982036, 0.0008772455089820358]</td>\n",
       "      <td>{\"models\": {\"arbitraryMagField\": {\"interpolati...</td>\n",
       "      <td>0.175</td>\n",
       "      <td>0.175</td>\n",
       "    </tr>\n",
       "    <tr>\n",
       "      <th>9</th>\n",
       "      <td>2023-06-07 19:48:16.533858299</td>\n",
       "      <td>aa261c7c-be1f-4dd6-99de-9c1b1c6a3a71/0</td>\n",
       "      <td>[294, 104]</td>\n",
       "      <td>1.950604e+13</td>\n",
       "      <td>6.195898</td>\n",
       "      <td>4240.0</td>\n",
       "      <td>[-0.0004735632183908046, 0.0004735632183908046]</td>\n",
       "      <td>[-0.000877245508982036, 0.0008772455089820358]</td>\n",
       "      <td>{\"models\": {\"arbitraryMagField\": {\"interpolati...</td>\n",
       "      <td>0.200</td>\n",
       "      <td>0.200</td>\n",
       "    </tr>\n",
       "    <tr>\n",
       "      <th>10</th>\n",
       "      <td>2023-06-07 19:48:22.908835888</td>\n",
       "      <td>24cad0fa-1a52-4e0b-b923-d7c1b77e924a/0</td>\n",
       "      <td>[294, 96]</td>\n",
       "      <td>2.299335e+13</td>\n",
       "      <td>6.185869</td>\n",
       "      <td>4240.0</td>\n",
       "      <td>[-0.0004367816091954023, 0.0004367816091954023]</td>\n",
       "      <td>[-0.000877245508982036, 0.0008772455089820358]</td>\n",
       "      <td>{\"models\": {\"arbitraryMagField\": {\"interpolati...</td>\n",
       "      <td>0.225</td>\n",
       "      <td>0.225</td>\n",
       "    </tr>\n",
       "    <tr>\n",
       "      <th>11</th>\n",
       "      <td>2023-06-07 19:48:29.286306620</td>\n",
       "      <td>92619ff9-5017-4dd5-a4c0-fb5b598e73f6/0</td>\n",
       "      <td>[294, 96]</td>\n",
       "      <td>2.666078e+13</td>\n",
       "      <td>6.186914</td>\n",
       "      <td>4240.0</td>\n",
       "      <td>[-0.0004367816091954023, 0.0004367816091954023]</td>\n",
       "      <td>[-0.000877245508982036, 0.0008772455089820358]</td>\n",
       "      <td>{\"models\": {\"arbitraryMagField\": {\"interpolati...</td>\n",
       "      <td>0.250</td>\n",
       "      <td>0.250</td>\n",
       "    </tr>\n",
       "  </tbody>\n",
       "</table>\n",
       "</div>"
      ],
      "text/plain": [
       "                                 time                           srw_det_image  \\\n",
       "seq_num                                                                         \n",
       "1       2023-06-07 19:47:25.185513258  70da73b7-5c6f-4996-8e36-b3aa3fb973f7/0   \n",
       "2       2023-06-07 19:47:31.613039017  cd163d6d-b440-4e90-8cbb-da8d6c82e85f/0   \n",
       "3       2023-06-07 19:47:38.042241096  8852ba9d-8431-49e1-ac46-3bdf0af2b6dd/0   \n",
       "4       2023-06-07 19:47:44.470635891  2c76d886-0bf8-47cf-805f-9f4ada1adbc4/0   \n",
       "5       2023-06-07 19:47:50.886695862  b711b8ab-f2dd-4ed3-b6c7-6dbe2b673aa2/0   \n",
       "6       2023-06-07 19:47:57.305338383  907d40bd-ff7e-4819-b031-2b994cc202f3/0   \n",
       "7       2023-06-07 19:48:03.729688644  4df8701c-0b9b-4dd8-94fe-be7a141b70c4/0   \n",
       "8       2023-06-07 19:48:10.126471996  820a3cee-8e75-424a-a3f6-f287215a43ab/0   \n",
       "9       2023-06-07 19:48:16.533858299  aa261c7c-be1f-4dd6-99de-9c1b1c6a3a71/0   \n",
       "10      2023-06-07 19:48:22.908835888  24cad0fa-1a52-4e0b-b923-d7c1b77e924a/0   \n",
       "11      2023-06-07 19:48:29.286306620  92619ff9-5017-4dd5-a4c0-fb5b598e73f6/0   \n",
       "\n",
       "        srw_det_shape  srw_det_mean  srw_det_duration  srw_det_photon_energy  \\\n",
       "seq_num                                                                        \n",
       "1           [168, 88]  0.000000e+00          6.130847                 4240.0   \n",
       "2          [294, 120]  1.555208e+12          6.211029                 4240.0   \n",
       "3          [294, 120]  4.662310e+12          6.211286                 4240.0   \n",
       "4          [294, 112]  6.655468e+12          6.226727                 4240.0   \n",
       "5          [294, 112]  8.312082e+12          6.209617                 4240.0   \n",
       "6          [294, 120]  1.083824e+13          6.213544                 4240.0   \n",
       "7          [294, 120]  1.236833e+13          6.213063                 4240.0   \n",
       "8          [294, 104]  1.777301e+13          6.193785                 4240.0   \n",
       "9          [294, 104]  1.950604e+13          6.195898                 4240.0   \n",
       "10          [294, 96]  2.299335e+13          6.185869                 4240.0   \n",
       "11          [294, 96]  2.666078e+13          6.186914                 4240.0   \n",
       "\n",
       "                               srw_det_horizontal_extent  \\\n",
       "seq_num                                                    \n",
       "1                                      [-0.0004, 0.0004]   \n",
       "2        [-0.0005471264367816092, 0.0005471264367816092]   \n",
       "3        [-0.0005471264367816092, 0.0005471264367816092]   \n",
       "4          [-0.000510344827586207, 0.000510344827586207]   \n",
       "5          [-0.000510344827586207, 0.000510344827586207]   \n",
       "6        [-0.0005471264367816092, 0.0005471264367816092]   \n",
       "7        [-0.0005471264367816092, 0.0005471264367816092]   \n",
       "8        [-0.0004735632183908046, 0.0004735632183908046]   \n",
       "9        [-0.0004735632183908046, 0.0004735632183908046]   \n",
       "10       [-0.0004367816091954023, 0.0004367816091954023]   \n",
       "11       [-0.0004367816091954023, 0.0004367816091954023]   \n",
       "\n",
       "                                srw_det_vertical_extent  \\\n",
       "seq_num                                                   \n",
       "1                      [-0.0005, 0.0005000000000000002]   \n",
       "2        [-0.000877245508982036, 0.0008772455089820358]   \n",
       "3        [-0.000877245508982036, 0.0008772455089820358]   \n",
       "4        [-0.000877245508982036, 0.0008772455089820358]   \n",
       "5        [-0.000877245508982036, 0.0008772455089820358]   \n",
       "6        [-0.000877245508982036, 0.0008772455089820358]   \n",
       "7        [-0.000877245508982036, 0.0008772455089820358]   \n",
       "8        [-0.000877245508982036, 0.0008772455089820358]   \n",
       "9        [-0.000877245508982036, 0.0008772455089820358]   \n",
       "10       [-0.000877245508982036, 0.0008772455089820358]   \n",
       "11       [-0.000877245508982036, 0.0008772455089820358]   \n",
       "\n",
       "                                       srw_det_sirepo_json  \\\n",
       "seq_num                                                      \n",
       "1        {\"models\": {\"arbitraryMagField\": {\"interpolati...   \n",
       "2        {\"models\": {\"arbitraryMagField\": {\"interpolati...   \n",
       "3        {\"models\": {\"arbitraryMagField\": {\"interpolati...   \n",
       "4        {\"models\": {\"arbitraryMagField\": {\"interpolati...   \n",
       "5        {\"models\": {\"arbitraryMagField\": {\"interpolati...   \n",
       "6        {\"models\": {\"arbitraryMagField\": {\"interpolati...   \n",
       "7        {\"models\": {\"arbitraryMagField\": {\"interpolati...   \n",
       "8        {\"models\": {\"arbitraryMagField\": {\"interpolati...   \n",
       "9        {\"models\": {\"arbitraryMagField\": {\"interpolati...   \n",
       "10       {\"models\": {\"arbitraryMagField\": {\"interpolati...   \n",
       "11       {\"models\": {\"arbitraryMagField\": {\"interpolati...   \n",
       "\n",
       "         Aperture_sirepo_horizontalSize  \\\n",
       "seq_num                                   \n",
       "1                                 0.000   \n",
       "2                                 0.025   \n",
       "3                                 0.050   \n",
       "4                                 0.075   \n",
       "5                                 0.100   \n",
       "6                                 0.125   \n",
       "7                                 0.150   \n",
       "8                                 0.175   \n",
       "9                                 0.200   \n",
       "10                                0.225   \n",
       "11                                0.250   \n",
       "\n",
       "         Aperture_sirepo_horizontalSize_setpoint  \n",
       "seq_num                                           \n",
       "1                                          0.000  \n",
       "2                                          0.025  \n",
       "3                                          0.050  \n",
       "4                                          0.075  \n",
       "5                                          0.100  \n",
       "6                                          0.125  \n",
       "7                                          0.150  \n",
       "8                                          0.175  \n",
       "9                                          0.200  \n",
       "10                                         0.225  \n",
       "11                                         0.250  "
      ]
     },
     "execution_count": 4,
     "metadata": {},
     "output_type": "execute_result"
    }
   ],
   "source": [
    "hdr = db[uid]\n",
    "hdr.table()"
   ]
  },
  {
   "cell_type": "code",
   "execution_count": 5,
   "metadata": {
    "execution": {
     "iopub.execute_input": "2023-06-07T19:48:30.000588Z",
     "iopub.status.busy": "2023-06-07T19:48:30.000308Z",
     "iopub.status.idle": "2023-06-07T19:48:30.552420Z",
     "shell.execute_reply": "2023-06-07T19:48:30.551645Z"
    }
   },
   "outputs": [
    {
     "data": {
      "text/plain": [
       "<matplotlib.image.AxesImage at 0x7f7c1b76eca0>"
      ]
     },
     "execution_count": 5,
     "metadata": {},
     "output_type": "execute_result"
    },
    {
     "data": {
      "image/png": "[encoded data removed]",
      "text/plain": [
       "<Figure size 640x480 with 1 Axes>"
      ]
     },
     "metadata": {},
     "output_type": "display_data"
    }
   ],
   "source": [
    "imgs = list(hdr.data(f\"{srw_det.name}_image\"))\n",
    "cfg = hdr.config_data(srw_det.name)[\"primary\"][0]\n",
    "hor_ext = cfg[f\"{srw_det.name}_horizontal_extent\"]\n",
    "vert_ext = cfg[f\"{srw_det.name}_vertical_extent\"]\n",
    "plt.imshow(imgs[-2], aspect=\"equal\", extent=(*hor_ext, *vert_ext))"
   ]
  },
  {
   "cell_type": "markdown",
   "metadata": {},
   "source": [
    "## Run \"Beamline\" SRW simulations in parallel\n",
    "\n",
    "In this example, we are using [Bluesky's fly scans](https://blueskyproject.io/bluesky/async.html#flying)."
   ]
  },
  {
   "cell_type": "code",
   "execution_count": 6,
   "metadata": {
    "execution": {
     "iopub.execute_input": "2023-06-07T19:48:30.556326Z",
     "iopub.status.busy": "2023-06-07T19:48:30.556037Z",
     "iopub.status.idle": "2023-06-07T19:48:30.602781Z",
     "shell.execute_reply": "2023-06-07T19:48:30.601991Z"
    }
   },
   "outputs": [],
   "source": [
    "%run -i ../../../examples/prepare_flyer_env.py\n",
    "\n",
    "import bluesky.plans as bp\n",
    "import sirepo_bluesky.sirepo_flyer as sf"
   ]
  },
  {
   "cell_type": "markdown",
   "metadata": {},
   "source": [
    "We can create 3 different simulations that change 4 parameters at a time:"
   ]
  },
  {
   "cell_type": "code",
   "execution_count": 7,
   "metadata": {
    "execution": {
     "iopub.execute_input": "2023-06-07T19:48:30.607157Z",
     "iopub.status.busy": "2023-06-07T19:48:30.606547Z",
     "iopub.status.idle": "2023-06-07T19:48:30.611913Z",
     "shell.execute_reply": "2023-06-07T19:48:30.611275Z"
    }
   },
   "outputs": [],
   "source": [
    "params_to_change = []\n",
    "key1 = \"Aperture\"\n",
    "key2 = \"Lens\"\n",
    "key3 = \"Obstacle\"\n",
    "for i in range(1, 3 + 1):\n",
    "    parameters_update1 = {\"horizontalSize\": i * 0.1, \"verticalSize\": (16 - i) * 0.1}\n",
    "    parameters_update2 = {\"horizontalFocalLength\": i + 7}\n",
    "    parameters_update3 = {\"horizontalSize\": 6 - i}\n",
    "    params_to_change.append({key1: parameters_update1,\n",
    "                             key2: parameters_update2,\n",
    "                             key3: parameters_update3})"
   ]
  },
  {
   "cell_type": "markdown",
   "metadata": {},
   "source": [
    "To create the flyer and run a fly scan, where ``sim_id`` is the UID of this simulation, we run:"
   ]
  },
  {
   "cell_type": "code",
   "execution_count": 8,
   "metadata": {
    "execution": {
     "iopub.execute_input": "2023-06-07T19:48:30.615444Z",
     "iopub.status.busy": "2023-06-07T19:48:30.614966Z",
     "iopub.status.idle": "2023-06-07T19:48:51.924465Z",
     "shell.execute_reply": "2023-06-07T19:48:51.923566Z"
    }
   },
   "outputs": [
    {
     "name": "stdout",
     "output_type": "stream",
     "text": [
      "\n",
      "\n",
      "Transient Scan ID: 1     Time: 2023-06-07 19:48:30\n",
      "Persistent Unique Scan ID: '8d824ae5-a363-4cc6-aac2-fc88f5459fe6'\n"
     ]
    },
    {
     "name": "stdout",
     "output_type": "stream",
     "text": [
      "copy 00000000 -> XUv7bwAv, Youngs Double Slit Experiment Bluesky\n",
      "copy 00000000 -> kjjBb1ou, Youngs Double Slit Experiment Bluesky 2\n",
      "copy 00000000 -> ndAhpWgZ, Youngs Double Slit Experiment Bluesky 3\n"
     ]
    },
    {
     "name": "stdout",
     "output_type": "stream",
     "text": [
      "running sim XUv7bwAv"
     ]
    },
    {
     "name": "stdout",
     "output_type": "stream",
     "text": [
      "\n"
     ]
    },
    {
     "name": "stdout",
     "output_type": "stream",
     "text": [
      "running sim ndAhpWgZ"
     ]
    },
    {
     "name": "stdout",
     "output_type": "stream",
     "text": [
      "running sim kjjBb1ou"
     ]
    },
    {
     "name": "stdout",
     "output_type": "stream",
     "text": [
      "\n"
     ]
    },
    {
     "name": "stdout",
     "output_type": "stream",
     "text": [
      "\n"
     ]
    },
    {
     "name": "stdout",
     "output_type": "stream",
     "text": [
      "Status of sim XUv7bwAv: completed in 13.7 seconds"
     ]
    },
    {
     "name": "stdout",
     "output_type": "stream",
     "text": [
      "\n"
     ]
    },
    {
     "name": "stdout",
     "output_type": "stream",
     "text": [
      "Status of sim kjjBb1ou: completed in 19.9 seconds"
     ]
    },
    {
     "name": "stdout",
     "output_type": "stream",
     "text": [
      "\n"
     ]
    },
    {
     "name": "stdout",
     "output_type": "stream",
     "text": [
      "Status of sim ndAhpWgZ: completed in 20.1 seconds"
     ]
    },
    {
     "name": "stdout",
     "output_type": "stream",
     "text": [
      "\n"
     ]
    },
    {
     "name": "stdout",
     "output_type": "stream",
     "text": [
      "New stream: 'sirepo_flyer'\n"
     ]
    },
    {
     "name": "stdout",
     "output_type": "stream",
     "text": [
      "copy XUv7bwAv data hash: d5d6628d50bd65a329717e8ffb942224\n"
     ]
    },
    {
     "name": "stdout",
     "output_type": "stream",
     "text": [
      "copy kjjBb1ou data hash: d6f8b77048fe6ad48e007cfb776528ad\n",
      "copy ndAhpWgZ data hash: e5f914471d873f156c31815ab705575f\n",
      "\n",
      "\n",
      "\n"
     ]
    },
    {
     "name": "stderr",
     "output_type": "stream",
     "text": [
      "/usr/share/miniconda3/envs/sirepo-bluesky-py3.9/lib/python3.9/site-packages/event_model/__init__.py:224: UserWarning: The document type 'bulk_events' has been deprecated in favor of 'event_page', whose structure is a transpose of 'bulk_events'.\n",
      "  warnings.warn(\n"
     ]
    }
   ],
   "source": [
    "sirepo_flyer = sf.SirepoFlyer(sim_id=\"00000000\",\n",
    "                              server_name=\"http://localhost:8000\",\n",
    "                              root_dir=\"/tmp/sirepo-bluesky-data\",\n",
    "                              params_to_change=params_to_change,\n",
    "                              watch_name=\"W60\")\n",
    "\n",
    "uid, = RE(bp.fly([sirepo_flyer]))"
   ]
  },
  {
   "cell_type": "markdown",
   "metadata": {},
   "source": [
    "We access the data in the same manner as before:"
   ]
  },
  {
   "cell_type": "code",
   "execution_count": 9,
   "metadata": {
    "execution": {
     "iopub.execute_input": "2023-06-07T19:48:51.928525Z",
     "iopub.status.busy": "2023-06-07T19:48:51.928197Z",
     "iopub.status.idle": "2023-06-07T19:48:51.989190Z",
     "shell.execute_reply": "2023-06-07T19:48:51.988296Z"
    }
   },
   "outputs": [
    {
     "data": {
      "text/html": [
       "<div>\n",
       "<style scoped>\n",
       "    .dataframe tbody tr th:only-of-type {\n",
       "        vertical-align: middle;\n",
       "    }\n",
       "\n",
       "    .dataframe tbody tr th {\n",
       "        vertical-align: top;\n",
       "    }\n",
       "\n",
       "    .dataframe thead th {\n",
       "        text-align: right;\n",
       "    }\n",
       "</style>\n",
       "<table border=\"1\" class=\"dataframe\">\n",
       "  <thead>\n",
       "    <tr style=\"text-align: right;\">\n",
       "      <th></th>\n",
       "      <th>time</th>\n",
       "      <th>sirepo_flyer_image</th>\n",
       "      <th>sirepo_flyer_shape</th>\n",
       "      <th>sirepo_flyer_mean</th>\n",
       "      <th>sirepo_flyer_photon_energy</th>\n",
       "      <th>sirepo_flyer_horizontal_extent</th>\n",
       "      <th>sirepo_flyer_vertical_extent</th>\n",
       "      <th>sirepo_flyer_hash_value</th>\n",
       "      <th>sirepo_flyer_status</th>\n",
       "      <th>sirepo_flyer_duration</th>\n",
       "      <th>sirepo_flyer_Aperture_horizontalSize</th>\n",
       "      <th>sirepo_flyer_Aperture_verticalSize</th>\n",
       "      <th>sirepo_flyer_Lens_horizontalFocalLength</th>\n",
       "      <th>sirepo_flyer_Obstacle_horizontalSize</th>\n",
       "    </tr>\n",
       "    <tr>\n",
       "      <th>seq_num</th>\n",
       "      <th></th>\n",
       "      <th></th>\n",
       "      <th></th>\n",
       "      <th></th>\n",
       "      <th></th>\n",
       "      <th></th>\n",
       "      <th></th>\n",
       "      <th></th>\n",
       "      <th></th>\n",
       "      <th></th>\n",
       "      <th></th>\n",
       "      <th></th>\n",
       "      <th></th>\n",
       "      <th></th>\n",
       "    </tr>\n",
       "  </thead>\n",
       "  <tbody>\n",
       "    <tr>\n",
       "      <th>2</th>\n",
       "      <td>2023-06-07 19:48:51.911779642</td>\n",
       "      <td>5daed3ec-226b-4206-b837-bbae59f7e41f</td>\n",
       "      <td>[250, 546]</td>\n",
       "      <td>9.944933e+13</td>\n",
       "      <td>4240.0</td>\n",
       "      <td>[-0.001015813953488372, 0.0010120930232558139]</td>\n",
       "      <td>[-0.000249500998003992, 0.00024750499001996017]</td>\n",
       "      <td>d6f8b77048fe6ad48e007cfb776528ad</td>\n",
       "      <td>completed</td>\n",
       "      <td>19.878938</td>\n",
       "      <td>0.2</td>\n",
       "      <td>1.4</td>\n",
       "      <td>9</td>\n",
       "      <td>4</td>\n",
       "    </tr>\n",
       "    <tr>\n",
       "      <th>3</th>\n",
       "      <td>2023-06-07 19:48:51.911779642</td>\n",
       "      <td>e07c9b6d-c990-486a-b420-dd44241bcc0a</td>\n",
       "      <td>[250, 440]</td>\n",
       "      <td>1.492891e+14</td>\n",
       "      <td>4240.0</td>\n",
       "      <td>[-0.0009701657458563539, 0.0009701657458563542]</td>\n",
       "      <td>[-0.00024650698602794426, 0.0002504990019960079]</td>\n",
       "      <td>e5f914471d873f156c31815ab705575f</td>\n",
       "      <td>completed</td>\n",
       "      <td>20.066768</td>\n",
       "      <td>0.3</td>\n",
       "      <td>1.3</td>\n",
       "      <td>10</td>\n",
       "      <td>3</td>\n",
       "    </tr>\n",
       "    <tr>\n",
       "      <th>1</th>\n",
       "      <td>2023-06-07 19:48:51.911779642</td>\n",
       "      <td>6a52b1de-13d4-4dc4-bf25-0036c53d670e</td>\n",
       "      <td>[250, 896]</td>\n",
       "      <td>3.677965e+13</td>\n",
       "      <td>4240.0</td>\n",
       "      <td>[-0.0013627376425855513, 0.0013596958174904943]</td>\n",
       "      <td>[-0.000249500998003992, 0.00024750499001996017]</td>\n",
       "      <td>d5d6628d50bd65a329717e8ffb942224</td>\n",
       "      <td>completed</td>\n",
       "      <td>13.671090</td>\n",
       "      <td>0.1</td>\n",
       "      <td>1.5</td>\n",
       "      <td>8</td>\n",
       "      <td>5</td>\n",
       "    </tr>\n",
       "  </tbody>\n",
       "</table>\n",
       "</div>"
      ],
      "text/plain": [
       "                                 time                    sirepo_flyer_image  \\\n",
       "seq_num                                                                       \n",
       "2       2023-06-07 19:48:51.911779642  5daed3ec-226b-4206-b837-bbae59f7e41f   \n",
       "3       2023-06-07 19:48:51.911779642  e07c9b6d-c990-486a-b420-dd44241bcc0a   \n",
       "1       2023-06-07 19:48:51.911779642  6a52b1de-13d4-4dc4-bf25-0036c53d670e   \n",
       "\n",
       "        sirepo_flyer_shape  sirepo_flyer_mean  sirepo_flyer_photon_energy  \\\n",
       "seq_num                                                                     \n",
       "2               [250, 546]       9.944933e+13                      4240.0   \n",
       "3               [250, 440]       1.492891e+14                      4240.0   \n",
       "1               [250, 896]       3.677965e+13                      4240.0   \n",
       "\n",
       "                          sirepo_flyer_horizontal_extent  \\\n",
       "seq_num                                                    \n",
       "2         [-0.001015813953488372, 0.0010120930232558139]   \n",
       "3        [-0.0009701657458563539, 0.0009701657458563542]   \n",
       "1        [-0.0013627376425855513, 0.0013596958174904943]   \n",
       "\n",
       "                             sirepo_flyer_vertical_extent  \\\n",
       "seq_num                                                     \n",
       "2         [-0.000249500998003992, 0.00024750499001996017]   \n",
       "3        [-0.00024650698602794426, 0.0002504990019960079]   \n",
       "1         [-0.000249500998003992, 0.00024750499001996017]   \n",
       "\n",
       "                  sirepo_flyer_hash_value sirepo_flyer_status  \\\n",
       "seq_num                                                         \n",
       "2        d6f8b77048fe6ad48e007cfb776528ad           completed   \n",
       "3        e5f914471d873f156c31815ab705575f           completed   \n",
       "1        d5d6628d50bd65a329717e8ffb942224           completed   \n",
       "\n",
       "         sirepo_flyer_duration  sirepo_flyer_Aperture_horizontalSize  \\\n",
       "seq_num                                                                \n",
       "2                    19.878938                                   0.2   \n",
       "3                    20.066768                                   0.3   \n",
       "1                    13.671090                                   0.1   \n",
       "\n",
       "         sirepo_flyer_Aperture_verticalSize  \\\n",
       "seq_num                                       \n",
       "2                                       1.4   \n",
       "3                                       1.3   \n",
       "1                                       1.5   \n",
       "\n",
       "         sirepo_flyer_Lens_horizontalFocalLength  \\\n",
       "seq_num                                            \n",
       "2                                              9   \n",
       "3                                             10   \n",
       "1                                              8   \n",
       "\n",
       "         sirepo_flyer_Obstacle_horizontalSize  \n",
       "seq_num                                        \n",
       "2                                           4  \n",
       "3                                           3  \n",
       "1                                           5  "
      ]
     },
     "execution_count": 9,
     "metadata": {},
     "output_type": "execute_result"
    }
   ],
   "source": [
    "hdr = db[uid]\n",
    "hdr.table(stream_name=\"sirepo_flyer\")"
   ]
  }
 ],
 "metadata": {
  "kernelspec": {
   "display_name": "Python 3",
   "language": "python",
   "name": "python3"
  },
  "language_info": {
   "codemirror_mode": {
    "name": "ipython",
    "version": 3
   },
   "file_extension": ".py",
   "mimetype": "text/x-python",
   "name": "python",
   "nbconvert_exporter": "python",
   "pygments_lexer": "ipython3",
   "version": "3.9.16"
  }
 },
 "nbformat": 4,
 "nbformat_minor": 4
}
