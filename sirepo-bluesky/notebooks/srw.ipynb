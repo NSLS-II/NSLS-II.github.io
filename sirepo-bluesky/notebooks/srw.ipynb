{
 "cells": [
  {
   "cell_type": "markdown",
   "metadata": {},
   "source": [
    "# Run Sirepo/SRW simulations with Bluesky\n",
    "\n",
    "This section is based on the **Young's Double Slit Experiment** Sirepo example\n",
    "that can be found in the wavefront propagation folder on the SRW simulations\n",
    "section.\n",
    "\n",
    "**Hint**: See the [List of predefined simulations in Sirepo](../simulations.rst) for examples of identifiers for different beamlines."
   ]
  },
  {
   "cell_type": "markdown",
   "metadata": {},
   "source": [
    "## Run \"Source\" SRW simulations\n",
    "\n",
    "In this example, we run a simulation using the \"Single-Electron Spectrum\" report on the \"Source\" page of Sirepo/SRW app."
   ]
  },
  {
   "cell_type": "code",
   "execution_count": 1,
   "metadata": {
    "execution": {
     "iopub.execute_input": "2022-03-11T17:55:45.995829Z",
     "iopub.status.busy": "2022-03-11T17:55:45.995642Z",
     "iopub.status.idle": "2022-03-11T17:55:54.084272Z",
     "shell.execute_reply": "2022-03-11T17:55:54.083819Z"
    }
   },
   "outputs": [
    {
     "name": "stdout",
     "output_type": "stream",
     "text": [
      "\n",
      "\n",
      "Transient Scan ID: 1     Time: 2022-03-11 17:55:48\n",
      "Persistent Unique Scan ID: 'f7213f13-ff06-4c2b-b279-c520548fba32'\n"
     ]
    },
    {
     "name": "stdout",
     "output_type": "stream",
     "text": [
      "New stream: 'primary'\n",
      "+-----------+------------+--------------+------------------+\n",
      "|   seq_num |       time | srw_det_mean | srw_det_duration |\n",
      "+-----------+------------+--------------+------------------+\n",
      "|         1 | 17:55:53.9 | 9721365919945.510 |            5.103 |\n",
      "+-----------+------------+--------------+------------------+\n",
      "generator count ['f7213f13'] (scan num: 1)\n",
      "\n",
      "\n",
      "\n"
     ]
    }
   ],
   "source": [
    "%run -i ../../../examples/prepare_det_env.py\n",
    "\n",
    "import sirepo_bluesky.srw_detector as sd\n",
    "import bluesky.plans as bp\n",
    "\n",
    "srw_det = sd.SirepoSRWDetector(sim_id=\"00000000\", sim_type=\"srw\",\n",
    "                               source_simulation=True,\n",
    "                               sirepo_server=\"http://localhost:8000\",\n",
    "                               root_dir=\"/tmp/sirepo-bluesky-data\")\n",
    "\n",
    "srw_det.configuration_attrs = [\"photon_energy\", \"shape\"]\n",
    "srw_det.duration.kind = 'hinted'\n",
    "\n",
    "uid, = RE(bp.count([srw_det]))"
   ]
  },
  {
   "cell_type": "markdown",
   "metadata": {},
   "source": [
    "We can observe the produced spectrum as:"
   ]
  },
  {
   "cell_type": "code",
   "execution_count": 2,
   "metadata": {
    "execution": {
     "iopub.execute_input": "2022-03-11T17:55:54.087189Z",
     "iopub.status.busy": "2022-03-11T17:55:54.086757Z",
     "iopub.status.idle": "2022-03-11T17:55:54.230402Z",
     "shell.execute_reply": "2022-03-11T17:55:54.229999Z"
    }
   },
   "outputs": [
    {
     "data": {
      "text/plain": [
       "[<matplotlib.lines.Line2D at 0x7fed90417b20>]"
      ]
     },
     "execution_count": 2,
     "metadata": {},
     "output_type": "execute_result"
    },
    {
     "data": {
      "image/png": "[encoded data removed]",
      "text/plain": [
       "<Figure size 432x288 with 1 Axes>"
      ]
     },
     "metadata": {
      "needs_background": "light"
     },
     "output_type": "display_data"
    }
   ],
   "source": [
    "hdr = db[uid]\n",
    "cfg = hdr.config_data(srw_det.name)[\"primary\"][0]\n",
    "energies = cfg[f\"{srw_det.name}_photon_energy\"]\n",
    "spectrum, = hdr.data(f\"{srw_det.name}_image\")\n",
    "plt.plot(energies, spectrum)"
   ]
  },
  {
   "cell_type": "markdown",
   "metadata": {},
   "source": [
    "## Run \"Beamline\" SRW simulations sequentially\n",
    "\n",
    "In this example, we scan the horizontal size of the aperture and collect the resulting averaged intensities and corresponding 2D intensity distributions from the \"Watchpoint\" report on the \"Beamline\" page of Sirepo/SRW app."
   ]
  },
  {
   "cell_type": "markdown",
   "metadata": {},
   "source": [
    "Start ``ipython`` and run the code in the following cell. Note that ``sim_id`` may be replaced by the identifier for any supported Sirepo simulation."
   ]
  },
  {
   "cell_type": "code",
   "execution_count": 3,
   "metadata": {
    "execution": {
     "iopub.execute_input": "2022-03-11T17:55:54.233812Z",
     "iopub.status.busy": "2022-03-11T17:55:54.232966Z",
     "iopub.status.idle": "2022-03-11T17:56:52.662568Z",
     "shell.execute_reply": "2022-03-11T17:56:52.662011Z"
    }
   },
   "outputs": [
    {
     "name": "stdout",
     "output_type": "stream",
     "text": [
      "\n",
      "\n",
      "Transient Scan ID: 1     Time: 2022-03-11 17:55:54\n",
      "Persistent Unique Scan ID: '43f2d066-c3a6-494f-bbe8-b58d4563b913'\n"
     ]
    },
    {
     "name": "stdout",
     "output_type": "stream",
     "text": [
      "New stream: 'primary'\n",
      "+-----------+------------+--------------------------------+--------------+------------------+\n",
      "|   seq_num |       time | Aperture_sirepo_horizontalSize | srw_det_mean | srw_det_duration |\n",
      "+-----------+------------+--------------------------------+--------------+------------------+\n",
      "|         1 | 17:55:59.4 |                          0.000 |        0.000 |            5.090 |\n"
     ]
    },
    {
     "name": "stdout",
     "output_type": "stream",
     "text": [
      "|         2 | 17:56:04.7 |                          0.025 | 1555207921769.845 |            5.170 |\n"
     ]
    },
    {
     "name": "stdout",
     "output_type": "stream",
     "text": [
      "|         3 | 17:56:10.0 |                          0.050 | 4662310199493.528 |            5.157 |\n"
     ]
    },
    {
     "name": "stdout",
     "output_type": "stream",
     "text": [
      "|         4 | 17:56:15.3 |                          0.075 | 6655467645389.955 |            5.151 |\n"
     ]
    },
    {
     "name": "stdout",
     "output_type": "stream",
     "text": [
      "|         5 | 17:56:20.6 |                          0.100 | 8312082100422.471 |            5.152 |\n"
     ]
    },
    {
     "name": "stdout",
     "output_type": "stream",
     "text": [
      "|         6 | 17:56:25.9 |                          0.125 | 10838241530711.086 |            5.156 |\n"
     ]
    },
    {
     "name": "stdout",
     "output_type": "stream",
     "text": [
      "|         7 | 17:56:31.2 |                          0.150 | 12368326246643.777 |            5.172 |\n"
     ]
    },
    {
     "name": "stdout",
     "output_type": "stream",
     "text": [
      "|         8 | 17:56:36.4 |                          0.175 | 17773014235199.816 |            5.148 |\n"
     ]
    },
    {
     "name": "stdout",
     "output_type": "stream",
     "text": [
      "|         9 | 17:56:41.7 |                          0.200 | 19506043410022.797 |            5.155 |\n"
     ]
    },
    {
     "name": "stdout",
     "output_type": "stream",
     "text": [
      "|        10 | 17:56:47.0 |                          0.225 | 22993350158054.234 |            5.143 |\n"
     ]
    },
    {
     "name": "stdout",
     "output_type": "stream",
     "text": [
      "|        11 | 17:56:52.2 |                          0.250 | 26660776646668.676 |            5.141 |\n",
      "+-----------+------------+--------------------------------+--------------+------------------+\n",
      "generator scan ['43f2d066'] (scan num: 1)\n"
     ]
    },
    {
     "name": "stdout",
     "output_type": "stream",
     "text": [
      "\n",
      "\n",
      "\n"
     ]
    },
    {
     "data": {
      "image/png": "[encoded data removed]",
      "text/plain": [
       "<Figure size 360x720 with 2 Axes>"
      ]
     },
     "metadata": {
      "needs_background": "light"
     },
     "output_type": "display_data"
    }
   ],
   "source": [
    "%run -i ../../../examples/prepare_det_env.py\n",
    "\n",
    "import sirepo_bluesky.srw_detector as sd\n",
    "import bluesky.plans as bp\n",
    "\n",
    "srw_det = sd.SirepoSRWDetector(sim_id=\"00000000\", sim_type=\"srw\",\n",
    "                               sirepo_server=\"http://localhost:8000\",\n",
    "                               root_dir=\"/tmp/sirepo-bluesky-data\")\n",
    "\n",
    "srw_det.select_optic(\"Aperture\")\n",
    "param1 = srw_det.create_parameter(\"horizontalSize\")\n",
    "param2 = srw_det.create_parameter(\"verticalSize\")\n",
    "srw_det.configuration_attrs = [\"horizontal_extent\", \"vertical_extent\", \"shape\"]\n",
    "srw_det.duration.kind = 'hinted'\n",
    "\n",
    "uid, = RE(bp.scan([srw_det], param1, 0.0, 0.25, 11))"
   ]
  },
  {
   "cell_type": "markdown",
   "metadata": {},
   "source": [
    "We can access the data as the last item in the database (`db[-1]`) or directly via the returned `uid`, which when plotted as an image will look like:"
   ]
  },
  {
   "cell_type": "code",
   "execution_count": 4,
   "metadata": {
    "execution": {
     "iopub.execute_input": "2022-03-11T17:56:52.664989Z",
     "iopub.status.busy": "2022-03-11T17:56:52.664831Z",
     "iopub.status.idle": "2022-03-11T17:56:52.725410Z",
     "shell.execute_reply": "2022-03-11T17:56:52.724917Z"
    }
   },
   "outputs": [
    {
     "data": {
      "text/html": [
       "<div>\n",
       "<style scoped>\n",
       "    .dataframe tbody tr th:only-of-type {\n",
       "        vertical-align: middle;\n",
       "    }\n",
       "\n",
       "    .dataframe tbody tr th {\n",
       "        vertical-align: top;\n",
       "    }\n",
       "\n",
       "    .dataframe thead th {\n",
       "        text-align: right;\n",
       "    }\n",
       "</style>\n",
       "<table border=\"1\" class=\"dataframe\">\n",
       "  <thead>\n",
       "    <tr style=\"text-align: right;\">\n",
       "      <th></th>\n",
       "      <th>time</th>\n",
       "      <th>srw_det_image</th>\n",
       "      <th>srw_det_shape</th>\n",
       "      <th>srw_det_mean</th>\n",
       "      <th>srw_det_duration</th>\n",
       "      <th>srw_det_photon_energy</th>\n",
       "      <th>srw_det_horizontal_extent</th>\n",
       "      <th>srw_det_vertical_extent</th>\n",
       "      <th>srw_det_sirepo_json</th>\n",
       "      <th>Aperture_sirepo_horizontalSize</th>\n",
       "      <th>Aperture_sirepo_horizontalSize_setpoint</th>\n",
       "    </tr>\n",
       "    <tr>\n",
       "      <th>seq_num</th>\n",
       "      <th></th>\n",
       "      <th></th>\n",
       "      <th></th>\n",
       "      <th></th>\n",
       "      <th></th>\n",
       "      <th></th>\n",
       "      <th></th>\n",
       "      <th></th>\n",
       "      <th></th>\n",
       "      <th></th>\n",
       "      <th></th>\n",
       "    </tr>\n",
       "  </thead>\n",
       "  <tbody>\n",
       "    <tr>\n",
       "      <th>1</th>\n",
       "      <td>2022-03-11 17:55:59.477647543</td>\n",
       "      <td>107f0c10-469e-4b59-a40d-55872d9d4d7b/0</td>\n",
       "      <td>[168, 88]</td>\n",
       "      <td>0.000000e+00</td>\n",
       "      <td>5.090341</td>\n",
       "      <td>4240.0</td>\n",
       "      <td>[-0.0004, 0.0004]</td>\n",
       "      <td>[-0.0005, 0.0005000000000000002]</td>\n",
       "      <td>{\"models\": {\"arbitraryMagField\": {\"interpolati...</td>\n",
       "      <td>0.000</td>\n",
       "      <td>0.000</td>\n",
       "    </tr>\n",
       "    <tr>\n",
       "      <th>2</th>\n",
       "      <td>2022-03-11 17:56:04.778580189</td>\n",
       "      <td>67b60fd8-6682-42c9-9a95-2d114a13ada6/0</td>\n",
       "      <td>[294, 120]</td>\n",
       "      <td>1.555208e+12</td>\n",
       "      <td>5.169600</td>\n",
       "      <td>4240.0</td>\n",
       "      <td>[-0.0005471264367816092, 0.0005471264367816092]</td>\n",
       "      <td>[-0.000877245508982036, 0.0008772455089820358]</td>\n",
       "      <td>{\"models\": {\"arbitraryMagField\": {\"interpolati...</td>\n",
       "      <td>0.025</td>\n",
       "      <td>0.025</td>\n",
       "    </tr>\n",
       "    <tr>\n",
       "      <th>3</th>\n",
       "      <td>2022-03-11 17:56:10.072280645</td>\n",
       "      <td>c4f05206-bf6d-4a65-ac10-8d149f3ba67a/0</td>\n",
       "      <td>[294, 120]</td>\n",
       "      <td>4.662310e+12</td>\n",
       "      <td>5.156546</td>\n",
       "      <td>4240.0</td>\n",
       "      <td>[-0.0005471264367816092, 0.0005471264367816092]</td>\n",
       "      <td>[-0.000877245508982036, 0.0008772455089820358]</td>\n",
       "      <td>{\"models\": {\"arbitraryMagField\": {\"interpolati...</td>\n",
       "      <td>0.050</td>\n",
       "      <td>0.050</td>\n",
       "    </tr>\n",
       "    <tr>\n",
       "      <th>4</th>\n",
       "      <td>2022-03-11 17:56:15.348653316</td>\n",
       "      <td>2c93c547-f125-44f9-acdd-cc514c80420e/0</td>\n",
       "      <td>[294, 112]</td>\n",
       "      <td>6.655468e+12</td>\n",
       "      <td>5.150608</td>\n",
       "      <td>4240.0</td>\n",
       "      <td>[-0.000510344827586207, 0.000510344827586207]</td>\n",
       "      <td>[-0.000877245508982036, 0.0008772455089820358]</td>\n",
       "      <td>{\"models\": {\"arbitraryMagField\": {\"interpolati...</td>\n",
       "      <td>0.075</td>\n",
       "      <td>0.075</td>\n",
       "    </tr>\n",
       "    <tr>\n",
       "      <th>5</th>\n",
       "      <td>2022-03-11 17:56:20.624579668</td>\n",
       "      <td>04d70f19-5bd0-4445-9513-de932d312284/0</td>\n",
       "      <td>[294, 112]</td>\n",
       "      <td>8.312082e+12</td>\n",
       "      <td>5.151789</td>\n",
       "      <td>4240.0</td>\n",
       "      <td>[-0.000510344827586207, 0.000510344827586207]</td>\n",
       "      <td>[-0.000877245508982036, 0.0008772455089820358]</td>\n",
       "      <td>{\"models\": {\"arbitraryMagField\": {\"interpolati...</td>\n",
       "      <td>0.100</td>\n",
       "      <td>0.100</td>\n",
       "    </tr>\n",
       "    <tr>\n",
       "      <th>6</th>\n",
       "      <td>2022-03-11 17:56:25.904841900</td>\n",
       "      <td>f3eb4fef-1300-4460-b899-ab3d63b7d807/0</td>\n",
       "      <td>[294, 120]</td>\n",
       "      <td>1.083824e+13</td>\n",
       "      <td>5.156162</td>\n",
       "      <td>4240.0</td>\n",
       "      <td>[-0.0005471264367816092, 0.0005471264367816092]</td>\n",
       "      <td>[-0.000877245508982036, 0.0008772455089820358]</td>\n",
       "      <td>{\"models\": {\"arbitraryMagField\": {\"interpolati...</td>\n",
       "      <td>0.125</td>\n",
       "      <td>0.125</td>\n",
       "    </tr>\n",
       "    <tr>\n",
       "      <th>7</th>\n",
       "      <td>2022-03-11 17:56:31.207382441</td>\n",
       "      <td>03167a7f-9253-4710-8f26-397e3e79823a/0</td>\n",
       "      <td>[294, 120]</td>\n",
       "      <td>1.236833e+13</td>\n",
       "      <td>5.172061</td>\n",
       "      <td>4240.0</td>\n",
       "      <td>[-0.0005471264367816092, 0.0005471264367816092]</td>\n",
       "      <td>[-0.000877245508982036, 0.0008772455089820358]</td>\n",
       "      <td>{\"models\": {\"arbitraryMagField\": {\"interpolati...</td>\n",
       "      <td>0.150</td>\n",
       "      <td>0.150</td>\n",
       "    </tr>\n",
       "    <tr>\n",
       "      <th>8</th>\n",
       "      <td>2022-03-11 17:56:36.479490519</td>\n",
       "      <td>1c9f7fd3-9263-40c7-9425-683c89fd25e1/0</td>\n",
       "      <td>[294, 104]</td>\n",
       "      <td>1.777301e+13</td>\n",
       "      <td>5.148164</td>\n",
       "      <td>4240.0</td>\n",
       "      <td>[-0.0004735632183908046, 0.0004735632183908046]</td>\n",
       "      <td>[-0.000877245508982036, 0.0008772455089820358]</td>\n",
       "      <td>{\"models\": {\"arbitraryMagField\": {\"interpolati...</td>\n",
       "      <td>0.175</td>\n",
       "      <td>0.175</td>\n",
       "    </tr>\n",
       "    <tr>\n",
       "      <th>9</th>\n",
       "      <td>2022-03-11 17:56:41.766613483</td>\n",
       "      <td>798db234-591e-49b5-aad5-c53d923edd5b/0</td>\n",
       "      <td>[294, 104]</td>\n",
       "      <td>1.950604e+13</td>\n",
       "      <td>5.155098</td>\n",
       "      <td>4240.0</td>\n",
       "      <td>[-0.0004735632183908046, 0.0004735632183908046]</td>\n",
       "      <td>[-0.000877245508982036, 0.0008772455089820358]</td>\n",
       "      <td>{\"models\": {\"arbitraryMagField\": {\"interpolati...</td>\n",
       "      <td>0.200</td>\n",
       "      <td>0.200</td>\n",
       "    </tr>\n",
       "    <tr>\n",
       "      <th>10</th>\n",
       "      <td>2022-03-11 17:56:47.027863026</td>\n",
       "      <td>89c5f8d9-7a92-408b-84e1-d2cd64836a7c/0</td>\n",
       "      <td>[294, 96]</td>\n",
       "      <td>2.299335e+13</td>\n",
       "      <td>5.142913</td>\n",
       "      <td>4240.0</td>\n",
       "      <td>[-0.0004367816091954023, 0.0004367816091954023]</td>\n",
       "      <td>[-0.000877245508982036, 0.0008772455089820358]</td>\n",
       "      <td>{\"models\": {\"arbitraryMagField\": {\"interpolati...</td>\n",
       "      <td>0.225</td>\n",
       "      <td>0.225</td>\n",
       "    </tr>\n",
       "    <tr>\n",
       "      <th>11</th>\n",
       "      <td>2022-03-11 17:56:52.290544987</td>\n",
       "      <td>7e20c3fd-1ca8-4e85-9445-60bfe2ada40b/0</td>\n",
       "      <td>[294, 96]</td>\n",
       "      <td>2.666078e+13</td>\n",
       "      <td>5.141283</td>\n",
       "      <td>4240.0</td>\n",
       "      <td>[-0.0004367816091954023, 0.0004367816091954023]</td>\n",
       "      <td>[-0.000877245508982036, 0.0008772455089820358]</td>\n",
       "      <td>{\"models\": {\"arbitraryMagField\": {\"interpolati...</td>\n",
       "      <td>0.250</td>\n",
       "      <td>0.250</td>\n",
       "    </tr>\n",
       "  </tbody>\n",
       "</table>\n",
       "</div>"
      ],
      "text/plain": [
       "                                 time                           srw_det_image  \\\n",
       "seq_num                                                                         \n",
       "1       2022-03-11 17:55:59.477647543  107f0c10-469e-4b59-a40d-55872d9d4d7b/0   \n",
       "2       2022-03-11 17:56:04.778580189  67b60fd8-6682-42c9-9a95-2d114a13ada6/0   \n",
       "3       2022-03-11 17:56:10.072280645  c4f05206-bf6d-4a65-ac10-8d149f3ba67a/0   \n",
       "4       2022-03-11 17:56:15.348653316  2c93c547-f125-44f9-acdd-cc514c80420e/0   \n",
       "5       2022-03-11 17:56:20.624579668  04d70f19-5bd0-4445-9513-de932d312284/0   \n",
       "6       2022-03-11 17:56:25.904841900  f3eb4fef-1300-4460-b899-ab3d63b7d807/0   \n",
       "7       2022-03-11 17:56:31.207382441  03167a7f-9253-4710-8f26-397e3e79823a/0   \n",
       "8       2022-03-11 17:56:36.479490519  1c9f7fd3-9263-40c7-9425-683c89fd25e1/0   \n",
       "9       2022-03-11 17:56:41.766613483  798db234-591e-49b5-aad5-c53d923edd5b/0   \n",
       "10      2022-03-11 17:56:47.027863026  89c5f8d9-7a92-408b-84e1-d2cd64836a7c/0   \n",
       "11      2022-03-11 17:56:52.290544987  7e20c3fd-1ca8-4e85-9445-60bfe2ada40b/0   \n",
       "\n",
       "        srw_det_shape  srw_det_mean  srw_det_duration  srw_det_photon_energy  \\\n",
       "seq_num                                                                        \n",
       "1           [168, 88]  0.000000e+00          5.090341                 4240.0   \n",
       "2          [294, 120]  1.555208e+12          5.169600                 4240.0   \n",
       "3          [294, 120]  4.662310e+12          5.156546                 4240.0   \n",
       "4          [294, 112]  6.655468e+12          5.150608                 4240.0   \n",
       "5          [294, 112]  8.312082e+12          5.151789                 4240.0   \n",
       "6          [294, 120]  1.083824e+13          5.156162                 4240.0   \n",
       "7          [294, 120]  1.236833e+13          5.172061                 4240.0   \n",
       "8          [294, 104]  1.777301e+13          5.148164                 4240.0   \n",
       "9          [294, 104]  1.950604e+13          5.155098                 4240.0   \n",
       "10          [294, 96]  2.299335e+13          5.142913                 4240.0   \n",
       "11          [294, 96]  2.666078e+13          5.141283                 4240.0   \n",
       "\n",
       "                               srw_det_horizontal_extent  \\\n",
       "seq_num                                                    \n",
       "1                                      [-0.0004, 0.0004]   \n",
       "2        [-0.0005471264367816092, 0.0005471264367816092]   \n",
       "3        [-0.0005471264367816092, 0.0005471264367816092]   \n",
       "4          [-0.000510344827586207, 0.000510344827586207]   \n",
       "5          [-0.000510344827586207, 0.000510344827586207]   \n",
       "6        [-0.0005471264367816092, 0.0005471264367816092]   \n",
       "7        [-0.0005471264367816092, 0.0005471264367816092]   \n",
       "8        [-0.0004735632183908046, 0.0004735632183908046]   \n",
       "9        [-0.0004735632183908046, 0.0004735632183908046]   \n",
       "10       [-0.0004367816091954023, 0.0004367816091954023]   \n",
       "11       [-0.0004367816091954023, 0.0004367816091954023]   \n",
       "\n",
       "                                srw_det_vertical_extent  \\\n",
       "seq_num                                                   \n",
       "1                      [-0.0005, 0.0005000000000000002]   \n",
       "2        [-0.000877245508982036, 0.0008772455089820358]   \n",
       "3        [-0.000877245508982036, 0.0008772455089820358]   \n",
       "4        [-0.000877245508982036, 0.0008772455089820358]   \n",
       "5        [-0.000877245508982036, 0.0008772455089820358]   \n",
       "6        [-0.000877245508982036, 0.0008772455089820358]   \n",
       "7        [-0.000877245508982036, 0.0008772455089820358]   \n",
       "8        [-0.000877245508982036, 0.0008772455089820358]   \n",
       "9        [-0.000877245508982036, 0.0008772455089820358]   \n",
       "10       [-0.000877245508982036, 0.0008772455089820358]   \n",
       "11       [-0.000877245508982036, 0.0008772455089820358]   \n",
       "\n",
       "                                       srw_det_sirepo_json  \\\n",
       "seq_num                                                      \n",
       "1        {\"models\": {\"arbitraryMagField\": {\"interpolati...   \n",
       "2        {\"models\": {\"arbitraryMagField\": {\"interpolati...   \n",
       "3        {\"models\": {\"arbitraryMagField\": {\"interpolati...   \n",
       "4        {\"models\": {\"arbitraryMagField\": {\"interpolati...   \n",
       "5        {\"models\": {\"arbitraryMagField\": {\"interpolati...   \n",
       "6        {\"models\": {\"arbitraryMagField\": {\"interpolati...   \n",
       "7        {\"models\": {\"arbitraryMagField\": {\"interpolati...   \n",
       "8        {\"models\": {\"arbitraryMagField\": {\"interpolati...   \n",
       "9        {\"models\": {\"arbitraryMagField\": {\"interpolati...   \n",
       "10       {\"models\": {\"arbitraryMagField\": {\"interpolati...   \n",
       "11       {\"models\": {\"arbitraryMagField\": {\"interpolati...   \n",
       "\n",
       "         Aperture_sirepo_horizontalSize  \\\n",
       "seq_num                                   \n",
       "1                                 0.000   \n",
       "2                                 0.025   \n",
       "3                                 0.050   \n",
       "4                                 0.075   \n",
       "5                                 0.100   \n",
       "6                                 0.125   \n",
       "7                                 0.150   \n",
       "8                                 0.175   \n",
       "9                                 0.200   \n",
       "10                                0.225   \n",
       "11                                0.250   \n",
       "\n",
       "         Aperture_sirepo_horizontalSize_setpoint  \n",
       "seq_num                                           \n",
       "1                                          0.000  \n",
       "2                                          0.025  \n",
       "3                                          0.050  \n",
       "4                                          0.075  \n",
       "5                                          0.100  \n",
       "6                                          0.125  \n",
       "7                                          0.150  \n",
       "8                                          0.175  \n",
       "9                                          0.200  \n",
       "10                                         0.225  \n",
       "11                                         0.250  "
      ]
     },
     "execution_count": 4,
     "metadata": {},
     "output_type": "execute_result"
    }
   ],
   "source": [
    "hdr = db[uid]\n",
    "hdr.table()"
   ]
  },
  {
   "cell_type": "code",
   "execution_count": 5,
   "metadata": {
    "execution": {
     "iopub.execute_input": "2022-03-11T17:56:52.727807Z",
     "iopub.status.busy": "2022-03-11T17:56:52.727548Z",
     "iopub.status.idle": "2022-03-11T17:56:53.138812Z",
     "shell.execute_reply": "2022-03-11T17:56:53.138403Z"
    }
   },
   "outputs": [
    {
     "data": {
      "text/plain": [
       "<matplotlib.image.AxesImage at 0x7fed80f621c0>"
      ]
     },
     "execution_count": 5,
     "metadata": {},
     "output_type": "execute_result"
    },
    {
     "data": {
      "image/png": "[encoded data removed]",
      "text/plain": [
       "<Figure size 432x288 with 1 Axes>"
      ]
     },
     "metadata": {
      "needs_background": "light"
     },
     "output_type": "display_data"
    }
   ],
   "source": [
    "imgs = list(hdr.data(f\"{srw_det.name}_image\"))\n",
    "cfg = hdr.config_data(srw_det.name)[\"primary\"][0]\n",
    "hor_ext = cfg[f\"{srw_det.name}_horizontal_extent\"]\n",
    "vert_ext = cfg[f\"{srw_det.name}_vertical_extent\"]\n",
    "plt.imshow(imgs[-2], aspect=\"equal\", extent=(*hor_ext, *vert_ext))"
   ]
  },
  {
   "cell_type": "markdown",
   "metadata": {},
   "source": [
    "## Run \"Beamline\" SRW simulations in parallel\n",
    "\n",
    "In this example, we are using [Bluesky's fly scans](https://blueskyproject.io/bluesky/async.html#flying)."
   ]
  },
  {
   "cell_type": "code",
   "execution_count": 6,
   "metadata": {
    "execution": {
     "iopub.execute_input": "2022-03-11T17:56:53.141743Z",
     "iopub.status.busy": "2022-03-11T17:56:53.141485Z",
     "iopub.status.idle": "2022-03-11T17:56:53.216728Z",
     "shell.execute_reply": "2022-03-11T17:56:53.216234Z"
    }
   },
   "outputs": [],
   "source": [
    "%run -i ../../../examples/prepare_flyer_env.py\n",
    "\n",
    "import bluesky.plans as bp\n",
    "import sirepo_bluesky.sirepo_flyer as sf"
   ]
  },
  {
   "cell_type": "markdown",
   "metadata": {},
   "source": [
    "We can create 3 different simulations that change 4 parameters at a time:"
   ]
  },
  {
   "cell_type": "code",
   "execution_count": 7,
   "metadata": {
    "execution": {
     "iopub.execute_input": "2022-03-11T17:56:53.220082Z",
     "iopub.status.busy": "2022-03-11T17:56:53.219666Z",
     "iopub.status.idle": "2022-03-11T17:56:53.224435Z",
     "shell.execute_reply": "2022-03-11T17:56:53.224000Z"
    }
   },
   "outputs": [],
   "source": [
    "params_to_change = []\n",
    "key1 = \"Aperture\"\n",
    "key2 = \"Lens\"\n",
    "key3 = \"Obstacle\"\n",
    "for i in range(1, 3 + 1):\n",
    "    parameters_update1 = {\"horizontalSize\": i * 0.1, \"verticalSize\": (16 - i) * 0.1}\n",
    "    parameters_update2 = {\"horizontalFocalLength\": i + 7}\n",
    "    parameters_update3 = {\"horizontalSize\": 6 - i}\n",
    "    params_to_change.append({key1: parameters_update1,\n",
    "                             key2: parameters_update2,\n",
    "                             key3: parameters_update3})"
   ]
  },
  {
   "cell_type": "markdown",
   "metadata": {},
   "source": [
    "To create the flyer and run a fly scan, where ``sim_id`` is the UID of this simulation, we run:"
   ]
  },
  {
   "cell_type": "code",
   "execution_count": 8,
   "metadata": {
    "execution": {
     "iopub.execute_input": "2022-03-11T17:56:53.226971Z",
     "iopub.status.busy": "2022-03-11T17:56:53.226714Z",
     "iopub.status.idle": "2022-03-11T17:57:09.993391Z",
     "shell.execute_reply": "2022-03-11T17:57:09.992700Z"
    }
   },
   "outputs": [
    {
     "name": "stdout",
     "output_type": "stream",
     "text": [
      "\n",
      "\n",
      "Transient Scan ID: 1     Time: 2022-03-11 17:56:53\n",
      "Persistent Unique Scan ID: '92a023fc-18e8-4ff9-a1a2-db37e473c3aa'\n"
     ]
    },
    {
     "name": "stdout",
     "output_type": "stream",
     "text": [
      "copy 00000000 -> txjtls3Q, Youngs Double Slit Experiment Bluesky\n",
      "copy 00000000 -> IvIQjhEN, Youngs Double Slit Experiment Bluesky 2\n",
      "copy 00000000 -> 5VlMOBIk, Youngs Double Slit Experiment Bluesky 3\n"
     ]
    },
    {
     "name": "stdout",
     "output_type": "stream",
     "text": [
      "running sim txjtls3Q"
     ]
    },
    {
     "name": "stdout",
     "output_type": "stream",
     "text": [
      "running sim IvIQjhEN"
     ]
    },
    {
     "name": "stdout",
     "output_type": "stream",
     "text": [
      "\n"
     ]
    },
    {
     "name": "stdout",
     "output_type": "stream",
     "text": [
      "\n"
     ]
    },
    {
     "name": "stdout",
     "output_type": "stream",
     "text": [
      "running sim 5VlMOBIk"
     ]
    },
    {
     "name": "stdout",
     "output_type": "stream",
     "text": [
      "\n"
     ]
    },
    {
     "name": "stdout",
     "output_type": "stream",
     "text": [
      "Status of sim IvIQjhEN: completed in 10.5 seconds"
     ]
    },
    {
     "name": "stdout",
     "output_type": "stream",
     "text": [
      "\n"
     ]
    },
    {
     "name": "stdout",
     "output_type": "stream",
     "text": [
      "Status of sim txjtls3Q: completed in 15.6 seconds"
     ]
    },
    {
     "name": "stdout",
     "output_type": "stream",
     "text": [
      "\n"
     ]
    },
    {
     "name": "stdout",
     "output_type": "stream",
     "text": [
      "Status of sim 5VlMOBIk: completed in 15.7 seconds"
     ]
    },
    {
     "name": "stdout",
     "output_type": "stream",
     "text": [
      "\n"
     ]
    },
    {
     "name": "stdout",
     "output_type": "stream",
     "text": [
      "New stream: 'sirepo_flyer'\n"
     ]
    },
    {
     "name": "stdout",
     "output_type": "stream",
     "text": [
      "copy txjtls3Q data hash: d5d6628d50bd65a329717e8ffb942224\n",
      "copy IvIQjhEN data hash: d6f8b77048fe6ad48e007cfb776528ad\n"
     ]
    },
    {
     "name": "stdout",
     "output_type": "stream",
     "text": [
      "copy 5VlMOBIk data hash: e5f914471d873f156c31815ab705575f\n",
      "\n",
      "\n",
      "\n"
     ]
    },
    {
     "name": "stderr",
     "output_type": "stream",
     "text": [
      "/usr/share/miniconda3/envs/sirepo-bluesky-py3.9/lib/python3.9/site-packages/event_model/__init__.py:208: UserWarning: The document type 'bulk_events' has been deprecated in favor of 'event_page', whose structure is a transpose of 'bulk_events'.\n",
      "  warnings.warn(\n"
     ]
    }
   ],
   "source": [
    "sirepo_flyer = sf.SirepoFlyer(sim_id=\"00000000\",\n",
    "                              server_name=\"http://localhost:8000\",\n",
    "                              root_dir=\"/tmp/sirepo-bluesky-data\",\n",
    "                              params_to_change=params_to_change,\n",
    "                              watch_name=\"W60\")\n",
    "\n",
    "uid, = RE(bp.fly([sirepo_flyer]))"
   ]
  },
  {
   "cell_type": "markdown",
   "metadata": {},
   "source": [
    "We access the data in the same manner as before:"
   ]
  },
  {
   "cell_type": "code",
   "execution_count": 9,
   "metadata": {
    "execution": {
     "iopub.execute_input": "2022-03-11T17:57:09.996969Z",
     "iopub.status.busy": "2022-03-11T17:57:09.996685Z",
     "iopub.status.idle": "2022-03-11T17:57:10.045231Z",
     "shell.execute_reply": "2022-03-11T17:57:10.044696Z"
    }
   },
   "outputs": [
    {
     "data": {
      "text/html": [
       "<div>\n",
       "<style scoped>\n",
       "    .dataframe tbody tr th:only-of-type {\n",
       "        vertical-align: middle;\n",
       "    }\n",
       "\n",
       "    .dataframe tbody tr th {\n",
       "        vertical-align: top;\n",
       "    }\n",
       "\n",
       "    .dataframe thead th {\n",
       "        text-align: right;\n",
       "    }\n",
       "</style>\n",
       "<table border=\"1\" class=\"dataframe\">\n",
       "  <thead>\n",
       "    <tr style=\"text-align: right;\">\n",
       "      <th></th>\n",
       "      <th>time</th>\n",
       "      <th>sirepo_flyer_image</th>\n",
       "      <th>sirepo_flyer_shape</th>\n",
       "      <th>sirepo_flyer_mean</th>\n",
       "      <th>sirepo_flyer_photon_energy</th>\n",
       "      <th>sirepo_flyer_horizontal_extent</th>\n",
       "      <th>sirepo_flyer_vertical_extent</th>\n",
       "      <th>sirepo_flyer_hash_value</th>\n",
       "      <th>sirepo_flyer_status</th>\n",
       "      <th>sirepo_flyer_duration</th>\n",
       "      <th>sirepo_flyer_Aperture_horizontalSize</th>\n",
       "      <th>sirepo_flyer_Aperture_verticalSize</th>\n",
       "      <th>sirepo_flyer_Lens_horizontalFocalLength</th>\n",
       "      <th>sirepo_flyer_Obstacle_horizontalSize</th>\n",
       "    </tr>\n",
       "    <tr>\n",
       "      <th>seq_num</th>\n",
       "      <th></th>\n",
       "      <th></th>\n",
       "      <th></th>\n",
       "      <th></th>\n",
       "      <th></th>\n",
       "      <th></th>\n",
       "      <th></th>\n",
       "      <th></th>\n",
       "      <th></th>\n",
       "      <th></th>\n",
       "      <th></th>\n",
       "      <th></th>\n",
       "      <th></th>\n",
       "      <th></th>\n",
       "    </tr>\n",
       "  </thead>\n",
       "  <tbody>\n",
       "    <tr>\n",
       "      <th>2</th>\n",
       "      <td>2022-03-11 17:57:09.983277082</td>\n",
       "      <td>fbba1c58-c7a3-4e09-91ee-c5d4ae35e11b</td>\n",
       "      <td>[250, 546]</td>\n",
       "      <td>9.944933e+13</td>\n",
       "      <td>4240.0</td>\n",
       "      <td>[-0.001015813953488372, 0.0010120930232558139]</td>\n",
       "      <td>[-0.000249500998003992, 0.00024750499001996017]</td>\n",
       "      <td>d6f8b77048fe6ad48e007cfb776528ad</td>\n",
       "      <td>completed</td>\n",
       "      <td>15.629804</td>\n",
       "      <td>0.2</td>\n",
       "      <td>1.4</td>\n",
       "      <td>9</td>\n",
       "      <td>4</td>\n",
       "    </tr>\n",
       "    <tr>\n",
       "      <th>3</th>\n",
       "      <td>2022-03-11 17:57:09.983277082</td>\n",
       "      <td>47a1dec8-e199-4773-9f33-ce482552d7d1</td>\n",
       "      <td>[250, 440]</td>\n",
       "      <td>1.492891e+14</td>\n",
       "      <td>4240.0</td>\n",
       "      <td>[-0.0009701657458563539, 0.0009701657458563542]</td>\n",
       "      <td>[-0.00024650698602794426, 0.0002504990019960079]</td>\n",
       "      <td>e5f914471d873f156c31815ab705575f</td>\n",
       "      <td>completed</td>\n",
       "      <td>15.749100</td>\n",
       "      <td>0.3</td>\n",
       "      <td>1.3</td>\n",
       "      <td>10</td>\n",
       "      <td>3</td>\n",
       "    </tr>\n",
       "    <tr>\n",
       "      <th>1</th>\n",
       "      <td>2022-03-11 17:57:09.983277082</td>\n",
       "      <td>d6a7d527-4b39-4a65-8f28-34d1cefd2705</td>\n",
       "      <td>[250, 896]</td>\n",
       "      <td>3.677965e+13</td>\n",
       "      <td>4240.0</td>\n",
       "      <td>[-0.0013627376425855513, 0.0013596958174904943]</td>\n",
       "      <td>[-0.000249500998003992, 0.00024750499001996017]</td>\n",
       "      <td>d5d6628d50bd65a329717e8ffb942224</td>\n",
       "      <td>completed</td>\n",
       "      <td>10.489749</td>\n",
       "      <td>0.1</td>\n",
       "      <td>1.5</td>\n",
       "      <td>8</td>\n",
       "      <td>5</td>\n",
       "    </tr>\n",
       "  </tbody>\n",
       "</table>\n",
       "</div>"
      ],
      "text/plain": [
       "                                 time                    sirepo_flyer_image  \\\n",
       "seq_num                                                                       \n",
       "2       2022-03-11 17:57:09.983277082  fbba1c58-c7a3-4e09-91ee-c5d4ae35e11b   \n",
       "3       2022-03-11 17:57:09.983277082  47a1dec8-e199-4773-9f33-ce482552d7d1   \n",
       "1       2022-03-11 17:57:09.983277082  d6a7d527-4b39-4a65-8f28-34d1cefd2705   \n",
       "\n",
       "        sirepo_flyer_shape  sirepo_flyer_mean  sirepo_flyer_photon_energy  \\\n",
       "seq_num                                                                     \n",
       "2               [250, 546]       9.944933e+13                      4240.0   \n",
       "3               [250, 440]       1.492891e+14                      4240.0   \n",
       "1               [250, 896]       3.677965e+13                      4240.0   \n",
       "\n",
       "                          sirepo_flyer_horizontal_extent  \\\n",
       "seq_num                                                    \n",
       "2         [-0.001015813953488372, 0.0010120930232558139]   \n",
       "3        [-0.0009701657458563539, 0.0009701657458563542]   \n",
       "1        [-0.0013627376425855513, 0.0013596958174904943]   \n",
       "\n",
       "                             sirepo_flyer_vertical_extent  \\\n",
       "seq_num                                                     \n",
       "2         [-0.000249500998003992, 0.00024750499001996017]   \n",
       "3        [-0.00024650698602794426, 0.0002504990019960079]   \n",
       "1         [-0.000249500998003992, 0.00024750499001996017]   \n",
       "\n",
       "                  sirepo_flyer_hash_value sirepo_flyer_status  \\\n",
       "seq_num                                                         \n",
       "2        d6f8b77048fe6ad48e007cfb776528ad           completed   \n",
       "3        e5f914471d873f156c31815ab705575f           completed   \n",
       "1        d5d6628d50bd65a329717e8ffb942224           completed   \n",
       "\n",
       "         sirepo_flyer_duration  sirepo_flyer_Aperture_horizontalSize  \\\n",
       "seq_num                                                                \n",
       "2                    15.629804                                   0.2   \n",
       "3                    15.749100                                   0.3   \n",
       "1                    10.489749                                   0.1   \n",
       "\n",
       "         sirepo_flyer_Aperture_verticalSize  \\\n",
       "seq_num                                       \n",
       "2                                       1.4   \n",
       "3                                       1.3   \n",
       "1                                       1.5   \n",
       "\n",
       "         sirepo_flyer_Lens_horizontalFocalLength  \\\n",
       "seq_num                                            \n",
       "2                                              9   \n",
       "3                                             10   \n",
       "1                                              8   \n",
       "\n",
       "         sirepo_flyer_Obstacle_horizontalSize  \n",
       "seq_num                                        \n",
       "2                                           4  \n",
       "3                                           3  \n",
       "1                                           5  "
      ]
     },
     "execution_count": 9,
     "metadata": {},
     "output_type": "execute_result"
    }
   ],
   "source": [
    "hdr = db[uid]\n",
    "hdr.table(stream_name=\"sirepo_flyer\")"
   ]
  }
 ],
 "metadata": {
  "kernelspec": {
   "display_name": "Python 3",
   "language": "python",
   "name": "python3"
  },
  "language_info": {
   "codemirror_mode": {
    "name": "ipython",
    "version": 3
   },
   "file_extension": ".py",
   "mimetype": "text/x-python",
   "name": "python",
   "nbconvert_exporter": "python",
   "pygments_lexer": "ipython3",
   "version": "3.9.10"
  }
 },
 "nbformat": 4,
 "nbformat_minor": 4
}
