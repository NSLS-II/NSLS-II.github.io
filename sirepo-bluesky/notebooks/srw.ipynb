{
 "cells": [
  {
   "cell_type": "markdown",
   "metadata": {},
   "source": [
    "# Run Sirepo/SRW simulations with Bluesky\n",
    "\n",
    "This section is based on the **Young's Double Slit Experiment** Sirepo example\n",
    "that can be found in the wavefront propagation folder on the SRW simulations\n",
    "section.\n",
    "\n",
    "**Hint**: See the [List of predefined simulations in Sirepo](../simulations.rst) for examples of identifiers for different beamlines."
   ]
  },
  {
   "cell_type": "markdown",
   "metadata": {},
   "source": [
    "## Run \"Source\" SRW simulations\n",
    "\n",
    "In this example, we run a simulation using the \"Single-Electron Spectrum\" report on the \"Source\" page of Sirepo/SRW app."
   ]
  },
  {
   "cell_type": "code",
   "execution_count": 1,
   "metadata": {
    "execution": {
     "iopub.execute_input": "2023-05-26T14:26:23.758498Z",
     "iopub.status.busy": "2023-05-26T14:26:23.758179Z",
     "iopub.status.idle": "2023-05-26T14:26:31.128013Z",
     "shell.execute_reply": "2023-05-26T14:26:31.127397Z"
    }
   },
   "outputs": [
    {
     "name": "stdout",
     "output_type": "stream",
     "text": [
      "No module named 'xraylib'\n"
     ]
    },
    {
     "name": "stdout",
     "output_type": "stream",
     "text": [
      "\n",
      "\n",
      "Transient Scan ID: 1     Time: 2023-05-26 14:26:25\n",
      "Persistent Unique Scan ID: '9ad89d1d-322e-41d2-bc48-bd53ebf0fdd1'\n"
     ]
    },
    {
     "name": "stdout",
     "output_type": "stream",
     "text": [
      "New stream: 'primary'\n",
      "+-----------+------------+--------------+------------------+\n",
      "|   seq_num |       time | srw_det_mean | srw_det_duration |\n",
      "+-----------+------------+--------------+------------------+\n",
      "|         1 | 14:26:31.0 | 9721365919945.510 |            5.114 |\n",
      "+-----------+------------+--------------+------------------+\n",
      "generator count ['9ad89d1d'] (scan num: 1)\n",
      "\n",
      "\n",
      "\n"
     ]
    }
   ],
   "source": [
    "%run -i ../../../examples/prepare_det_env.py\n",
    "\n",
    "import sirepo_bluesky.srw_detector as sd\n",
    "import bluesky.plans as bp\n",
    "\n",
    "srw_det = sd.SirepoSRWDetector(sim_id=\"00000000\", sim_type=\"srw\",\n",
    "                               source_simulation=True,\n",
    "                               sirepo_server=\"http://localhost:8000\",\n",
    "                               root_dir=\"/tmp/sirepo-bluesky-data\")\n",
    "\n",
    "srw_det.configuration_attrs = [\"photon_energy\", \"shape\"]\n",
    "srw_det.duration.kind = 'hinted'\n",
    "\n",
    "uid, = RE(bp.count([srw_det]))"
   ]
  },
  {
   "cell_type": "markdown",
   "metadata": {},
   "source": [
    "We can observe the produced spectrum as:"
   ]
  },
  {
   "cell_type": "code",
   "execution_count": 2,
   "metadata": {
    "execution": {
     "iopub.execute_input": "2023-05-26T14:26:31.131122Z",
     "iopub.status.busy": "2023-05-26T14:26:31.130505Z",
     "iopub.status.idle": "2023-05-26T14:26:31.327457Z",
     "shell.execute_reply": "2023-05-26T14:26:31.326821Z"
    }
   },
   "outputs": [
    {
     "data": {
      "text/plain": [
       "[<matplotlib.lines.Line2D at 0x7fe4c5b62c70>]"
      ]
     },
     "execution_count": 2,
     "metadata": {},
     "output_type": "execute_result"
    },
    {
     "data": {
      "image/png": "[encoded data removed]",
      "text/plain": [
       "<Figure size 640x480 with 1 Axes>"
      ]
     },
     "metadata": {},
     "output_type": "display_data"
    }
   ],
   "source": [
    "hdr = db[uid]\n",
    "cfg = hdr.config_data(srw_det.name)[\"primary\"][0]\n",
    "energies = cfg[f\"{srw_det.name}_photon_energy\"]\n",
    "spectrum, = hdr.data(f\"{srw_det.name}_image\")\n",
    "plt.plot(energies, spectrum)"
   ]
  },
  {
   "cell_type": "markdown",
   "metadata": {},
   "source": [
    "## Run \"Beamline\" SRW simulations sequentially\n",
    "\n",
    "In this example, we scan the horizontal size of the aperture and collect the resulting averaged intensities and corresponding 2D intensity distributions from the \"Watchpoint\" report on the \"Beamline\" page of Sirepo/SRW app."
   ]
  },
  {
   "cell_type": "markdown",
   "metadata": {},
   "source": [
    "Start ``ipython`` and run the code in the following cell. Note that ``sim_id`` may be replaced by the identifier for any supported Sirepo simulation."
   ]
  },
  {
   "cell_type": "code",
   "execution_count": 3,
   "metadata": {
    "execution": {
     "iopub.execute_input": "2023-05-26T14:26:31.330122Z",
     "iopub.status.busy": "2023-05-26T14:26:31.329892Z",
     "iopub.status.idle": "2023-05-26T14:27:30.596975Z",
     "shell.execute_reply": "2023-05-26T14:27:30.596337Z"
    }
   },
   "outputs": [
    {
     "name": "stdout",
     "output_type": "stream",
     "text": [
      "\n",
      "\n",
      "Transient Scan ID: 1     Time: 2023-05-26 14:26:31\n",
      "Persistent Unique Scan ID: 'af24e026-ab38-45b0-b122-50b73e864f9d'\n"
     ]
    },
    {
     "name": "stdout",
     "output_type": "stream",
     "text": [
      "New stream: 'primary'\n",
      "+-----------+------------+--------------------------------+--------------+------------------+\n",
      "|   seq_num |       time | Aperture_sirepo_horizontalSize | srw_det_mean | srw_det_duration |\n",
      "+-----------+------------+--------------------------------+--------------+------------------+\n",
      "|         1 | 14:26:36.6 |                          0.000 |        0.000 |            5.112 |\n"
     ]
    },
    {
     "name": "stdout",
     "output_type": "stream",
     "text": [
      "|         2 | 14:26:41.9 |                          0.025 | 1555207921769.845 |            5.176 |\n"
     ]
    },
    {
     "name": "stdout",
     "output_type": "stream",
     "text": [
      "|         3 | 14:26:47.3 |                          0.050 | 4662310199493.528 |            5.183 |\n"
     ]
    },
    {
     "name": "stdout",
     "output_type": "stream",
     "text": [
      "|         4 | 14:26:52.6 |                          0.075 | 6655467645389.955 |            5.178 |\n"
     ]
    },
    {
     "name": "stdout",
     "output_type": "stream",
     "text": [
      "|         5 | 14:26:58.0 |                          0.100 | 8312082100422.471 |            5.175 |\n"
     ]
    },
    {
     "name": "stdout",
     "output_type": "stream",
     "text": [
      "|         6 | 14:27:03.3 |                          0.125 | 10838241530711.086 |            5.180 |\n"
     ]
    },
    {
     "name": "stdout",
     "output_type": "stream",
     "text": [
      "|         7 | 14:27:08.7 |                          0.150 | 12368326246643.777 |            5.175 |\n"
     ]
    },
    {
     "name": "stdout",
     "output_type": "stream",
     "text": [
      "|         8 | 14:27:14.0 |                          0.175 | 17773014235199.816 |            5.169 |\n"
     ]
    },
    {
     "name": "stdout",
     "output_type": "stream",
     "text": [
      "|         9 | 14:27:19.4 |                          0.200 | 19506043410022.797 |            5.170 |\n"
     ]
    },
    {
     "name": "stdout",
     "output_type": "stream",
     "text": [
      "|        10 | 14:27:24.7 |                          0.225 | 22993350158054.234 |            5.163 |\n"
     ]
    },
    {
     "name": "stdout",
     "output_type": "stream",
     "text": [
      "|        11 | 14:27:30.0 |                          0.250 | 26660776646668.676 |            5.166 |\n"
     ]
    },
    {
     "name": "stdout",
     "output_type": "stream",
     "text": [
      "+-----------+------------+--------------------------------+--------------+------------------+\n",
      "generator scan ['af24e026'] (scan num: 1)\n",
      "\n",
      "\n",
      "\n"
     ]
    },
    {
     "data": {
      "image/png": "[encoded data removed]",
      "text/plain": [
       "<Figure size 500x1000 with 2 Axes>"
      ]
     },
     "metadata": {},
     "output_type": "display_data"
    }
   ],
   "source": [
    "%run -i ../../../examples/prepare_det_env.py\n",
    "\n",
    "import sirepo_bluesky.srw_detector as sd\n",
    "import bluesky.plans as bp\n",
    "\n",
    "srw_det = sd.SirepoSRWDetector(sim_id=\"00000000\", sim_type=\"srw\",\n",
    "                               sirepo_server=\"http://localhost:8000\",\n",
    "                               root_dir=\"/tmp/sirepo-bluesky-data\")\n",
    "\n",
    "srw_det.select_optic(\"Aperture\")\n",
    "param1 = srw_det.create_parameter(\"horizontalSize\")\n",
    "param2 = srw_det.create_parameter(\"verticalSize\")\n",
    "srw_det.configuration_attrs = [\"horizontal_extent\", \"vertical_extent\", \"shape\"]\n",
    "srw_det.duration.kind = 'hinted'\n",
    "\n",
    "uid, = RE(bp.scan([srw_det], param1, 0.0, 0.25, 11))"
   ]
  },
  {
   "cell_type": "markdown",
   "metadata": {},
   "source": [
    "We can access the data as the last item in the database (`db[-1]`) or directly via the returned `uid`, which when plotted as an image will look like:"
   ]
  },
  {
   "cell_type": "code",
   "execution_count": 4,
   "metadata": {
    "execution": {
     "iopub.execute_input": "2023-05-26T14:27:30.599911Z",
     "iopub.status.busy": "2023-05-26T14:27:30.599556Z",
     "iopub.status.idle": "2023-05-26T14:27:30.658613Z",
     "shell.execute_reply": "2023-05-26T14:27:30.658057Z"
    }
   },
   "outputs": [
    {
     "data": {
      "text/html": [
       "<div>\n",
       "<style scoped>\n",
       "    .dataframe tbody tr th:only-of-type {\n",
       "        vertical-align: middle;\n",
       "    }\n",
       "\n",
       "    .dataframe tbody tr th {\n",
       "        vertical-align: top;\n",
       "    }\n",
       "\n",
       "    .dataframe thead th {\n",
       "        text-align: right;\n",
       "    }\n",
       "</style>\n",
       "<table border=\"1\" class=\"dataframe\">\n",
       "  <thead>\n",
       "    <tr style=\"text-align: right;\">\n",
       "      <th></th>\n",
       "      <th>time</th>\n",
       "      <th>srw_det_image</th>\n",
       "      <th>srw_det_shape</th>\n",
       "      <th>srw_det_mean</th>\n",
       "      <th>srw_det_duration</th>\n",
       "      <th>srw_det_photon_energy</th>\n",
       "      <th>srw_det_horizontal_extent</th>\n",
       "      <th>srw_det_vertical_extent</th>\n",
       "      <th>srw_det_sirepo_json</th>\n",
       "      <th>Aperture_sirepo_horizontalSize</th>\n",
       "      <th>Aperture_sirepo_horizontalSize_setpoint</th>\n",
       "    </tr>\n",
       "    <tr>\n",
       "      <th>seq_num</th>\n",
       "      <th></th>\n",
       "      <th></th>\n",
       "      <th></th>\n",
       "      <th></th>\n",
       "      <th></th>\n",
       "      <th></th>\n",
       "      <th></th>\n",
       "      <th></th>\n",
       "      <th></th>\n",
       "      <th></th>\n",
       "      <th></th>\n",
       "    </tr>\n",
       "  </thead>\n",
       "  <tbody>\n",
       "    <tr>\n",
       "      <th>1</th>\n",
       "      <td>2023-05-26 14:26:36.641255617</td>\n",
       "      <td>1393cd04-44a0-4dec-9959-aa901c0e13e8/0</td>\n",
       "      <td>[168, 88]</td>\n",
       "      <td>0.000000e+00</td>\n",
       "      <td>5.111998</td>\n",
       "      <td>4240.0</td>\n",
       "      <td>[-0.0004, 0.0004]</td>\n",
       "      <td>[-0.0005, 0.0005000000000000002]</td>\n",
       "      <td>{\"models\": {\"arbitraryMagField\": {\"interpolati...</td>\n",
       "      <td>0.000</td>\n",
       "      <td>0.000</td>\n",
       "    </tr>\n",
       "    <tr>\n",
       "      <th>2</th>\n",
       "      <td>2023-05-26 14:26:41.986629009</td>\n",
       "      <td>a2804f73-2d86-4b7e-8644-508fb0a0ac4c/0</td>\n",
       "      <td>[294, 120]</td>\n",
       "      <td>1.555208e+12</td>\n",
       "      <td>5.175988</td>\n",
       "      <td>4240.0</td>\n",
       "      <td>[-0.0005471264367816092, 0.0005471264367816092]</td>\n",
       "      <td>[-0.000877245508982036, 0.0008772455089820358]</td>\n",
       "      <td>{\"models\": {\"arbitraryMagField\": {\"interpolati...</td>\n",
       "      <td>0.025</td>\n",
       "      <td>0.025</td>\n",
       "    </tr>\n",
       "    <tr>\n",
       "      <th>3</th>\n",
       "      <td>2023-05-26 14:26:47.346852303</td>\n",
       "      <td>2659efa4-cc44-4555-96d8-93b710483e81/0</td>\n",
       "      <td>[294, 120]</td>\n",
       "      <td>4.662310e+12</td>\n",
       "      <td>5.182647</td>\n",
       "      <td>4240.0</td>\n",
       "      <td>[-0.0005471264367816092, 0.0005471264367816092]</td>\n",
       "      <td>[-0.000877245508982036, 0.0008772455089820358]</td>\n",
       "      <td>{\"models\": {\"arbitraryMagField\": {\"interpolati...</td>\n",
       "      <td>0.050</td>\n",
       "      <td>0.050</td>\n",
       "    </tr>\n",
       "    <tr>\n",
       "      <th>4</th>\n",
       "      <td>2023-05-26 14:26:52.689451218</td>\n",
       "      <td>a992122f-127f-4d2e-a52d-50084ea1586d/0</td>\n",
       "      <td>[294, 112]</td>\n",
       "      <td>6.655468e+12</td>\n",
       "      <td>5.178051</td>\n",
       "      <td>4240.0</td>\n",
       "      <td>[-0.000510344827586207, 0.000510344827586207]</td>\n",
       "      <td>[-0.000877245508982036, 0.0008772455089820358]</td>\n",
       "      <td>{\"models\": {\"arbitraryMagField\": {\"interpolati...</td>\n",
       "      <td>0.075</td>\n",
       "      <td>0.075</td>\n",
       "    </tr>\n",
       "    <tr>\n",
       "      <th>5</th>\n",
       "      <td>2023-05-26 14:26:58.031511545</td>\n",
       "      <td>dc68adce-92e3-4407-af71-04171d769e33/0</td>\n",
       "      <td>[294, 112]</td>\n",
       "      <td>8.312082e+12</td>\n",
       "      <td>5.175017</td>\n",
       "      <td>4240.0</td>\n",
       "      <td>[-0.000510344827586207, 0.000510344827586207]</td>\n",
       "      <td>[-0.000877245508982036, 0.0008772455089820358]</td>\n",
       "      <td>{\"models\": {\"arbitraryMagField\": {\"interpolati...</td>\n",
       "      <td>0.100</td>\n",
       "      <td>0.100</td>\n",
       "    </tr>\n",
       "    <tr>\n",
       "      <th>6</th>\n",
       "      <td>2023-05-26 14:27:03.377835989</td>\n",
       "      <td>fda68872-515a-48bf-ba23-f3f48f28e1b6/0</td>\n",
       "      <td>[294, 120]</td>\n",
       "      <td>1.083824e+13</td>\n",
       "      <td>5.180246</td>\n",
       "      <td>4240.0</td>\n",
       "      <td>[-0.0005471264367816092, 0.0005471264367816092]</td>\n",
       "      <td>[-0.000877245508982036, 0.0008772455089820358]</td>\n",
       "      <td>{\"models\": {\"arbitraryMagField\": {\"interpolati...</td>\n",
       "      <td>0.125</td>\n",
       "      <td>0.125</td>\n",
       "    </tr>\n",
       "    <tr>\n",
       "      <th>7</th>\n",
       "      <td>2023-05-26 14:27:08.724887848</td>\n",
       "      <td>2f8c2b1d-b2dd-4448-8ef3-0c16fea7b49c/0</td>\n",
       "      <td>[294, 120]</td>\n",
       "      <td>1.236833e+13</td>\n",
       "      <td>5.175254</td>\n",
       "      <td>4240.0</td>\n",
       "      <td>[-0.0005471264367816092, 0.0005471264367816092]</td>\n",
       "      <td>[-0.000877245508982036, 0.0008772455089820358]</td>\n",
       "      <td>{\"models\": {\"arbitraryMagField\": {\"interpolati...</td>\n",
       "      <td>0.150</td>\n",
       "      <td>0.150</td>\n",
       "    </tr>\n",
       "    <tr>\n",
       "      <th>8</th>\n",
       "      <td>2023-05-26 14:27:14.060825825</td>\n",
       "      <td>43c43734-bda2-45cf-bd41-c30d733c01d9/0</td>\n",
       "      <td>[294, 104]</td>\n",
       "      <td>1.777301e+13</td>\n",
       "      <td>5.168770</td>\n",
       "      <td>4240.0</td>\n",
       "      <td>[-0.0004735632183908046, 0.0004735632183908046]</td>\n",
       "      <td>[-0.000877245508982036, 0.0008772455089820358]</td>\n",
       "      <td>{\"models\": {\"arbitraryMagField\": {\"interpolati...</td>\n",
       "      <td>0.175</td>\n",
       "      <td>0.175</td>\n",
       "    </tr>\n",
       "    <tr>\n",
       "      <th>9</th>\n",
       "      <td>2023-05-26 14:27:19.425687313</td>\n",
       "      <td>da8c3c36-e835-4de5-ae57-4f5f8bbc7c71/0</td>\n",
       "      <td>[294, 104]</td>\n",
       "      <td>1.950604e+13</td>\n",
       "      <td>5.169951</td>\n",
       "      <td>4240.0</td>\n",
       "      <td>[-0.0004735632183908046, 0.0004735632183908046]</td>\n",
       "      <td>[-0.000877245508982036, 0.0008772455089820358]</td>\n",
       "      <td>{\"models\": {\"arbitraryMagField\": {\"interpolati...</td>\n",
       "      <td>0.200</td>\n",
       "      <td>0.200</td>\n",
       "    </tr>\n",
       "    <tr>\n",
       "      <th>10</th>\n",
       "      <td>2023-05-26 14:27:24.743318081</td>\n",
       "      <td>b082929f-0484-4c03-ba4b-70670ee03e3c/0</td>\n",
       "      <td>[294, 96]</td>\n",
       "      <td>2.299335e+13</td>\n",
       "      <td>5.162574</td>\n",
       "      <td>4240.0</td>\n",
       "      <td>[-0.0004367816091954023, 0.0004367816091954023]</td>\n",
       "      <td>[-0.000877245508982036, 0.0008772455089820358]</td>\n",
       "      <td>{\"models\": {\"arbitraryMagField\": {\"interpolati...</td>\n",
       "      <td>0.225</td>\n",
       "      <td>0.225</td>\n",
       "    </tr>\n",
       "    <tr>\n",
       "      <th>11</th>\n",
       "      <td>2023-05-26 14:27:30.067280531</td>\n",
       "      <td>aefd4231-762d-4bc8-a24a-495def16994c/0</td>\n",
       "      <td>[294, 96]</td>\n",
       "      <td>2.666078e+13</td>\n",
       "      <td>5.166371</td>\n",
       "      <td>4240.0</td>\n",
       "      <td>[-0.0004367816091954023, 0.0004367816091954023]</td>\n",
       "      <td>[-0.000877245508982036, 0.0008772455089820358]</td>\n",
       "      <td>{\"models\": {\"arbitraryMagField\": {\"interpolati...</td>\n",
       "      <td>0.250</td>\n",
       "      <td>0.250</td>\n",
       "    </tr>\n",
       "  </tbody>\n",
       "</table>\n",
       "</div>"
      ],
      "text/plain": [
       "                                 time                           srw_det_image   \n",
       "seq_num                                                                         \n",
       "1       2023-05-26 14:26:36.641255617  1393cd04-44a0-4dec-9959-aa901c0e13e8/0  \\\n",
       "2       2023-05-26 14:26:41.986629009  a2804f73-2d86-4b7e-8644-508fb0a0ac4c/0   \n",
       "3       2023-05-26 14:26:47.346852303  2659efa4-cc44-4555-96d8-93b710483e81/0   \n",
       "4       2023-05-26 14:26:52.689451218  a992122f-127f-4d2e-a52d-50084ea1586d/0   \n",
       "5       2023-05-26 14:26:58.031511545  dc68adce-92e3-4407-af71-04171d769e33/0   \n",
       "6       2023-05-26 14:27:03.377835989  fda68872-515a-48bf-ba23-f3f48f28e1b6/0   \n",
       "7       2023-05-26 14:27:08.724887848  2f8c2b1d-b2dd-4448-8ef3-0c16fea7b49c/0   \n",
       "8       2023-05-26 14:27:14.060825825  43c43734-bda2-45cf-bd41-c30d733c01d9/0   \n",
       "9       2023-05-26 14:27:19.425687313  da8c3c36-e835-4de5-ae57-4f5f8bbc7c71/0   \n",
       "10      2023-05-26 14:27:24.743318081  b082929f-0484-4c03-ba4b-70670ee03e3c/0   \n",
       "11      2023-05-26 14:27:30.067280531  aefd4231-762d-4bc8-a24a-495def16994c/0   \n",
       "\n",
       "        srw_det_shape  srw_det_mean  srw_det_duration  srw_det_photon_energy   \n",
       "seq_num                                                                        \n",
       "1           [168, 88]  0.000000e+00          5.111998                 4240.0  \\\n",
       "2          [294, 120]  1.555208e+12          5.175988                 4240.0   \n",
       "3          [294, 120]  4.662310e+12          5.182647                 4240.0   \n",
       "4          [294, 112]  6.655468e+12          5.178051                 4240.0   \n",
       "5          [294, 112]  8.312082e+12          5.175017                 4240.0   \n",
       "6          [294, 120]  1.083824e+13          5.180246                 4240.0   \n",
       "7          [294, 120]  1.236833e+13          5.175254                 4240.0   \n",
       "8          [294, 104]  1.777301e+13          5.168770                 4240.0   \n",
       "9          [294, 104]  1.950604e+13          5.169951                 4240.0   \n",
       "10          [294, 96]  2.299335e+13          5.162574                 4240.0   \n",
       "11          [294, 96]  2.666078e+13          5.166371                 4240.0   \n",
       "\n",
       "                               srw_det_horizontal_extent   \n",
       "seq_num                                                    \n",
       "1                                      [-0.0004, 0.0004]  \\\n",
       "2        [-0.0005471264367816092, 0.0005471264367816092]   \n",
       "3        [-0.0005471264367816092, 0.0005471264367816092]   \n",
       "4          [-0.000510344827586207, 0.000510344827586207]   \n",
       "5          [-0.000510344827586207, 0.000510344827586207]   \n",
       "6        [-0.0005471264367816092, 0.0005471264367816092]   \n",
       "7        [-0.0005471264367816092, 0.0005471264367816092]   \n",
       "8        [-0.0004735632183908046, 0.0004735632183908046]   \n",
       "9        [-0.0004735632183908046, 0.0004735632183908046]   \n",
       "10       [-0.0004367816091954023, 0.0004367816091954023]   \n",
       "11       [-0.0004367816091954023, 0.0004367816091954023]   \n",
       "\n",
       "                                srw_det_vertical_extent   \n",
       "seq_num                                                   \n",
       "1                      [-0.0005, 0.0005000000000000002]  \\\n",
       "2        [-0.000877245508982036, 0.0008772455089820358]   \n",
       "3        [-0.000877245508982036, 0.0008772455089820358]   \n",
       "4        [-0.000877245508982036, 0.0008772455089820358]   \n",
       "5        [-0.000877245508982036, 0.0008772455089820358]   \n",
       "6        [-0.000877245508982036, 0.0008772455089820358]   \n",
       "7        [-0.000877245508982036, 0.0008772455089820358]   \n",
       "8        [-0.000877245508982036, 0.0008772455089820358]   \n",
       "9        [-0.000877245508982036, 0.0008772455089820358]   \n",
       "10       [-0.000877245508982036, 0.0008772455089820358]   \n",
       "11       [-0.000877245508982036, 0.0008772455089820358]   \n",
       "\n",
       "                                       srw_det_sirepo_json   \n",
       "seq_num                                                      \n",
       "1        {\"models\": {\"arbitraryMagField\": {\"interpolati...  \\\n",
       "2        {\"models\": {\"arbitraryMagField\": {\"interpolati...   \n",
       "3        {\"models\": {\"arbitraryMagField\": {\"interpolati...   \n",
       "4        {\"models\": {\"arbitraryMagField\": {\"interpolati...   \n",
       "5        {\"models\": {\"arbitraryMagField\": {\"interpolati...   \n",
       "6        {\"models\": {\"arbitraryMagField\": {\"interpolati...   \n",
       "7        {\"models\": {\"arbitraryMagField\": {\"interpolati...   \n",
       "8        {\"models\": {\"arbitraryMagField\": {\"interpolati...   \n",
       "9        {\"models\": {\"arbitraryMagField\": {\"interpolati...   \n",
       "10       {\"models\": {\"arbitraryMagField\": {\"interpolati...   \n",
       "11       {\"models\": {\"arbitraryMagField\": {\"interpolati...   \n",
       "\n",
       "         Aperture_sirepo_horizontalSize   \n",
       "seq_num                                   \n",
       "1                                 0.000  \\\n",
       "2                                 0.025   \n",
       "3                                 0.050   \n",
       "4                                 0.075   \n",
       "5                                 0.100   \n",
       "6                                 0.125   \n",
       "7                                 0.150   \n",
       "8                                 0.175   \n",
       "9                                 0.200   \n",
       "10                                0.225   \n",
       "11                                0.250   \n",
       "\n",
       "         Aperture_sirepo_horizontalSize_setpoint  \n",
       "seq_num                                           \n",
       "1                                          0.000  \n",
       "2                                          0.025  \n",
       "3                                          0.050  \n",
       "4                                          0.075  \n",
       "5                                          0.100  \n",
       "6                                          0.125  \n",
       "7                                          0.150  \n",
       "8                                          0.175  \n",
       "9                                          0.200  \n",
       "10                                         0.225  \n",
       "11                                         0.250  "
      ]
     },
     "execution_count": 4,
     "metadata": {},
     "output_type": "execute_result"
    }
   ],
   "source": [
    "hdr = db[uid]\n",
    "hdr.table()"
   ]
  },
  {
   "cell_type": "code",
   "execution_count": 5,
   "metadata": {
    "execution": {
     "iopub.execute_input": "2023-05-26T14:27:30.661442Z",
     "iopub.status.busy": "2023-05-26T14:27:30.660875Z",
     "iopub.status.idle": "2023-05-26T14:27:31.113300Z",
     "shell.execute_reply": "2023-05-26T14:27:31.112702Z"
    }
   },
   "outputs": [
    {
     "data": {
      "text/plain": [
       "<matplotlib.image.AxesImage at 0x7fe4c588e1f0>"
      ]
     },
     "execution_count": 5,
     "metadata": {},
     "output_type": "execute_result"
    },
    {
     "data": {
      "image/png": "[encoded data removed]",
      "text/plain": [
       "<Figure size 640x480 with 1 Axes>"
      ]
     },
     "metadata": {},
     "output_type": "display_data"
    }
   ],
   "source": [
    "imgs = list(hdr.data(f\"{srw_det.name}_image\"))\n",
    "cfg = hdr.config_data(srw_det.name)[\"primary\"][0]\n",
    "hor_ext = cfg[f\"{srw_det.name}_horizontal_extent\"]\n",
    "vert_ext = cfg[f\"{srw_det.name}_vertical_extent\"]\n",
    "plt.imshow(imgs[-2], aspect=\"equal\", extent=(*hor_ext, *vert_ext))"
   ]
  },
  {
   "cell_type": "markdown",
   "metadata": {},
   "source": [
    "## Run \"Beamline\" SRW simulations in parallel\n",
    "\n",
    "In this example, we are using [Bluesky's fly scans](https://blueskyproject.io/bluesky/async.html#flying)."
   ]
  },
  {
   "cell_type": "code",
   "execution_count": 6,
   "metadata": {
    "execution": {
     "iopub.execute_input": "2023-05-26T14:27:31.115925Z",
     "iopub.status.busy": "2023-05-26T14:27:31.115705Z",
     "iopub.status.idle": "2023-05-26T14:27:31.150400Z",
     "shell.execute_reply": "2023-05-26T14:27:31.149816Z"
    }
   },
   "outputs": [],
   "source": [
    "%run -i ../../../examples/prepare_flyer_env.py\n",
    "\n",
    "import bluesky.plans as bp\n",
    "import sirepo_bluesky.sirepo_flyer as sf"
   ]
  },
  {
   "cell_type": "markdown",
   "metadata": {},
   "source": [
    "We can create 3 different simulations that change 4 parameters at a time:"
   ]
  },
  {
   "cell_type": "code",
   "execution_count": 7,
   "metadata": {
    "execution": {
     "iopub.execute_input": "2023-05-26T14:27:31.153489Z",
     "iopub.status.busy": "2023-05-26T14:27:31.153168Z",
     "iopub.status.idle": "2023-05-26T14:27:31.158327Z",
     "shell.execute_reply": "2023-05-26T14:27:31.157774Z"
    }
   },
   "outputs": [],
   "source": [
    "params_to_change = []\n",
    "key1 = \"Aperture\"\n",
    "key2 = \"Lens\"\n",
    "key3 = \"Obstacle\"\n",
    "for i in range(1, 3 + 1):\n",
    "    parameters_update1 = {\"horizontalSize\": i * 0.1, \"verticalSize\": (16 - i) * 0.1}\n",
    "    parameters_update2 = {\"horizontalFocalLength\": i + 7}\n",
    "    parameters_update3 = {\"horizontalSize\": 6 - i}\n",
    "    params_to_change.append({key1: parameters_update1,\n",
    "                             key2: parameters_update2,\n",
    "                             key3: parameters_update3})"
   ]
  },
  {
   "cell_type": "markdown",
   "metadata": {},
   "source": [
    "To create the flyer and run a fly scan, where ``sim_id`` is the UID of this simulation, we run:"
   ]
  },
  {
   "cell_type": "code",
   "execution_count": 8,
   "metadata": {
    "execution": {
     "iopub.execute_input": "2023-05-26T14:27:31.160610Z",
     "iopub.status.busy": "2023-05-26T14:27:31.160409Z",
     "iopub.status.idle": "2023-05-26T14:27:48.717173Z",
     "shell.execute_reply": "2023-05-26T14:27:48.716339Z"
    }
   },
   "outputs": [
    {
     "name": "stdout",
     "output_type": "stream",
     "text": [
      "\n",
      "\n",
      "Transient Scan ID: 1     Time: 2023-05-26 14:27:31\n",
      "Persistent Unique Scan ID: '3a7b961e-c333-4502-8308-9b75870407e8'\n"
     ]
    },
    {
     "name": "stdout",
     "output_type": "stream",
     "text": [
      "copy 00000000 -> xiVb3x3c, Youngs Double Slit Experiment Bluesky\n",
      "copy 00000000 -> LYr49o63, Youngs Double Slit Experiment Bluesky 2\n",
      "copy 00000000 -> OZKiHQec, Youngs Double Slit Experiment Bluesky 3\n"
     ]
    },
    {
     "name": "stdout",
     "output_type": "stream",
     "text": [
      "running sim xiVb3x3c"
     ]
    },
    {
     "name": "stdout",
     "output_type": "stream",
     "text": [
      "\n"
     ]
    },
    {
     "name": "stdout",
     "output_type": "stream",
     "text": [
      "running sim LYr49o63"
     ]
    },
    {
     "name": "stdout",
     "output_type": "stream",
     "text": [
      "\n"
     ]
    },
    {
     "name": "stdout",
     "output_type": "stream",
     "text": [
      "running sim OZKiHQec"
     ]
    },
    {
     "name": "stdout",
     "output_type": "stream",
     "text": [
      "\n"
     ]
    },
    {
     "name": "stdout",
     "output_type": "stream",
     "text": [
      "Status of sim xiVb3x3c: completed in 11.1 seconds"
     ]
    },
    {
     "name": "stdout",
     "output_type": "stream",
     "text": [
      "\n"
     ]
    },
    {
     "name": "stdout",
     "output_type": "stream",
     "text": [
      "Status of sim LYr49o63: completed in 16.2 seconds"
     ]
    },
    {
     "name": "stdout",
     "output_type": "stream",
     "text": [
      "\n"
     ]
    },
    {
     "name": "stdout",
     "output_type": "stream",
     "text": [
      "Status of sim OZKiHQec: completed in 16.6 seconds"
     ]
    },
    {
     "name": "stdout",
     "output_type": "stream",
     "text": [
      "\n"
     ]
    },
    {
     "name": "stdout",
     "output_type": "stream",
     "text": [
      "New stream: 'sirepo_flyer'\n"
     ]
    },
    {
     "name": "stdout",
     "output_type": "stream",
     "text": [
      "copy xiVb3x3c data hash: d5d6628d50bd65a329717e8ffb942224\n",
      "copy LYr49o63 data hash: d6f8b77048fe6ad48e007cfb776528ad\n"
     ]
    },
    {
     "name": "stdout",
     "output_type": "stream",
     "text": [
      "copy OZKiHQec data hash: e5f914471d873f156c31815ab705575f\n",
      "\n",
      "\n",
      "\n"
     ]
    },
    {
     "name": "stderr",
     "output_type": "stream",
     "text": [
      "/usr/share/miniconda3/envs/sirepo-bluesky-py3.9/lib/python3.9/site-packages/event_model/__init__.py:224: UserWarning: The document type 'bulk_events' has been deprecated in favor of 'event_page', whose structure is a transpose of 'bulk_events'.\n",
      "  warnings.warn(\n"
     ]
    }
   ],
   "source": [
    "sirepo_flyer = sf.SirepoFlyer(sim_id=\"00000000\",\n",
    "                              server_name=\"http://localhost:8000\",\n",
    "                              root_dir=\"/tmp/sirepo-bluesky-data\",\n",
    "                              params_to_change=params_to_change,\n",
    "                              watch_name=\"W60\")\n",
    "\n",
    "uid, = RE(bp.fly([sirepo_flyer]))"
   ]
  },
  {
   "cell_type": "markdown",
   "metadata": {},
   "source": [
    "We access the data in the same manner as before:"
   ]
  },
  {
   "cell_type": "code",
   "execution_count": 9,
   "metadata": {
    "execution": {
     "iopub.execute_input": "2023-05-26T14:27:48.720876Z",
     "iopub.status.busy": "2023-05-26T14:27:48.720258Z",
     "iopub.status.idle": "2023-05-26T14:27:48.769652Z",
     "shell.execute_reply": "2023-05-26T14:27:48.768417Z"
    }
   },
   "outputs": [
    {
     "data": {
      "text/html": [
       "<div>\n",
       "<style scoped>\n",
       "    .dataframe tbody tr th:only-of-type {\n",
       "        vertical-align: middle;\n",
       "    }\n",
       "\n",
       "    .dataframe tbody tr th {\n",
       "        vertical-align: top;\n",
       "    }\n",
       "\n",
       "    .dataframe thead th {\n",
       "        text-align: right;\n",
       "    }\n",
       "</style>\n",
       "<table border=\"1\" class=\"dataframe\">\n",
       "  <thead>\n",
       "    <tr style=\"text-align: right;\">\n",
       "      <th></th>\n",
       "      <th>time</th>\n",
       "      <th>sirepo_flyer_image</th>\n",
       "      <th>sirepo_flyer_shape</th>\n",
       "      <th>sirepo_flyer_mean</th>\n",
       "      <th>sirepo_flyer_photon_energy</th>\n",
       "      <th>sirepo_flyer_horizontal_extent</th>\n",
       "      <th>sirepo_flyer_vertical_extent</th>\n",
       "      <th>sirepo_flyer_hash_value</th>\n",
       "      <th>sirepo_flyer_status</th>\n",
       "      <th>sirepo_flyer_duration</th>\n",
       "      <th>sirepo_flyer_Aperture_horizontalSize</th>\n",
       "      <th>sirepo_flyer_Aperture_verticalSize</th>\n",
       "      <th>sirepo_flyer_Lens_horizontalFocalLength</th>\n",
       "      <th>sirepo_flyer_Obstacle_horizontalSize</th>\n",
       "    </tr>\n",
       "    <tr>\n",
       "      <th>seq_num</th>\n",
       "      <th></th>\n",
       "      <th></th>\n",
       "      <th></th>\n",
       "      <th></th>\n",
       "      <th></th>\n",
       "      <th></th>\n",
       "      <th></th>\n",
       "      <th></th>\n",
       "      <th></th>\n",
       "      <th></th>\n",
       "      <th></th>\n",
       "      <th></th>\n",
       "      <th></th>\n",
       "      <th></th>\n",
       "    </tr>\n",
       "  </thead>\n",
       "  <tbody>\n",
       "    <tr>\n",
       "      <th>1</th>\n",
       "      <td>2023-05-26 14:27:48.706397772</td>\n",
       "      <td>5c336d60-40f4-432b-9236-47d4250832a8</td>\n",
       "      <td>[250, 896]</td>\n",
       "      <td>3.677965e+13</td>\n",
       "      <td>4240.0</td>\n",
       "      <td>[-0.0013627376425855513, 0.0013596958174904943]</td>\n",
       "      <td>[-0.000249500998003992, 0.00024750499001996017]</td>\n",
       "      <td>d5d6628d50bd65a329717e8ffb942224</td>\n",
       "      <td>completed</td>\n",
       "      <td>11.100678</td>\n",
       "      <td>0.1</td>\n",
       "      <td>1.5</td>\n",
       "      <td>8</td>\n",
       "      <td>5</td>\n",
       "    </tr>\n",
       "    <tr>\n",
       "      <th>3</th>\n",
       "      <td>2023-05-26 14:27:48.706397772</td>\n",
       "      <td>fe1bf57b-9914-4380-b919-6ed5102dea96</td>\n",
       "      <td>[250, 440]</td>\n",
       "      <td>1.492891e+14</td>\n",
       "      <td>4240.0</td>\n",
       "      <td>[-0.0009701657458563539, 0.0009701657458563542]</td>\n",
       "      <td>[-0.00024650698602794426, 0.0002504990019960079]</td>\n",
       "      <td>e5f914471d873f156c31815ab705575f</td>\n",
       "      <td>completed</td>\n",
       "      <td>16.567077</td>\n",
       "      <td>0.3</td>\n",
       "      <td>1.3</td>\n",
       "      <td>10</td>\n",
       "      <td>3</td>\n",
       "    </tr>\n",
       "    <tr>\n",
       "      <th>2</th>\n",
       "      <td>2023-05-26 14:27:48.706397772</td>\n",
       "      <td>139a5b1b-9641-494e-b7ae-112aa8ad8a2f</td>\n",
       "      <td>[250, 546]</td>\n",
       "      <td>9.944933e+13</td>\n",
       "      <td>4240.0</td>\n",
       "      <td>[-0.001015813953488372, 0.0010120930232558139]</td>\n",
       "      <td>[-0.000249500998003992, 0.00024750499001996017]</td>\n",
       "      <td>d6f8b77048fe6ad48e007cfb776528ad</td>\n",
       "      <td>completed</td>\n",
       "      <td>16.157343</td>\n",
       "      <td>0.2</td>\n",
       "      <td>1.4</td>\n",
       "      <td>9</td>\n",
       "      <td>4</td>\n",
       "    </tr>\n",
       "  </tbody>\n",
       "</table>\n",
       "</div>"
      ],
      "text/plain": [
       "                                 time                    sirepo_flyer_image   \n",
       "seq_num                                                                       \n",
       "1       2023-05-26 14:27:48.706397772  5c336d60-40f4-432b-9236-47d4250832a8  \\\n",
       "3       2023-05-26 14:27:48.706397772  fe1bf57b-9914-4380-b919-6ed5102dea96   \n",
       "2       2023-05-26 14:27:48.706397772  139a5b1b-9641-494e-b7ae-112aa8ad8a2f   \n",
       "\n",
       "        sirepo_flyer_shape  sirepo_flyer_mean  sirepo_flyer_photon_energy   \n",
       "seq_num                                                                     \n",
       "1               [250, 896]       3.677965e+13                      4240.0  \\\n",
       "3               [250, 440]       1.492891e+14                      4240.0   \n",
       "2               [250, 546]       9.944933e+13                      4240.0   \n",
       "\n",
       "                          sirepo_flyer_horizontal_extent   \n",
       "seq_num                                                    \n",
       "1        [-0.0013627376425855513, 0.0013596958174904943]  \\\n",
       "3        [-0.0009701657458563539, 0.0009701657458563542]   \n",
       "2         [-0.001015813953488372, 0.0010120930232558139]   \n",
       "\n",
       "                             sirepo_flyer_vertical_extent   \n",
       "seq_num                                                     \n",
       "1         [-0.000249500998003992, 0.00024750499001996017]  \\\n",
       "3        [-0.00024650698602794426, 0.0002504990019960079]   \n",
       "2         [-0.000249500998003992, 0.00024750499001996017]   \n",
       "\n",
       "                  sirepo_flyer_hash_value sirepo_flyer_status   \n",
       "seq_num                                                         \n",
       "1        d5d6628d50bd65a329717e8ffb942224           completed  \\\n",
       "3        e5f914471d873f156c31815ab705575f           completed   \n",
       "2        d6f8b77048fe6ad48e007cfb776528ad           completed   \n",
       "\n",
       "         sirepo_flyer_duration  sirepo_flyer_Aperture_horizontalSize   \n",
       "seq_num                                                                \n",
       "1                    11.100678                                   0.1  \\\n",
       "3                    16.567077                                   0.3   \n",
       "2                    16.157343                                   0.2   \n",
       "\n",
       "         sirepo_flyer_Aperture_verticalSize   \n",
       "seq_num                                       \n",
       "1                                       1.5  \\\n",
       "3                                       1.3   \n",
       "2                                       1.4   \n",
       "\n",
       "         sirepo_flyer_Lens_horizontalFocalLength   \n",
       "seq_num                                            \n",
       "1                                              8  \\\n",
       "3                                             10   \n",
       "2                                              9   \n",
       "\n",
       "         sirepo_flyer_Obstacle_horizontalSize  \n",
       "seq_num                                        \n",
       "1                                           5  \n",
       "3                                           3  \n",
       "2                                           4  "
      ]
     },
     "execution_count": 9,
     "metadata": {},
     "output_type": "execute_result"
    }
   ],
   "source": [
    "hdr = db[uid]\n",
    "hdr.table(stream_name=\"sirepo_flyer\")"
   ]
  }
 ],
 "metadata": {
  "kernelspec": {
   "display_name": "Python 3",
   "language": "python",
   "name": "python3"
  },
  "language_info": {
   "codemirror_mode": {
    "name": "ipython",
    "version": 3
   },
   "file_extension": ".py",
   "mimetype": "text/x-python",
   "name": "python",
   "nbconvert_exporter": "python",
   "pygments_lexer": "ipython3",
   "version": "3.9.16"
  }
 },
 "nbformat": 4,
 "nbformat_minor": 4
}
